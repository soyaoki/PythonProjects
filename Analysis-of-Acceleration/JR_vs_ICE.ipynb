{
 "cells": [
  {
   "cell_type": "code",
   "execution_count": 1,
   "metadata": {},
   "outputs": [],
   "source": [
    "import sys\n",
    "import numpy as np\n",
    "import matplotlib.pyplot as plt\n",
    "from statistics import mean, median,variance,stdev\n",
    "from scipy.stats import norm\n",
    "\n",
    "# from ipynb.fs.full.analyze_all import HI"
   ]
  },
  {
   "cell_type": "code",
   "execution_count": 2,
   "metadata": {},
   "outputs": [],
   "source": [
    "## Histogram Intersection ##\n",
    "def HI(a, b,N=100):\n",
    "    mini = min(min(a),min(b))\n",
    "    maxi = max(max(a),max(b))\n",
    "    a_hist, a_bins = np.histogram(a,bins=N,range=(mini,maxi),normed=True)\n",
    "    b_hist, b_bins = np.histogram(b,bins=N,range=(mini,maxi),normed=True)\n",
    "    HI = 0\n",
    "    for i in range(0, N-1):\n",
    "        HI = HI + min(a_hist[i], b_hist[i])\n",
    "    return HI"
   ]
  },
  {
   "cell_type": "code",
   "execution_count": 3,
   "metadata": {},
   "outputs": [],
   "source": [
    "## KLD(正規分布) ##\n",
    "def KLD(a, b):\n",
    "    a_mu = np.mean(a)\n",
    "    a_sigma = np.std(a)\n",
    "    b_mu = np.mean(b)\n",
    "    b_sigma = np.std(b)\n",
    "    \n",
    "    return np.log(b_sigma / b_sigma) + (a_sigma*a_sigma + (a_mu - b_mu)*(a_mu - b_mu))/(2*b_sigma*b_sigma) - 1/2"
   ]
  },
  {
   "cell_type": "code",
   "execution_count": 4,
   "metadata": {},
   "outputs": [],
   "source": [
    "## JSD(正規分布) ##\n",
    "def JSD(a, b):\n",
    "    m = np.array([a+b])/2\n",
    "    return 0.5 * (KLD(a, m) + KLD(b, m))"
   ]
  },
  {
   "cell_type": "code",
   "execution_count": 5,
   "metadata": {},
   "outputs": [],
   "source": [
    "## L1 norm ##\n",
    "def L1Norm(a, b, N=100):\n",
    "    mini = min(min(a),min(b))\n",
    "    maxi = max(max(a),max(b))\n",
    "    a_hist, a_bins = np.histogram(a,bins=N,range=(mini,maxi),normed=True)\n",
    "    b_hist, b_bins = np.histogram(b,bins=N,range=(mini,maxi),normed=True)\n",
    "    L1N = 0\n",
    "    for i in range(0, N-1):\n",
    "        L1N = L1N + abs(a_hist[i] - b_hist[i])\n",
    "    return L1N"
   ]
  },
  {
   "cell_type": "code",
   "execution_count": 6,
   "metadata": {},
   "outputs": [],
   "source": [
    "## L2 norm ##\n",
    "def L2Norm(a, b, N=100):\n",
    "    mini = min(min(a),min(b))\n",
    "    maxi = max(max(a),max(b))\n",
    "    a_hist, a_bins = np.histogram(a,bins=N,range=(mini,maxi),normed=True)\n",
    "    b_hist, b_bins = np.histogram(b,bins=N,range=(mini,maxi),normed=True)\n",
    "    L2N = 0\n",
    "    for i in range(0, N-1):\n",
    "        L2N = L2N + (a_hist[i] - b_hist[i]) * (a_hist[i] - b_hist[i])\n",
    "    return L2N"
   ]
  },
  {
   "cell_type": "code",
   "execution_count": 7,
   "metadata": {},
   "outputs": [],
   "source": [
    "## data load ##"
   ]
  },
  {
   "cell_type": "code",
   "execution_count": 8,
   "metadata": {},
   "outputs": [],
   "source": [
    "## JR Local ##"
   ]
  },
  {
   "cell_type": "code",
   "execution_count": 9,
   "metadata": {},
   "outputs": [
    {
     "name": "stdout",
     "output_type": "stream",
     "text": [
      "1834\n"
     ]
    }
   ],
   "source": [
    "file_name = \"JR_Shinkansen/Nagoya2Shinyokohama/x.txt\"\n",
    "X_JR = []\n",
    "\n",
    "file = open(file_name, 'r')\n",
    "\n",
    "for line in file.readlines():\n",
    "    fname = line.rstrip().split(',') #using rstrip to remove the \\n\n",
    "    X_JR.append(float(fname[1]))\n",
    "\n",
    "file.close()\n",
    "print(len(X_JR))"
   ]
  },
  {
   "cell_type": "code",
   "execution_count": 10,
   "metadata": {},
   "outputs": [
    {
     "name": "stdout",
     "output_type": "stream",
     "text": [
      "1834\n"
     ]
    }
   ],
   "source": [
    "file_name = \"JR_Shinkansen/Nagoya2Shinyokohama/y.txt\"\n",
    "Y_JR = []\n",
    "\n",
    "file = open(file_name, 'r')\n",
    "\n",
    "for line in file.readlines():\n",
    "    fname = line.rstrip().split(',') #using rstrip to remove the \\n\n",
    "    Y_JR.append(float(fname[1]))\n",
    "\n",
    "file.close()\n",
    "print(len(Y_JR))"
   ]
  },
  {
   "cell_type": "code",
   "execution_count": 11,
   "metadata": {},
   "outputs": [
    {
     "name": "stdout",
     "output_type": "stream",
     "text": [
      "1834\n"
     ]
    }
   ],
   "source": [
    "file_name = \"JR_Shinkansen/Nagoya2Shinyokohama/z.txt\"\n",
    "Z_JR = []\n",
    "\n",
    "file = open(file_name, 'r')\n",
    "\n",
    "for line in file.readlines():\n",
    "    fname = line.rstrip().split(',') #using rstrip to remove the \\n\n",
    "    Z_JR.append(float(fname[1]))\n",
    "\n",
    "file.close()\n",
    "print(len(Z_JR))"
   ]
  },
  {
   "cell_type": "code",
   "execution_count": 12,
   "metadata": {},
   "outputs": [
    {
     "name": "stdout",
     "output_type": "stream",
     "text": [
      "1834\n"
     ]
    }
   ],
   "source": [
    "T_JR = np.arange(0, len(X_JR)*0.1, 0.1)\n",
    "print(len(T_JR))"
   ]
  },
  {
   "cell_type": "code",
   "execution_count": 13,
   "metadata": {},
   "outputs": [],
   "source": [
    "## ICE ##"
   ]
  },
  {
   "cell_type": "code",
   "execution_count": 14,
   "metadata": {},
   "outputs": [
    {
     "name": "stdout",
     "output_type": "stream",
     "text": [
      "2785\n"
     ]
    }
   ],
   "source": [
    "file_name = \"ICE/x.txt\"\n",
    "X_ICE = []\n",
    "\n",
    "file = open(file_name, 'r')\n",
    "\n",
    "for line in file.readlines():\n",
    "    fname = line.rstrip().split(',') #using rstrip to remove the \\n\n",
    "    X_ICE.append(float(fname[1]))\n",
    "\n",
    "file.close()\n",
    "print(len(X_ICE))"
   ]
  },
  {
   "cell_type": "code",
   "execution_count": 15,
   "metadata": {},
   "outputs": [
    {
     "name": "stdout",
     "output_type": "stream",
     "text": [
      "2785\n"
     ]
    }
   ],
   "source": [
    "file_name = \"ICE/y.txt\"\n",
    "Y_ICE = []\n",
    "\n",
    "file = open(file_name, 'r')\n",
    "\n",
    "for line in file.readlines():\n",
    "    fname = line.rstrip().split(',') #using rstrip to remove the \\n\n",
    "    Y_ICE.append(float(fname[1]))\n",
    "\n",
    "file.close()\n",
    "print(len(Y_ICE))"
   ]
  },
  {
   "cell_type": "code",
   "execution_count": 16,
   "metadata": {},
   "outputs": [
    {
     "name": "stdout",
     "output_type": "stream",
     "text": [
      "2785\n"
     ]
    }
   ],
   "source": [
    "file_name = \"ICE/z.txt\"\n",
    "Z_ICE = []\n",
    "\n",
    "file = open(file_name, 'r')\n",
    "\n",
    "for line in file.readlines():\n",
    "    fname = line.rstrip().split(',') #using rstrip to remove the \\n\n",
    "    Z_ICE.append(float(fname[1]))\n",
    "\n",
    "file.close()\n",
    "print(len(Z_ICE))"
   ]
  },
  {
   "cell_type": "code",
   "execution_count": 17,
   "metadata": {},
   "outputs": [
    {
     "name": "stdout",
     "output_type": "stream",
     "text": [
      "2785\n"
     ]
    }
   ],
   "source": [
    "T_ICE = np.arange(0, len(X_ICE)*0.1, 0.1)\n",
    "print(len(T_ICE))"
   ]
  },
  {
   "cell_type": "code",
   "execution_count": 18,
   "metadata": {},
   "outputs": [],
   "source": [
    "## show ##"
   ]
  },
  {
   "cell_type": "code",
   "execution_count": 19,
   "metadata": {},
   "outputs": [
    {
     "data": {
      "image/png": "[encoded data removed]",
      "text/plain": [
       "<Figure size 432x288 with 1 Axes>"
      ]
     },
     "metadata": {},
     "output_type": "display_data"
    }
   ],
   "source": [
    "plt.plot(T_JR, X_JR, label=\"JR\")\n",
    "#plt.scatter(T_JR, X_JR,label=\"JR\")\n",
    "plt.plot(T_ICE, X_ICE, label=\"ICE\")\n",
    "#plt.scatter(T_ICE, X_ICE,label=\"ICE\")\n",
    "plt.legend()\n",
    "plt.show()"
   ]
  },
  {
   "cell_type": "code",
   "execution_count": 20,
   "metadata": {},
   "outputs": [
    {
     "data": {
      "image/png": "[encoded data removed]",
      "text/plain": [
       "<Figure size 432x288 with 1 Axes>"
      ]
     },
     "metadata": {},
     "output_type": "display_data"
    }
   ],
   "source": [
    "ave = mean(X_JR)\n",
    "sigma = stdev(X_JR)\n",
    "X_nd_JR = np.arange(ave-4*sigma,ave+4*sigma,0.001)\n",
    "Y_nd_JR = norm.pdf(X_nd_JR,ave,sigma)\n",
    "ave = mean(X_ICE)\n",
    "sigma = stdev(X_ICE)\n",
    "X_nd_ICE = np.arange(ave-4*sigma,ave+4*sigma,0.001)\n",
    "Y_nd_ICE = norm.pdf(X_nd_ICE,ave,sigma)\n",
    "plt.figure()\n",
    "plt.hist(X_JR,alpha=0.5,label=\"JR\")\n",
    "plt.hist(X_ICE,alpha=0.5,label=\"ICE\")\n",
    "plt.legend()\n",
    "plt.show()"
   ]
  },
  {
   "cell_type": "code",
   "execution_count": 21,
   "metadata": {},
   "outputs": [
    {
     "data": {
      "text/plain": [
       "<matplotlib.legend.Legend at 0x114e3f470>"
      ]
     },
     "execution_count": 21,
     "metadata": {},
     "output_type": "execute_result"
    },
    {
     "data": {
      "image/png": "[encoded data removed]",
      "text/plain": [
       "<Figure size 432x288 with 1 Axes>"
      ]
     },
     "metadata": {},
     "output_type": "display_data"
    }
   ],
   "source": [
    "plt.plot(X_nd_JR,Y_nd_JR,label=\"JR\")\n",
    "plt.plot(X_nd_ICE,Y_nd_ICE,label=\"ICE\")\n",
    "plt.legend()"
   ]
  },
  {
   "cell_type": "code",
   "execution_count": 22,
   "metadata": {},
   "outputs": [
    {
     "data": {
      "text/plain": [
       "0.740769444535128"
      ]
     },
     "execution_count": 22,
     "metadata": {},
     "output_type": "execute_result"
    }
   ],
   "source": [
    "KLD(X_JR,X_ICE)"
   ]
  },
  {
   "cell_type": "code",
   "execution_count": 23,
   "metadata": {},
   "outputs": [
    {
     "data": {
      "text/plain": [
       "1.853883048662972"
      ]
     },
     "execution_count": 23,
     "metadata": {},
     "output_type": "execute_result"
    }
   ],
   "source": [
    "JSD(X_JR,X_ICE)"
   ]
  },
  {
   "cell_type": "code",
   "execution_count": 24,
   "metadata": {},
   "outputs": [
    {
     "data": {
      "text/plain": [
       "212.22527305051327"
      ]
     },
     "execution_count": 24,
     "metadata": {},
     "output_type": "execute_result"
    }
   ],
   "source": [
    "HI(X_JR,X_ICE)"
   ]
  },
  {
   "cell_type": "code",
   "execution_count": 25,
   "metadata": {},
   "outputs": [
    {
     "data": {
      "text/plain": [
       "356.6413836946438"
      ]
     },
     "execution_count": 25,
     "metadata": {},
     "output_type": "execute_result"
    }
   ],
   "source": [
    "L1Norm(X_JR,X_ICE)"
   ]
  },
  {
   "cell_type": "code",
   "execution_count": 26,
   "metadata": {},
   "outputs": [
    {
     "data": {
      "text/plain": [
       "4828.6916903427755"
      ]
     },
     "execution_count": 26,
     "metadata": {},
     "output_type": "execute_result"
    }
   ],
   "source": [
    "L2Norm(X_JR,X_ICE)"
   ]
  },
  {
   "cell_type": "code",
   "execution_count": 27,
   "metadata": {},
   "outputs": [
    {
     "data": {
      "image/png": "[encoded data removed]",
      "text/plain": [
       "<Figure size 432x288 with 1 Axes>"
      ]
     },
     "metadata": {},
     "output_type": "display_data"
    }
   ],
   "source": [
    "plt.plot(T_JR, Y_JR,label=\"JR\")\n",
    "#plt.scatter(T_JR, Y_JR,label=\"JR\")\n",
    "plt.plot(T_ICE, Y_ICE,label=\"ICE\")\n",
    "#plt.scatter(T_ICE, Y_ICE,label=\"ICE\")\n",
    "plt.legend()\n",
    "plt.show()"
   ]
  },
  {
   "cell_type": "code",
   "execution_count": 28,
   "metadata": {},
   "outputs": [
    {
     "data": {
      "image/png": "[encoded data removed]",
      "text/plain": [
       "<Figure size 432x288 with 1 Axes>"
      ]
     },
     "metadata": {},
     "output_type": "display_data"
    }
   ],
   "source": [
    "ave = mean(Y_JR)\n",
    "sigma = stdev(Y_JR)\n",
    "X_nd_JR = np.arange(ave-4*sigma,ave+4*sigma,0.001)\n",
    "Y_nd_JR = norm.pdf(X_nd_JR,ave,sigma)\n",
    "ave = mean(Y_ICE)\n",
    "sigma = stdev(Y_ICE)\n",
    "X_nd_ICE = np.arange(ave-4*sigma,ave+4*sigma,0.001)\n",
    "Y_nd_ICE = norm.pdf(X_nd_ICE,ave,sigma)\n",
    "plt.figure()\n",
    "plt.hist(Y_JR,alpha=0.5,label=\"JR\")\n",
    "plt.hist(Y_ICE,alpha=0.5,label=\"ICE\")\n",
    "plt.legend()\n",
    "plt.show()"
   ]
  },
  {
   "cell_type": "code",
   "execution_count": 29,
   "metadata": {},
   "outputs": [
    {
     "data": {
      "text/plain": [
       "<matplotlib.legend.Legend at 0x1151f9320>"
      ]
     },
     "execution_count": 29,
     "metadata": {},
     "output_type": "execute_result"
    },
    {
     "data": {
      "image/png": "[encoded data removed]",
      "text/plain": [
       "<Figure size 432x288 with 1 Axes>"
      ]
     },
     "metadata": {},
     "output_type": "display_data"
    }
   ],
   "source": [
    "plt.plot(X_nd_JR,Y_nd_JR,label=\"JR\")\n",
    "plt.plot(X_nd_ICE,Y_nd_ICE,label=\"ICE\")\n",
    "plt.legend()"
   ]
  },
  {
   "cell_type": "code",
   "execution_count": 30,
   "metadata": {},
   "outputs": [
    {
     "data": {
      "text/plain": [
       "65.3218918392982"
      ]
     },
     "execution_count": 30,
     "metadata": {},
     "output_type": "execute_result"
    }
   ],
   "source": [
    "KLD(Y_JR,Y_ICE)"
   ]
  },
  {
   "cell_type": "code",
   "execution_count": 31,
   "metadata": {},
   "outputs": [
    {
     "data": {
      "text/plain": [
       "2.4753901678889845"
      ]
     },
     "execution_count": 31,
     "metadata": {},
     "output_type": "execute_result"
    }
   ],
   "source": [
    "JSD(Y_JR,Y_ICE)"
   ]
  },
  {
   "cell_type": "code",
   "execution_count": 32,
   "metadata": {},
   "outputs": [
    {
     "data": {
      "text/plain": [
       "0.0"
      ]
     },
     "execution_count": 32,
     "metadata": {},
     "output_type": "execute_result"
    }
   ],
   "source": [
    "HI(Y_JR,Y_ICE)"
   ]
  },
  {
   "cell_type": "code",
   "execution_count": 33,
   "metadata": {},
   "outputs": [
    {
     "data": {
      "text/plain": [
       "554.7805749133488"
      ]
     },
     "execution_count": 33,
     "metadata": {},
     "output_type": "execute_result"
    }
   ],
   "source": [
    "L1Norm(Y_JR,Y_ICE)"
   ]
  },
  {
   "cell_type": "code",
   "execution_count": 34,
   "metadata": {},
   "outputs": [
    {
     "data": {
      "text/plain": [
       "10647.636104293795"
      ]
     },
     "execution_count": 34,
     "metadata": {},
     "output_type": "execute_result"
    }
   ],
   "source": [
    "L2Norm(Y_JR,Y_ICE)"
   ]
  },
  {
   "cell_type": "code",
   "execution_count": 35,
   "metadata": {},
   "outputs": [
    {
     "data": {
      "image/png": "[encoded data removed]",
      "text/plain": [
       "<Figure size 432x288 with 1 Axes>"
      ]
     },
     "metadata": {},
     "output_type": "display_data"
    }
   ],
   "source": [
    "plt.plot(T_JR, Z_JR,label=\"JR\")\n",
    "#plt.scatter(T_JR, Z_JR,label=\"JR\")\n",
    "plt.plot(T_ICE, Z_ICE,label=\"ICE\")\n",
    "#plt.scatter(T_ICE, Z_ICE,label=\"ICE\")\n",
    "plt.legend()\n",
    "plt.show()"
   ]
  },
  {
   "cell_type": "code",
   "execution_count": 36,
   "metadata": {},
   "outputs": [
    {
     "data": {
      "image/png": "[encoded data removed]",
      "text/plain": [
       "<Figure size 432x288 with 1 Axes>"
      ]
     },
     "metadata": {},
     "output_type": "display_data"
    }
   ],
   "source": [
    "ave = mean(Z_JR)\n",
    "sigma = stdev(Z_JR)\n",
    "X_nd_JR = np.arange(ave-4*sigma,ave+4*sigma,0.001)\n",
    "Y_nd_JR = norm.pdf(X_nd_JR,ave,sigma)\n",
    "ave = mean(Z_ICE)\n",
    "sigma = stdev(Z_ICE)\n",
    "X_nd_ICE = np.arange(ave-4*sigma,ave+4*sigma,0.001)\n",
    "Y_nd_ICE = norm.pdf(X_nd_ICE,ave,sigma)\n",
    "plt.figure()\n",
    "plt.hist(Z_JR,alpha=0.5,label=\"JR\")\n",
    "plt.hist(Z_ICE,alpha=0.5,label=\"ICE\")\n",
    "plt.legend()\n",
    "plt.show()"
   ]
  },
  {
   "cell_type": "code",
   "execution_count": 37,
   "metadata": {},
   "outputs": [
    {
     "data": {
      "text/plain": [
       "<matplotlib.legend.Legend at 0x1154d3518>"
      ]
     },
     "execution_count": 37,
     "metadata": {},
     "output_type": "execute_result"
    },
    {
     "data": {
      "image/png": "[encoded data removed]",
      "text/plain": [
       "<Figure size 432x288 with 1 Axes>"
      ]
     },
     "metadata": {},
     "output_type": "display_data"
    }
   ],
   "source": [
    "plt.plot(X_nd_JR,Y_nd_JR,label=\"JR\")\n",
    "plt.plot(X_nd_ICE,Y_nd_ICE,label=\"ICE\")\n",
    "plt.legend()"
   ]
  },
  {
   "cell_type": "code",
   "execution_count": 38,
   "metadata": {},
   "outputs": [
    {
     "data": {
      "text/plain": [
       "9.99706409290548"
      ]
     },
     "execution_count": 38,
     "metadata": {},
     "output_type": "execute_result"
    }
   ],
   "source": [
    "KLD(Z_JR,Z_ICE)"
   ]
  },
  {
   "cell_type": "code",
   "execution_count": 39,
   "metadata": {},
   "outputs": [
    {
     "data": {
      "text/plain": [
       "1266.5584386264115"
      ]
     },
     "execution_count": 39,
     "metadata": {},
     "output_type": "execute_result"
    }
   ],
   "source": [
    "JSD(Z_JR,Z_ICE)"
   ]
  },
  {
   "cell_type": "code",
   "execution_count": 40,
   "metadata": {},
   "outputs": [
    {
     "data": {
      "text/plain": [
       "153.59098857047542"
      ]
     },
     "execution_count": 40,
     "metadata": {},
     "output_type": "execute_result"
    }
   ],
   "source": [
    "HI(Z_JR,Z_ICE)"
   ]
  },
  {
   "cell_type": "code",
   "execution_count": 41,
   "metadata": {},
   "outputs": [
    {
     "data": {
      "text/plain": [
       "458.3939863041419"
      ]
     },
     "execution_count": 41,
     "metadata": {},
     "output_type": "execute_result"
    }
   ],
   "source": [
    "L1Norm(Z_JR,Z_ICE)"
   ]
  },
  {
   "cell_type": "code",
   "execution_count": 42,
   "metadata": {},
   "outputs": [
    {
     "data": {
      "text/plain": [
       "15009.089483114087"
      ]
     },
     "execution_count": 42,
     "metadata": {},
     "output_type": "execute_result"
    }
   ],
   "source": [
    "L2Norm(Z_JR,Z_ICE)"
   ]
  },
  {
   "cell_type": "code",
   "execution_count": null,
   "metadata": {},
   "outputs": [],
   "source": []
  },
  {
   "cell_type": "code",
   "execution_count": null,
   "metadata": {},
   "outputs": [],
   "source": []
  }
 ],
 "metadata": {
  "kernelspec": {
   "display_name": "Python3-TensorFlow",
   "language": "python",
   "name": "tf"
  },
  "language_info": {
   "codemirror_mode": {
    "name": "ipython",
    "version": 3
   },
   "file_extension": ".py",
   "mimetype": "text/x-python",
   "name": "python",
   "nbconvert_exporter": "python",
   "pygments_lexer": "ipython3",
   "version": "3.5.3"
  }
 },
 "nbformat": 4,
 "nbformat_minor": 2
}
