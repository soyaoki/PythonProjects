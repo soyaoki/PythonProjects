{
 "cells": [
  {
   "cell_type": "code",
   "execution_count": 1,
   "metadata": {},
   "outputs": [],
   "source": [
    "import sys\n",
    "import numpy as np\n",
    "import matplotlib.pyplot as plt\n",
    "from statistics import mean, median,variance,stdev\n",
    "from scipy.stats import norm"
   ]
  },
  {
   "cell_type": "code",
   "execution_count": 2,
   "metadata": {},
   "outputs": [],
   "source": [
    "## Histogram Intersection ##\n",
    "def HI(a, b,N=100):\n",
    "    mini = min(min(a),min(b))\n",
    "    maxi = max(max(a),max(b))\n",
    "    a_hist, a_bins = np.histogram(a,bins=N,range=(mini,maxi),normed=True)\n",
    "    b_hist, b_bins = np.histogram(b,bins=N,range=(mini,maxi),normed=True)\n",
    "    HI = 0\n",
    "    for i in range(0, N-1):\n",
    "        HI = HI + min(a_hist[i], b_hist[i])\n",
    "    return HI"
   ]
  },
  {
   "cell_type": "code",
   "execution_count": 3,
   "metadata": {},
   "outputs": [],
   "source": [
    "## KLD(正規分布) ##\n",
    "def KLD(a, b):\n",
    "    a_mu = np.mean(a)\n",
    "    a_sigma = np.std(a)\n",
    "    b_mu = np.mean(b)\n",
    "    b_sigma = np.std(b)\n",
    "    \n",
    "    return np.log(b_sigma / b_sigma) + (a_sigma*a_sigma + (a_mu - b_mu)*(a_mu - b_mu))/(2*b_sigma*b_sigma) - 1/2"
   ]
  },
  {
   "cell_type": "code",
   "execution_count": 4,
   "metadata": {},
   "outputs": [],
   "source": [
    "## JSD(正規分布) ##\n",
    "def JSD(a, b):\n",
    "    m = np.array([a+b])/2\n",
    "    return 0.5 * (KLD(a, m) + KLD(b, m))"
   ]
  },
  {
   "cell_type": "code",
   "execution_count": 5,
   "metadata": {},
   "outputs": [],
   "source": [
    "## L1 norm ##\n",
    "def L1Norm(a, b, N=100):\n",
    "    mini = min(min(a),min(b))\n",
    "    maxi = max(max(a),max(b))\n",
    "    a_hist, a_bins = np.histogram(a,bins=N,range=(mini,maxi),normed=True)\n",
    "    b_hist, b_bins = np.histogram(b,bins=N,range=(mini,maxi),normed=True)\n",
    "    L1N = 0\n",
    "    for i in range(0, N-1):\n",
    "        L1N = L1N + abs(a_hist[i] - b_hist[i])\n",
    "    return L1N"
   ]
  },
  {
   "cell_type": "code",
   "execution_count": 6,
   "metadata": {},
   "outputs": [],
   "source": [
    "## L2 norm ##\n",
    "def L2Norm(a, b, N=100):\n",
    "    mini = min(min(a),min(b))\n",
    "    maxi = max(max(a),max(b))\n",
    "    a_hist, a_bins = np.histogram(a,bins=N,range=(mini,maxi),normed=True)\n",
    "    b_hist, b_bins = np.histogram(b,bins=N,range=(mini,maxi),normed=True)\n",
    "    L2N = 0\n",
    "    for i in range(0, N-1):\n",
    "        L2N = L2N + (a_hist[i] - b_hist[i]) * (a_hist[i] - b_hist[i])\n",
    "    return L2N"
   ]
  },
  {
   "cell_type": "code",
   "execution_count": 7,
   "metadata": {},
   "outputs": [],
   "source": [
    "## data load ##"
   ]
  },
  {
   "cell_type": "code",
   "execution_count": 8,
   "metadata": {},
   "outputs": [],
   "source": [
    "## IC ##"
   ]
  },
  {
   "cell_type": "code",
   "execution_count": 9,
   "metadata": {},
   "outputs": [
    {
     "name": "stdout",
     "output_type": "stream",
     "text": [
      "3320\n"
     ]
    }
   ],
   "source": [
    "file_name = \"IC/g/x.txt\"\n",
    "#file_name = \"IC/gyro/x.txt\"\n",
    "X_IC = []\n",
    "\n",
    "file = open(file_name, 'r')\n",
    "\n",
    "for line in file.readlines():\n",
    "    fname = line.rstrip().split(',') #using rstrip to remove the \\n\n",
    "    X_IC.append(float(fname[1]))\n",
    "\n",
    "file.close()\n",
    "print(len(X_IC))"
   ]
  },
  {
   "cell_type": "code",
   "execution_count": 10,
   "metadata": {},
   "outputs": [
    {
     "name": "stdout",
     "output_type": "stream",
     "text": [
      "3320\n"
     ]
    }
   ],
   "source": [
    "file_name = \"IC/g/y.txt\"\n",
    "#file_name = \"IC/gyro/y.txt\"\n",
    "Y_IC = []\n",
    "\n",
    "file = open(file_name, 'r')\n",
    "\n",
    "for line in file.readlines():\n",
    "    fname = line.rstrip().split(',') #using rstrip to remove the \\n\n",
    "    Y_IC.append(float(fname[1]))\n",
    "\n",
    "file.close()\n",
    "print(len(Y_IC))"
   ]
  },
  {
   "cell_type": "code",
   "execution_count": 11,
   "metadata": {},
   "outputs": [
    {
     "name": "stdout",
     "output_type": "stream",
     "text": [
      "3320\n"
     ]
    }
   ],
   "source": [
    "file_name = \"IC/g/z.txt\"\n",
    "#file_name = \"IC/gyro/z.txt\"\n",
    "Z_IC = []\n",
    "\n",
    "file = open(file_name, 'r')\n",
    "\n",
    "for line in file.readlines():\n",
    "    fname = line.rstrip().split(',') #using rstrip to remove the \\n\n",
    "    Z_IC.append(float(fname[1]))\n",
    "\n",
    "file.close()\n",
    "print(len(Z_IC))"
   ]
  },
  {
   "cell_type": "code",
   "execution_count": 12,
   "metadata": {},
   "outputs": [
    {
     "name": "stdout",
     "output_type": "stream",
     "text": [
      "3320\n"
     ]
    }
   ],
   "source": [
    "T_IC = np.arange(0, len(X_IC)*0.1, 0.1)\n",
    "print(len(T_IC))"
   ]
  },
  {
   "cell_type": "code",
   "execution_count": 13,
   "metadata": {},
   "outputs": [],
   "source": [
    "## ICE ##"
   ]
  },
  {
   "cell_type": "code",
   "execution_count": 14,
   "metadata": {},
   "outputs": [
    {
     "name": "stdout",
     "output_type": "stream",
     "text": [
      "2785\n"
     ]
    }
   ],
   "source": [
    "file_name = \"ICE/x.txt\"\n",
    "X_ICE = []\n",
    "\n",
    "file = open(file_name, 'r')\n",
    "\n",
    "for line in file.readlines():\n",
    "    fname = line.rstrip().split(',') #using rstrip to remove the \\n\n",
    "    X_ICE.append(float(fname[1]))\n",
    "\n",
    "file.close()\n",
    "print(len(X_ICE))"
   ]
  },
  {
   "cell_type": "code",
   "execution_count": 15,
   "metadata": {},
   "outputs": [
    {
     "name": "stdout",
     "output_type": "stream",
     "text": [
      "2785\n"
     ]
    }
   ],
   "source": [
    "file_name = \"ICE/y.txt\"\n",
    "Y_ICE = []\n",
    "\n",
    "file = open(file_name, 'r')\n",
    "\n",
    "for line in file.readlines():\n",
    "    fname = line.rstrip().split(',') #using rstrip to remove the \\n\n",
    "    Y_ICE.append(float(fname[1]))\n",
    "\n",
    "file.close()\n",
    "print(len(Y_ICE))"
   ]
  },
  {
   "cell_type": "code",
   "execution_count": 16,
   "metadata": {},
   "outputs": [
    {
     "name": "stdout",
     "output_type": "stream",
     "text": [
      "2785\n"
     ]
    }
   ],
   "source": [
    "file_name = \"ICE/z.txt\"\n",
    "Z_ICE = []\n",
    "\n",
    "file = open(file_name, 'r')\n",
    "\n",
    "for line in file.readlines():\n",
    "    fname = line.rstrip().split(',') #using rstrip to remove the \\n\n",
    "    Z_ICE.append(float(fname[1]))\n",
    "\n",
    "file.close()\n",
    "print(len(Z_ICE))"
   ]
  },
  {
   "cell_type": "code",
   "execution_count": 17,
   "metadata": {},
   "outputs": [
    {
     "name": "stdout",
     "output_type": "stream",
     "text": [
      "2785\n"
     ]
    }
   ],
   "source": [
    "T_ICE = np.arange(0, len(X_ICE)*0.1, 0.1)\n",
    "print(len(T_ICE))"
   ]
  },
  {
   "cell_type": "code",
   "execution_count": 18,
   "metadata": {},
   "outputs": [],
   "source": [
    "## show ##"
   ]
  },
  {
   "cell_type": "code",
   "execution_count": 19,
   "metadata": {},
   "outputs": [
    {
     "data": {
      "image/png": "[encoded data removed]",
      "text/plain": [
       "<Figure size 432x288 with 1 Axes>"
      ]
     },
     "metadata": {},
     "output_type": "display_data"
    }
   ],
   "source": [
    "plt.plot(T_IC, X_IC,label=\"IC\")\n",
    "#plt.scatter(T_IC, X_IC,label=\"IC\")\n",
    "plt.plot(T_ICE, X_ICE,label=\"ICE\")\n",
    "#plt.scatter(T_ICE, X_ICE,label=\"ICE\")\n",
    "plt.legend()\n",
    "plt.show()"
   ]
  },
  {
   "cell_type": "code",
   "execution_count": 20,
   "metadata": {},
   "outputs": [
    {
     "data": {
      "image/png": "[encoded data removed]",
      "text/plain": [
       "<Figure size 432x288 with 1 Axes>"
      ]
     },
     "metadata": {},
     "output_type": "display_data"
    }
   ],
   "source": [
    "ave = mean(X_IC)\n",
    "sigma = stdev(X_IC)\n",
    "X_nd_IC = np.arange(ave-4*sigma,ave+4*sigma,0.001)\n",
    "Y_nd_IC = norm.pdf(X_nd_IC,ave,sigma)\n",
    "ave = mean(X_ICE)\n",
    "sigma = stdev(X_ICE)\n",
    "X_nd_ICE = np.arange(ave-4*sigma,ave+4*sigma,0.001)\n",
    "Y_nd_ICE = norm.pdf(X_nd_ICE,ave,sigma)\n",
    "plt.figure()\n",
    "plt.hist(X_IC,alpha=0.5,label=\"IC\")\n",
    "plt.hist(X_ICE,alpha=0.5,label=\"ICE\")\n",
    "plt.legend()\n",
    "plt.show()"
   ]
  },
  {
   "cell_type": "code",
   "execution_count": 21,
   "metadata": {},
   "outputs": [
    {
     "data": {
      "text/plain": [
       "<matplotlib.legend.Legend at 0x1078dbcc0>"
      ]
     },
     "execution_count": 21,
     "metadata": {},
     "output_type": "execute_result"
    },
    {
     "data": {
      "image/png": "[encoded data removed]",
      "text/plain": [
       "<Figure size 432x288 with 1 Axes>"
      ]
     },
     "metadata": {},
     "output_type": "display_data"
    }
   ],
   "source": [
    "plt.plot(X_nd_IC,Y_nd_IC,label=\"IC\")\n",
    "plt.plot(X_nd_ICE,Y_nd_ICE,label=\"ICE\")\n",
    "plt.legend()"
   ]
  },
  {
   "cell_type": "code",
   "execution_count": 22,
   "metadata": {},
   "outputs": [
    {
     "data": {
      "text/plain": [
       "1.9675290519265625"
      ]
     },
     "execution_count": 22,
     "metadata": {},
     "output_type": "execute_result"
    }
   ],
   "source": [
    "KLD(X_IC,X_ICE)"
   ]
  },
  {
   "cell_type": "code",
   "execution_count": 23,
   "metadata": {},
   "outputs": [
    {
     "data": {
      "text/plain": [
       "1.4490181490924154"
      ]
     },
     "execution_count": 23,
     "metadata": {},
     "output_type": "execute_result"
    }
   ],
   "source": [
    "JSD(X_IC,X_ICE)"
   ]
  },
  {
   "cell_type": "code",
   "execution_count": 24,
   "metadata": {},
   "outputs": [
    {
     "data": {
      "text/plain": [
       "132.73356273192363"
      ]
     },
     "execution_count": 24,
     "metadata": {},
     "output_type": "execute_result"
    }
   ],
   "source": [
    "HI(X_IC,X_ICE)"
   ]
  },
  {
   "cell_type": "code",
   "execution_count": 25,
   "metadata": {},
   "outputs": [
    {
     "data": {
      "text/plain": [
       "336.04916309711604"
      ]
     },
     "execution_count": 25,
     "metadata": {},
     "output_type": "execute_result"
    }
   ],
   "source": [
    "L1Norm(X_IC,X_ICE)"
   ]
  },
  {
   "cell_type": "code",
   "execution_count": 26,
   "metadata": {},
   "outputs": [
    {
     "data": {
      "text/plain": [
       "5383.847518085512"
      ]
     },
     "execution_count": 26,
     "metadata": {},
     "output_type": "execute_result"
    }
   ],
   "source": [
    "L2Norm(X_IC,X_ICE)"
   ]
  },
  {
   "cell_type": "code",
   "execution_count": 27,
   "metadata": {},
   "outputs": [
    {
     "data": {
      "image/png": "[encoded data removed]",
      "text/plain": [
       "<Figure size 432x288 with 1 Axes>"
      ]
     },
     "metadata": {},
     "output_type": "display_data"
    }
   ],
   "source": [
    "plt.plot(T_IC, Y_IC,label=\"IC\")\n",
    "#plt.scatter(T_IC, Y_IC,label=\"IC\")\n",
    "plt.plot(T_ICE, Y_ICE,label=\"ICE\")\n",
    "#plt.scatter(T_ICE, Y_ICE,label=\"ICE\")\n",
    "plt.legend()\n",
    "plt.show()"
   ]
  },
  {
   "cell_type": "code",
   "execution_count": 28,
   "metadata": {},
   "outputs": [
    {
     "data": {
      "image/png": "[encoded data removed]",
      "text/plain": [
       "<Figure size 432x288 with 1 Axes>"
      ]
     },
     "metadata": {},
     "output_type": "display_data"
    }
   ],
   "source": [
    "ave = mean(Y_IC)\n",
    "sigma = stdev(Y_IC)\n",
    "X_nd_IC = np.arange(ave-4*sigma,ave+4*sigma,0.001)\n",
    "Y_nd_IC = norm.pdf(X_nd_IC,ave,sigma)\n",
    "ave = mean(Y_ICE)\n",
    "sigma = stdev(Y_ICE)\n",
    "X_nd_ICE = np.arange(ave-4*sigma,ave+4*sigma,0.001)\n",
    "Y_nd_ICE = norm.pdf(X_nd_ICE,ave,sigma)\n",
    "plt.figure()\n",
    "plt.hist(Y_IC,alpha=0.5,label=\"IC\")\n",
    "plt.hist(Y_ICE,alpha=0.5,label=\"ICE\")\n",
    "plt.legend()\n",
    "plt.show()"
   ]
  },
  {
   "cell_type": "code",
   "execution_count": 29,
   "metadata": {},
   "outputs": [
    {
     "data": {
      "text/plain": [
       "<matplotlib.legend.Legend at 0x107be94a8>"
      ]
     },
     "execution_count": 29,
     "metadata": {},
     "output_type": "execute_result"
    },
    {
     "data": {
      "image/png": "[encoded data removed]",
      "text/plain": [
       "<Figure size 432x288 with 1 Axes>"
      ]
     },
     "metadata": {},
     "output_type": "display_data"
    }
   ],
   "source": [
    "plt.plot(X_nd_IC,Y_nd_IC,label=\"IC\")\n",
    "plt.plot(X_nd_ICE,Y_nd_ICE,label=\"ICE\")\n",
    "plt.legend()"
   ]
  },
  {
   "cell_type": "code",
   "execution_count": 30,
   "metadata": {},
   "outputs": [
    {
     "data": {
      "text/plain": [
       "22.991030608439683"
      ]
     },
     "execution_count": 30,
     "metadata": {},
     "output_type": "execute_result"
    }
   ],
   "source": [
    "KLD(Y_IC,Y_ICE)"
   ]
  },
  {
   "cell_type": "code",
   "execution_count": 31,
   "metadata": {},
   "outputs": [
    {
     "data": {
      "text/plain": [
       "2.1344462615117026"
      ]
     },
     "execution_count": 31,
     "metadata": {},
     "output_type": "execute_result"
    }
   ],
   "source": [
    "JSD(Y_IC,Y_ICE)"
   ]
  },
  {
   "cell_type": "code",
   "execution_count": 32,
   "metadata": {},
   "outputs": [
    {
     "data": {
      "text/plain": [
       "0.25753818446440685"
      ]
     },
     "execution_count": 32,
     "metadata": {},
     "output_type": "execute_result"
    }
   ],
   "source": [
    "HI(Y_IC,Y_ICE)"
   ]
  },
  {
   "cell_type": "code",
   "execution_count": 33,
   "metadata": {},
   "outputs": [
    {
     "data": {
      "text/plain": [
       "779.1628994004949"
      ]
     },
     "execution_count": 33,
     "metadata": {},
     "output_type": "execute_result"
    }
   ],
   "source": [
    "L1Norm(Y_IC,Y_ICE)"
   ]
  },
  {
   "cell_type": "code",
   "execution_count": 34,
   "metadata": {},
   "outputs": [
    {
     "data": {
      "text/plain": [
       "18762.917711836435"
      ]
     },
     "execution_count": 34,
     "metadata": {},
     "output_type": "execute_result"
    }
   ],
   "source": [
    "L2Norm(Y_IC,Y_ICE)"
   ]
  },
  {
   "cell_type": "code",
   "execution_count": 35,
   "metadata": {},
   "outputs": [
    {
     "data": {
      "image/png": "[encoded data removed]",
      "text/plain": [
       "<Figure size 432x288 with 1 Axes>"
      ]
     },
     "metadata": {},
     "output_type": "display_data"
    }
   ],
   "source": [
    "plt.plot(T_IC, Z_IC,label=\"IC\")\n",
    "#plt.scatter(T_IC, Z_IC,label=\"IC\")\n",
    "plt.plot(T_ICE, Z_ICE,label=\"ICE\")\n",
    "#plt.scatter(T_ICE, Z_ICE,label=\"ICE\")\n",
    "plt.legend()\n",
    "plt.show()"
   ]
  },
  {
   "cell_type": "code",
   "execution_count": 36,
   "metadata": {},
   "outputs": [
    {
     "data": {
      "image/png": "[encoded data removed]",
      "text/plain": [
       "<Figure size 432x288 with 1 Axes>"
      ]
     },
     "metadata": {},
     "output_type": "display_data"
    }
   ],
   "source": [
    "ave = mean(Z_IC)\n",
    "sigma = stdev(Z_IC)\n",
    "X_nd_IC = np.arange(ave-4*sigma,ave+4*sigma,0.001)\n",
    "Y_nd_IC = norm.pdf(X_nd_IC,ave,sigma)\n",
    "ave = mean(Z_ICE)\n",
    "sigma = stdev(Z_ICE)\n",
    "X_nd_ICE = np.arange(ave-4*sigma,ave+4*sigma,0.001)\n",
    "Y_nd_ICE = norm.pdf(X_nd_ICE,ave,sigma)\n",
    "plt.figure()\n",
    "plt.hist(Z_IC,alpha=0.5,label=\"IC\")\n",
    "plt.hist(Z_ICE,alpha=0.5,label=\"ICE\")\n",
    "plt.legend()\n",
    "plt.show()"
   ]
  },
  {
   "cell_type": "code",
   "execution_count": 37,
   "metadata": {},
   "outputs": [
    {
     "data": {
      "text/plain": [
       "<matplotlib.legend.Legend at 0x107e806a0>"
      ]
     },
     "execution_count": 37,
     "metadata": {},
     "output_type": "execute_result"
    },
    {
     "data": {
      "image/png": "[encoded data removed]",
      "text/plain": [
       "<Figure size 432x288 with 1 Axes>"
      ]
     },
     "metadata": {},
     "output_type": "display_data"
    }
   ],
   "source": [
    "plt.plot(X_nd_IC,Y_nd_IC,label=\"IC\")\n",
    "plt.plot(X_nd_ICE,Y_nd_ICE,label=\"ICE\")\n",
    "plt.legend()"
   ]
  },
  {
   "cell_type": "code",
   "execution_count": 38,
   "metadata": {},
   "outputs": [
    {
     "data": {
      "text/plain": [
       "6.213382533794337"
      ]
     },
     "execution_count": 38,
     "metadata": {},
     "output_type": "execute_result"
    }
   ],
   "source": [
    "KLD(Z_IC,Z_ICE)"
   ]
  },
  {
   "cell_type": "code",
   "execution_count": 39,
   "metadata": {},
   "outputs": [
    {
     "data": {
      "text/plain": [
       "1383.398547012351"
      ]
     },
     "execution_count": 39,
     "metadata": {},
     "output_type": "execute_result"
    }
   ],
   "source": [
    "JSD(Z_IC,Z_ICE)"
   ]
  },
  {
   "cell_type": "code",
   "execution_count": 40,
   "metadata": {},
   "outputs": [
    {
     "data": {
      "text/plain": [
       "186.4223187462117"
      ]
     },
     "execution_count": 40,
     "metadata": {},
     "output_type": "execute_result"
    }
   ],
   "source": [
    "HI(Z_IC,Z_ICE)"
   ]
  },
  {
   "cell_type": "code",
   "execution_count": 41,
   "metadata": {},
   "outputs": [
    {
     "data": {
      "text/plain": [
       "432.51649065958117"
      ]
     },
     "execution_count": 41,
     "metadata": {},
     "output_type": "execute_result"
    }
   ],
   "source": [
    "L1Norm(Z_IC,Z_ICE)"
   ]
  },
  {
   "cell_type": "code",
   "execution_count": 42,
   "metadata": {},
   "outputs": [
    {
     "data": {
      "text/plain": [
       "13665.41344618633"
      ]
     },
     "execution_count": 42,
     "metadata": {},
     "output_type": "execute_result"
    }
   ],
   "source": [
    "L2Norm(Z_IC,Z_ICE)"
   ]
  },
  {
   "cell_type": "code",
   "execution_count": null,
   "metadata": {},
   "outputs": [],
   "source": []
  }
 ],
 "metadata": {
  "kernelspec": {
   "display_name": "Python3-TensorFlow",
   "language": "python",
   "name": "tf"
  },
  "language_info": {
   "codemirror_mode": {
    "name": "ipython",
    "version": 3
   },
   "file_extension": ".py",
   "mimetype": "text/x-python",
   "name": "python",
   "nbconvert_exporter": "python",
   "pygments_lexer": "ipython3",
   "version": "3.5.3"
  }
 },
 "nbformat": 4,
 "nbformat_minor": 2
}
