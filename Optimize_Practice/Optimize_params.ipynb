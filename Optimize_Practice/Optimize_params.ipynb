{
 "cells": [
  {
   "cell_type": "code",
   "execution_count": 1,
   "metadata": {},
   "outputs": [],
   "source": [
    "import numpy as np\n",
    "import pandas as pd\n",
    "from scipy.optimize import fmin, fminbound, minimize, BFGS, fmin_bfgs, differential_evolution\n",
    "import matplotlib.pyplot as plt\n",
    "%matplotlib inline"
   ]
  },
  {
   "cell_type": "code",
   "execution_count": 2,
   "metadata": {},
   "outputs": [],
   "source": [
    "# ダミーデータ\n",
    "Offset = [0.5]\n",
    "LaneWidth = [5]\n",
    "Curvature = [0.001]\n",
    "ObjectX = [255]\n",
    "ObjectY = [255]"
   ]
  },
  {
   "cell_type": "code",
   "execution_count": 3,
   "metadata": {},
   "outputs": [],
   "source": [
    "# 各種リスク関数\n",
    "def risk_line_r(x, _LaneWidth, w_r, sigma_r):\n",
    "    return w_r * np.exp(np.abs(x - _LaneWidth)/sigma_r)\n",
    "\n",
    "def risk_line_l(x, _LaneWidth, w_l, sigma_l):\n",
    "    return np.fliplr([w_l * np.exp(np.abs(x - _LaneWidth)/sigma_l)])[0]\n",
    "\n",
    "def risk_curvature(x, _LaneWidth, _Curvature, w_rho, sigma_rho):\n",
    "    return w_rho * _Curvature * np.exp(np.abs(x - _LaneWidth)/sigma_rho)\n",
    "\n",
    "def risk_obj(x, _ObjectX, _ObjectY, w_o, sigma_x, sigma_y):\n",
    "    return w_o * np.exp(-(x - _ObjectX)**2/sigma_x -(_ObjectY)**2/sigma_y )\n",
    "    "
   ]
  },
  {
   "cell_type": "code",
   "execution_count": 4,
   "metadata": {},
   "outputs": [
    {
     "data": {
      "text/plain": [
       "[<matplotlib.lines.Line2D at 0x11ea986d8>]"
      ]
     },
     "execution_count": 4,
     "metadata": {},
     "output_type": "execute_result"
    },
    {
     "data": {
      "image/png": "[encoded data removed]",
      "text/plain": [
       "<Figure size 432x288 with 1 Axes>"
      ]
     },
     "metadata": {
      "needs_background": "light"
     },
     "output_type": "display_data"
    }
   ],
   "source": [
    "x = np.linspace(0, 5, 20)\n",
    "plt.plot(x ,risk_line_r(x, 5, 1, 1))\n",
    "plt.plot(x ,risk_line_l(x, 5, 1, 1))\n",
    "plt.plot(x ,risk_curvature(x, 5, 0.11, 1, 1))\n",
    "plt.plot(x ,risk_obj(x, 255, 255, 1, 1, 1))"
   ]
  },
  {
   "cell_type": "code",
   "execution_count": 5,
   "metadata": {},
   "outputs": [],
   "source": [
    "# 最適化する目的関数\n",
    "def evaluation_risk_potential_params(params):\n",
    "    \n",
    "    # ポイントを作る\n",
    "    x = np.linspace(0, _LaneWidth, 20)\n",
    "    risk = np.zeros(20)\n",
    "    \n",
    "    # リスク最小ポイントを算出\n",
    "    # 白線\n",
    "    risk = risk + risk_line_r(x, _LaneWidth, params[0], params[1])\n",
    "    risk = risk + risk_line_l(x, _LaneWidth, params[2], params[3])\n",
    "    \n",
    "    # 曲率\n",
    "    risk = risk + risk_curvature(x, _LaneWidth, _Curvature, params[4], params[5])\n",
    "    \n",
    "    # 物体\n",
    "    risk = risk + risk_obj(x, _ObjectX, _ObjectY, params[6], params[7], params[8])\n",
    "    \n",
    "    # オフセットを計算\n",
    "    offset = x[np.argmin(risk)]\n",
    "    \n",
    "    return np.abs((_LaneWidth/2 + _Offset) - offset)\n"
   ]
  },
  {
   "cell_type": "code",
   "execution_count": 13,
   "metadata": {},
   "outputs": [],
   "source": [
    "# 最適化する目的関数\n",
    "def evaluation_risk_potential_params_debug(params):\n",
    "    \n",
    "    # ポイントを作る\n",
    "    x = np.linspace(0, _LaneWidth, 20)\n",
    "    risk = np.zeros(20)\n",
    "    \n",
    "    # リスク最小ポイントを算出\n",
    "    # 白線\n",
    "    risk = risk + risk_line_r(x, _LaneWidth, params[0], params[1])\n",
    "    risk = risk + risk_line_l(x, _LaneWidth, params[2], params[3])\n",
    "    \n",
    "    # 曲率\n",
    "    risk = risk + risk_curvature(x, _LaneWidth, _Curvature, params[4], params[5])\n",
    "    \n",
    "    # 物体\n",
    "    risk = risk + risk_obj(x, _ObjectX, _ObjectY, params[6], params[7], params[8])\n",
    "    \n",
    "    # オフセットを計算\n",
    "    offset = x[np.argmin(risk)]\n",
    "    \n",
    "    # debug\n",
    "    plt.plot(x, risk)\n",
    "    print(x)\n",
    "    print(np.argmin(risk))\n",
    "    print(offset)\n",
    "    print(np.abs((_LaneWidth/2 + _Offset) - offset))\n"
   ]
  },
  {
   "cell_type": "code",
   "execution_count": 7,
   "metadata": {},
   "outputs": [],
   "source": [
    "# 重みの最小値\n",
    "w_r_min = 0\n",
    "w_l_min = 0\n",
    "w_obj_min = 0\n",
    "w_rho_min = 0\n",
    "# 重みの最大値\n",
    "w_r_max = 1\n",
    "w_l_max = 1\n",
    "w_obj_max = 1\n",
    "w_rho_max = 1\n",
    "\n",
    "# 正規分布の標準偏差の最小値\n",
    "sigma_r_min = 0.001\n",
    "sigma_l_min = 0.001\n",
    "sigma_obj_x_min = 0.001\n",
    "sigma_obj_y_min = 0.001\n",
    "sigma_rho_min = 0.001\n",
    "# 正規分布の標準偏差の最大値\n",
    "sigma_r_max = 100\n",
    "sigma_l_max = 100\n",
    "sigma_obj_x_max = 100\n",
    "sigma_obj_y_max = 100\n",
    "sigma_rho_max = 100\n",
    "\n",
    "# 制約\n",
    "bounds = [\n",
    "    [w_r_min, w_r_max], [sigma_r_min, sigma_r_max],\n",
    "    [w_l_min, w_l_max], [sigma_l_min, sigma_l_max],\n",
    "    [w_rho_min, w_rho_max], [sigma_rho_min, sigma_rho_max],\n",
    "    [w_obj_min, w_obj_max], [sigma_obj_x_min, sigma_obj_x_max], [sigma_obj_y_min, sigma_obj_y_max]\n",
    "]"
   ]
  },
  {
   "cell_type": "code",
   "execution_count": 8,
   "metadata": {},
   "outputs": [],
   "source": [
    "_Offset = Offset[0]\n",
    "_LaneWidth = LaneWidth[0]\n",
    "_Curvature = Curvature[0]\n",
    "_ObjectX = ObjectX[0]\n",
    "_ObjectY = ObjectY[0]"
   ]
  },
  {
   "cell_type": "code",
   "execution_count": 9,
   "metadata": {},
   "outputs": [],
   "source": [
    "# 最適化\n",
    "res = differential_evolution(evaluation_risk_potential_params, bounds)"
   ]
  },
  {
   "cell_type": "code",
   "execution_count": 10,
   "metadata": {},
   "outputs": [
    {
     "data": {
      "text/plain": [
       "     fun: 0.10526315789473717\n",
       " message: 'Optimization terminated successfully.'\n",
       "    nfev: 15535\n",
       "     nit: 114\n",
       " success: True\n",
       "       x: array([ 0.82452328, 88.8267346 ,  0.85771782, 93.26597871,  0.60794725,\n",
       "       89.05896086,  0.14147069, 85.77355449, 10.97160932])"
      ]
     },
     "execution_count": 10,
     "metadata": {},
     "output_type": "execute_result"
    }
   ],
   "source": [
    "res"
   ]
  },
  {
   "cell_type": "code",
   "execution_count": 11,
   "metadata": {},
   "outputs": [],
   "source": [
    "params = res.x"
   ]
  },
  {
   "cell_type": "code",
   "execution_count": 14,
   "metadata": {},
   "outputs": [
    {
     "name": "stdout",
     "output_type": "stream",
     "text": [
      "[0.         0.26315789 0.52631579 0.78947368 1.05263158 1.31578947\n",
      " 1.57894737 1.84210526 2.10526316 2.36842105 2.63157895 2.89473684\n",
      " 3.15789474 3.42105263 3.68421053 3.94736842 4.21052632 4.47368421\n",
      " 4.73684211 5.        ]\n",
      "11\n",
      "2.894736842105263\n",
      "0.10526315789473717\n"
     ]
    },
    {
     "data": {
      "image/png": "[encoded data removed]",
      "text/plain": [
       "<Figure size 432x288 with 1 Axes>"
      ]
     },
     "metadata": {
      "needs_background": "light"
     },
     "output_type": "display_data"
    }
   ],
   "source": [
    "evaluation_risk_potential_params_debug(params)"
   ]
  },
  {
   "cell_type": "code",
   "execution_count": null,
   "metadata": {},
   "outputs": [],
   "source": []
  },
  {
   "cell_type": "code",
   "execution_count": null,
   "metadata": {},
   "outputs": [],
   "source": []
  },
  {
   "cell_type": "code",
   "execution_count": null,
   "metadata": {},
   "outputs": [],
   "source": []
  }
 ],
 "metadata": {
  "kernelspec": {
   "display_name": "Python 3",
   "language": "python",
   "name": "python3"
  },
  "language_info": {
   "codemirror_mode": {
    "name": "ipython",
    "version": 3
   },
   "file_extension": ".py",
   "mimetype": "text/x-python",
   "name": "python",
   "nbconvert_exporter": "python",
   "pygments_lexer": "ipython3",
   "version": "3.7.2"
  }
 },
 "nbformat": 4,
 "nbformat_minor": 4
}
