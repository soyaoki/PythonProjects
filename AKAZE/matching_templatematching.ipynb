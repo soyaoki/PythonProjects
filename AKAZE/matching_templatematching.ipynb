{
 "cells": [
  {
   "cell_type": "code",
   "execution_count": 1,
   "id": "8d450637-5a47-435a-9d7a-7534245cc751",
   "metadata": {},
   "outputs": [],
   "source": [
    "import time\n",
    "import cv2\n",
    "import math\n",
    "from PIL import Image\n",
    "import statistics\n",
    "import collections\n",
    "import numpy as np\n",
    "from matplotlib import pyplot as plt\n",
    "import os\n",
    "\n",
    "%matplotlib qt"
   ]
  },
  {
   "cell_type": "code",
   "execution_count": 2,
   "id": "afd2ca0c-3895-45ec-98ef-ae85c9df2650",
   "metadata": {},
   "outputs": [],
   "source": [
    "capture = cv2.VideoCapture(0)\n",
    "\n",
    "# テンプレート画像の読み込み（グレースケール画像として）\n",
    "template = cv2.imread('template.png', 0)\n",
    "w, h = template.shape[::-1]\n",
    " \n",
    "# 比較するための6つの方法のすべて\n",
    "# methods = ['cv2.TM_CCOEFF', 'cv2.TM_CCOEFF_NORMED', 'cv2.TM_CCORR',\n",
    "#            'cv2.TM_CCORR_NORMED', 'cv2.TM_SQDIFF', 'cv2.TM_SQDIFF_NORMED']\n",
    "methods = ['cv2.TM_CCOEFF']"
   ]
  },
  {
   "cell_type": "code",
   "execution_count": 3,
   "id": "094f1672-144e-461e-8cac-f4c484bd069f",
   "metadata": {},
   "outputs": [
    {
     "name": "stderr",
     "output_type": "stream",
     "text": [
      "\n",
      "KeyboardInterrupt\n",
      "\n"
     ]
    }
   ],
   "source": [
    "while(True):\n",
    "    # 探索対象画像読み込み（オリジナル＝カラーあり）\n",
    "    ret, src = capture.read()\n",
    "    # 探索対象画像のグレースケール化\n",
    "    gray = cv2.cvtColor(src, cv2.COLOR_BGR2GRAY)\n",
    "    \n",
    "    # 各比較方法によるマッチング\n",
    "    for meth in methods:\n",
    "        tmp_src = src.copy()\n",
    "        tmp_gray = gray.copy()\n",
    "        method = eval(meth)\n",
    "\n",
    "        # マッチング適用\n",
    "        # マッチング自体グレースケール化した画像同士で行う\n",
    "        res = cv2.matchTemplate(tmp_gray, template, method)\n",
    "        min_val, max_val, min_loc, max_loc = cv2.minMaxLoc(res)\n",
    "\n",
    "        # TM_SQDIFF・TM_SQDIFF_NORMEDの場合は最小を取る\n",
    "        if method in [cv2.TM_SQDIFF, cv2.TM_SQDIFF_NORMED]:\n",
    "            top_left = min_loc\n",
    "        else:\n",
    "            top_left = max_loc\n",
    "        bottom_right = (top_left[0] + w, top_left[1] + h)\n",
    "\n",
    "        # マッチング結果は探索対象画像（カラー）に反映\n",
    "        cv2.rectangle(tmp_src, top_left, bottom_right, 255, 2)\n",
    "        \n",
    "        cv2.imshow('img', tmp_src)\n",
    "        if cv2.waitKey(1) & 0xFF == ord('q'):\n",
    "            break\n",
    "            \n",
    "capture.release()\n",
    "cv2.destroyAllWindows()"
   ]
  },
  {
   "cell_type": "code",
   "execution_count": null,
   "id": "412de401-8307-4069-a86e-b9abefe02b69",
   "metadata": {},
   "outputs": [],
   "source": []
  }
 ],
 "metadata": {
  "kernelspec": {
   "display_name": "Python 3 (ipykernel)",
   "language": "python",
   "name": "python3"
  },
  "language_info": {
   "codemirror_mode": {
    "name": "ipython",
    "version": 3
   },
   "file_extension": ".py",
   "mimetype": "text/x-python",
   "name": "python",
   "nbconvert_exporter": "python",
   "pygments_lexer": "ipython3",
   "version": "3.9.7"
  }
 },
 "nbformat": 4,
 "nbformat_minor": 5
}
