{
 "cells": [
  {
   "cell_type": "code",
   "execution_count": 1,
   "metadata": {},
   "outputs": [],
   "source": [
    "import matplotlib.pyplot as plt\n",
    "import numpy as np\n",
    "# ^^^ pyforest auto-imports - don't write above this line\n",
    "# from pulp import *\n",
    "from scipy import interpolate\n",
    "from scipy.optimize import fmin, fminbound, minimize, BFGS"
   ]
  },
  {
   "cell_type": "code",
   "execution_count": 2,
   "metadata": {},
   "outputs": [],
   "source": [
    "class Vehicle:\n",
    "    def __init__(self, ):\n",
    "        self.pos=[] # x, y [m]\n",
    "        self.size=[] # length, width [m]\n",
    "        self.ori=[] # [rad]\n",
    "        self.vel=[] # [m/s]"
   ]
  },
  {
   "cell_type": "code",
   "execution_count": 3,
   "metadata": {},
   "outputs": [],
   "source": [
    "def vehicle_plot(pos, size, ori):\n",
    "    if 0:\n",
    "        points = [\n",
    "            [pos[0] - size[0]/2, pos[0] + size[0]/2, pos[0] + size[0]/2, pos[0] - size[0]/2, pos[0] - size[0]/2],\n",
    "            [pos[1] - size[1]/2, pos[1] - size[1]/2, pos[1] + size[1]/2, pos[1] + size[1]/2, pos[1] - size[1]/2]\n",
    "        ]\n",
    "    else:\n",
    "        points = [[],[]]\n",
    "        x = [- size[0]/2, size[0]/2, size[0]/2, - size[0]/2, - size[0]/2]\n",
    "        y = [- size[1]/2, - size[1]/2, size[1]/2, size[1]/2, - size[1]/2]\n",
    "        A = [[np.cos(ori), -np.sin(ori)],[np.sin(ori), np.cos(ori)]]\n",
    "        for i in range(len(x)):\n",
    "            buf = np.dot(A,np.array([x[i],y[i]]))\n",
    "            points[0].append(buf[0] + pos[0])\n",
    "            points[1].append(buf[1] + pos[1])\n",
    "    plt.plot(points[0], points[1])"
   ]
  },
  {
   "cell_type": "code",
   "execution_count": 4,
   "metadata": {},
   "outputs": [],
   "source": [
    "# 駐車車両\n",
    "parked_vehicle = Vehicle()\n",
    "parked_vehicle.pos = [20, 1.5]\n",
    "parked_vehicle.size = [4, 2]\n",
    "parked_vehicle.ori = 0\n",
    "parked_vehicle.ori = 0\n",
    "\n",
    "# 自社\n",
    "ego_vehicle = Vehicle()\n",
    "ego_vehicle.pos = [0,0]\n",
    "ego_vehicle.size = [4,2]\n",
    "ego_vehicle.ori = 0\n",
    "ego_vehicle.vel = 10/3.6\n",
    "\n",
    " # 車線\n",
    "width_lane = 4\n",
    "line_left = [[0,40],[width_lane/2, width_lane/2]]\n",
    "line_center = [[0,40], [0,0]]\n",
    "line_right = [[0,40],[-width_lane/2, -width_lane/2]]"
   ]
  },
  {
   "cell_type": "code",
   "execution_count": 5,
   "metadata": {},
   "outputs": [
    {
     "data": {
      "text/plain": [
       "Text(0, 0.5, 'Y[m]')"
      ]
     },
     "execution_count": 5,
     "metadata": {},
     "output_type": "execute_result"
    },
    {
     "data": {
      "image/png": "[encoded data removed]",
      "text/plain": [
       "<Figure size 432x288 with 1 Axes>"
      ]
     },
     "metadata": {
      "needs_background": "light"
     },
     "output_type": "display_data"
    }
   ],
   "source": [
    "# 描画\n",
    "plt.scatter(parked_vehicle.pos[0], parked_vehicle.pos[1])\n",
    "vehicle_plot(parked_vehicle.pos, parked_vehicle.size, parked_vehicle.ori)\n",
    "plt.scatter(ego_vehicle.pos[0], ego_vehicle.pos[1])\n",
    "vehicle_plot(ego_vehicle.pos, ego_vehicle.size, ego_vehicle.ori)\n",
    "\n",
    "plt.plot(line_left[0], line_left[1], 'k')\n",
    "plt.plot(line_right[0], line_right[1], '--k')\n",
    "\n",
    "plt.ylim([-10,10])\n",
    "plt.xlabel('X[m]')\n",
    "plt.ylabel('Y[m]')"
   ]
  },
  {
   "cell_type": "code",
   "execution_count": 14,
   "metadata": {},
   "outputs": [],
   "source": [
    "#interpld\n",
    "# ValueError: The number of derivatives at boundaries does not match: expected 1, got 0+0\n",
    "# 2点だとエラー\n",
    "def spline1(x,y,point):\n",
    "    kind_option = 'cubic' if len(x) > 3 else 'quadratic'\n",
    "    f = interpolate.interp1d(x, y,kind=kind_option) #kindの値は一次ならslinear、二次ならquadraticといった感じに\n",
    "    X = np.linspace(x[0],x[-1],num=point,endpoint=True)\n",
    "    Y = f(X)\n",
    "    return X,Y\n",
    "\n",
    "#Akima1DInterpolator\n",
    "def spline2(x,y,point):\n",
    "    f = interpolate.Akima1DInterpolator(x, y)\n",
    "    X = np.linspace(x[0],x[-1],num=point,endpoint=True)\n",
    "    Y = f(X)\n",
    "    return X,Y\n",
    "\n",
    "#splprep\n",
    "def spline3(x,y,point,deg):\n",
    "    tck,u = interpolate.splprep([x,y],k=deg,s=0) \n",
    "    u = np.linspace(0,1,num=point,endpoint=True) \n",
    "    spline = interpolate.splev(u,tck)\n",
    "    return spline[0],spline[1]"
   ]
  },
  {
   "cell_type": "code",
   "execution_count": 15,
   "metadata": {},
   "outputs": [],
   "source": [
    "# 経路評価\n",
    "def evaluation_path(X):\n",
    "    \n",
    "    points = [\n",
    "        [ego_vehicle.pos[0], parked_vehicle.pos[0] + X[0], line_center[0][1]], \n",
    "        [ego_vehicle.pos[1], parked_vehicle.pos[1] + X[1], line_center[1][1]]\n",
    "    ]\n",
    "    \n",
    "    if 0:\n",
    "        path_coef = np.polyfit(points[0], points[1], 6)\n",
    "        path_x= np.linspace(ego_vehicle.pos[0], line_left[0][1], 20)\n",
    "        path_y = np.poly1d(path_coef)(path_x)\n",
    "    else:\n",
    "        path_x, path_y = spline1(points[0], points[1], 20)\n",
    "        \n",
    "    \n",
    "    eval_val = 0 \n",
    "    \n",
    "    # (１)死角\n",
    "    eval_val += 1 * calculation_dead_area(path_x, path_y)\n",
    "    \n",
    "    # (２)はみ出し\n",
    "    eval_val += 1 * calculation_out_of_road(path_x, path_y)\n",
    "    \n",
    "    # (３)衝突\n",
    "    eval_val += 1 * calculation_collision(path_x, path_y)\n",
    "    \n",
    "    # (４)道路中央を走行\n",
    "    eval_val += 100 * calculation_center_of_road(path_x, path_y)\n",
    "    \n",
    "    # (５)ジャーク（yの二回微分）\n",
    "    eval_val += 1 * calculation_lat_jark(path_x, path_y)    \n",
    "    \n",
    "    # (６)ハンドル角速度（曲率変化量） \n",
    "    \n",
    "    return eval_val"
   ]
  },
  {
   "cell_type": "code",
   "execution_count": 16,
   "metadata": {},
   "outputs": [],
   "source": [
    "# 死角の計算\n",
    "def calculation_dead_area(path_x, path_y):\n",
    "    fr = [parked_vehicle.pos[0] + parked_vehicle.size[0]/2, parked_vehicle.pos[1] - parked_vehicle.size[1]/2]\n",
    "    fl = [parked_vehicle.pos[0] + parked_vehicle.size[0]/2, parked_vehicle.pos[1] + parked_vehicle.size[1]/2]\n",
    "    \n",
    "    dead_area = 0\n",
    "    pp = [0, 0]\n",
    "    \n",
    "    if 0:\n",
    "        plt.scatter(parked_vehicle.pos[0], parked_vehicle.pos[1])\n",
    "        vehicle_plot(parked_vehicle.pos, parked_vehicle.size, parked_vehicle.ori)\n",
    "        plt.scatter(ego_vehicle.pos[0], ego_vehicle.pos[1])\n",
    "        vehicle_plot(ego_vehicle.pos, ego_vehicle.size, ego_vehicle.ori)\n",
    "\n",
    "        plt.plot(line_left[0], line_left[1], 'k')\n",
    "        plt.plot(line_right[0], line_right[1], '--k')\n",
    "\n",
    "        plt.ylim([-10,10])\n",
    "        plt.xlim([0,40])\n",
    "        plt.xlabel('X[m]')\n",
    "        plt.ylabel('Y[m]')\n",
    "    \n",
    "    for i in range(len(path_x)):\n",
    "        if 0:\n",
    "            a = ( (fr[0] - path_x[i]) / (fr[1] - path_y[i]) ) * parked_vehicle.size[1]\n",
    "            b = parked_vehicle.size[1] \n",
    "            dead_area += a * b * 1/2\n",
    "        else:\n",
    "            if (path_x[i] < fr[0]):\n",
    "                a = (fr[1] - path_y[i]) / (fr[0] - path_x[i])\n",
    "                b = fr[1] - a * fr[0]\n",
    "                \n",
    "                pp[0] = (fl[1] - b)/a\n",
    "                pp[1] = fl[1]\n",
    "\n",
    "                if (pp[0] > fl[0]):\n",
    "                    dead_area += (pp[0] - fl[0])*(fl[1] - fr[1])*1/2\n",
    "                # plt.plot([pp[0], fl[0], fr[0], pp[0]], [pp[1], fl[1], fr[1], pp[1]])\n",
    "    \n",
    "    return dead_area"
   ]
  },
  {
   "cell_type": "code",
   "execution_count": 17,
   "metadata": {},
   "outputs": [],
   "source": [
    "# はみ出し\n",
    "def calculation_out_of_road(path_x, path_y):\n",
    "    return np.sum(path_y<line_right[1][0]) + 1000*np.sum(path_y>0)"
   ]
  },
  {
   "cell_type": "code",
   "execution_count": 18,
   "metadata": {},
   "outputs": [],
   "source": [
    "# 衝突\n",
    "def calculation_collision(path_x, path_y):\n",
    "    d = np.sqrt((parked_vehicle.pos[0] - path_x) ** 2 + (parked_vehicle.pos[1] - path_y) ** 2)\n",
    "    d_min = np.min(d)\n",
    "    torelance = 3\n",
    "    ret = np.sum(1/np.exp(d))\n",
    "    if d_min < torelance:\n",
    "        #ret = np.inf\n",
    "        ret = 100000000*ret\n",
    "        \n",
    "    return ret"
   ]
  },
  {
   "cell_type": "code",
   "execution_count": 19,
   "metadata": {},
   "outputs": [],
   "source": [
    "# 道路中央\n",
    "def calculation_center_of_road(path_x, path_y):\n",
    "    return np.sum(np.exp(np.abs(path_y - line_center[1][0])))"
   ]
  },
  {
   "cell_type": "code",
   "execution_count": 20,
   "metadata": {},
   "outputs": [],
   "source": [
    "# 横ジャーク\n",
    "def calculation_lat_jark(path_x, path_y):\n",
    "    return np.sum(np.diff(path_y, n=2))"
   ]
  },
  {
   "cell_type": "code",
   "execution_count": 21,
   "metadata": {},
   "outputs": [
    {
     "name": "stdout",
     "output_type": "stream",
     "text": [
      "| niter |f evals|CG iter|  obj func   |tr radius |   opt    |  c viol  |\n",
      "|-------|-------|-------|-------------|----------|----------|----------|\n",
      "|   1   |   3   |   0   | +8.7200e+03 | 1.00e+00 | 8.16e+03 | 1.00e+01 |\n",
      "|   2   |   6   |   1   | +8.7200e+03 | 1.00e-01 | 8.16e+03 | 1.00e+01 |\n",
      "|   3   |   9   |   3   | +8.7168e+03 | 5.60e-01 | 8.16e+03 | 1.00e+01 |\n",
      "|   4   |  12   |   5   | +8.6895e+03 | 3.92e+00 | 8.10e+03 | 9.99e+00 |\n",
      "|   5   |  15   |   7   | +8.6895e+03 | 3.92e-01 | 8.10e+03 | 9.99e+00 |\n",
      "|   6   |  18   |   9   | +8.3021e+03 | 2.74e+00 | 7.40e+03 | 9.88e+00 |\n",
      "|   7   |  21   |  11   | +5.5128e+03 | 1.15e+01 | 4.16e+03 | 8.62e+00 |\n",
      "|   8   |  24   |  12   | +5.5128e+03 | 3.61e+00 | 4.16e+03 | 8.62e+00 |\n",
      "|   9   |  27   |  14   | +5.5128e+03 | 1.03e+00 | 4.16e+03 | 8.62e+00 |\n",
      "|  10   |  30   |  16   | +5.5128e+03 | 1.77e-01 | 4.16e+03 | 8.62e+00 |\n",
      "|  11   |  33   |  17   | +5.3466e+03 | 1.01e+00 | 3.97e+03 | 8.48e+00 |\n",
      "|  12   |  36   |  19   | +5.3466e+03 | 1.44e-01 | 3.97e+03 | 8.48e+00 |\n",
      "|  13   |  39   |  21   | +5.3100e+03 | 1.01e+00 | 3.90e+03 | 8.37e+00 |\n",
      "|  14   |  42   |  23   | +5.3100e+03 | 1.82e-01 | 3.90e+03 | 8.37e+00 |\n",
      "|  15   |  45   |  25   | +5.2858e+03 | 1.28e+00 | 3.85e+03 | 8.23e+00 |\n",
      "|  16   |  48   |  27   | +5.2858e+03 | 3.13e-01 | 3.85e+03 | 8.23e+00 |\n",
      "|  17   |  51   |  28   | +5.2630e+03 | 1.76e+00 | 3.78e+03 | 7.98e+00 |\n",
      "|  18   |  54   |  29   | +5.2630e+03 | 4.96e-01 | 3.78e+03 | 7.98e+00 |\n",
      "|  19   |  57   |  30   | +5.2630e+03 | 4.96e-02 | 3.78e+03 | 7.98e+00 |\n",
      "|  20   |  60   |  31   | +5.2606e+03 | 2.78e-01 | 3.77e+03 | 7.94e+00 |\n",
      "|  21   |  63   |  32   | +5.2548e+03 | 1.56e+00 | 3.72e+03 | 7.71e+00 |\n",
      "|  22   |  66   |  33   | +5.2548e+03 | 4.08e-01 | 3.72e+03 | 7.71e+00 |\n",
      "|  23   |  69   |  34   | +5.2548e+03 | 4.08e-02 | 3.72e+03 | 7.71e+00 |\n",
      "|  24   |  72   |  35   | +5.2541e+03 | 2.29e-01 | 3.71e+03 | 7.68e+00 |\n",
      "|  25   |  75   |  36   | +5.2524e+03 | 1.28e+00 | 3.68e+03 | 7.50e+00 |\n",
      "|  26   |  78   |  37   | +5.2599e+03 | 7.18e+00 | 3.51e+03 | 6.47e+00 |\n",
      "|  27   |  81   |  38   | +5.7995e+03 | 4.03e+01 | 3.43e+03 | 7.33e-01 |\n",
      "|  28   |  84   |  39   | +5.9390e+03 | 4.03e+01 | 3.50e+03 | 0.00e+00 |\n",
      "|  29   |  87   |  40   | +5.9390e+03 | 4.03e+01 | 3.50e+03 | 0.00e+00 |\n",
      "|  30   |  90   |  41   | +5.9390e+03 | 4.03e+00 | 3.50e+03 | 0.00e+00 |\n",
      "|  31   |  93   |  42   | +5.9381e+03 | 4.03e+00 | 3.50e+03 | 0.00e+00 |\n",
      "|  32   |  96   |  43   | +5.9373e+03 | 4.03e+00 | 3.50e+03 | 0.00e+00 |\n",
      "|  33   |  99   |  44   | +5.9373e+03 | 4.03e-01 | 3.50e+03 | 0.00e+00 |\n",
      "|  34   |  102  |  45   | +5.9364e+03 | 4.03e-01 | 3.50e+03 | 0.00e+00 |\n",
      "|  35   |  105  |  46   | +5.9355e+03 | 4.03e-01 | 3.50e+03 | 0.00e+00 |\n",
      "|  36   |  108  |  47   | +5.9355e+03 | 4.03e-02 | 3.50e+03 | 0.00e+00 |\n",
      "|  37   |  111  |  48   | +5.9350e+03 | 4.03e-02 | 3.50e+03 | 0.00e+00 |\n",
      "|  38   |  114  |  49   | +5.9345e+03 | 4.03e-02 | 3.50e+03 | 0.00e+00 |\n",
      "|  39   |  117  |  50   | +5.7811e+03 | 2.82e-01 | 3.39e+03 | 0.00e+00 |\n",
      "|  40   |  120  |  51   | +5.7811e+03 | 2.82e-02 | 3.39e+03 | 0.00e+00 |\n",
      "|  41   |  123  |  52   | +5.7808e+03 | 2.82e-02 | 3.39e+03 | 0.00e+00 |\n",
      "|  42   |  126  |  53   | +5.7804e+03 | 2.82e-02 | 3.39e+03 | 0.00e+00 |\n",
      "|  43   |  129  |  54   | +5.6760e+03 | 1.97e-01 | 3.31e+03 | 0.00e+00 |\n",
      "|  44   |  132  |  55   | +5.6760e+03 | 1.97e-02 | 3.31e+03 | 0.00e+00 |\n",
      "|  45   |  135  |  56   | +5.6757e+03 | 1.97e-02 | 3.31e+03 | 0.00e+00 |\n",
      "|  46   |  138  |  57   | +5.6755e+03 | 1.97e-02 | 3.31e+03 | 0.00e+00 |\n",
      "|  47   |  141  |  58   | +5.6038e+03 | 1.38e-01 | 3.26e+03 | 0.00e+00 |\n",
      "|  48   |  144  |  59   | +5.6038e+03 | 1.38e-02 | 3.26e+03 | 0.00e+00 |\n",
      "|  49   |  147  |  60   | +5.6036e+03 | 1.38e-02 | 3.26e+03 | 0.00e+00 |\n",
      "|  50   |  150  |  61   | +5.6035e+03 | 1.38e-02 | 3.26e+03 | 0.00e+00 |\n",
      "|  51   |  153  |  62   | +5.5539e+03 | 9.67e-02 | 3.22e+03 | 0.00e+00 |\n",
      "|  52   |  156  |  63   | +5.5539e+03 | 9.67e-03 | 3.22e+03 | 0.00e+00 |\n",
      "|  53   |  159  |  64   | +5.5538e+03 | 9.67e-03 | 3.22e+03 | 0.00e+00 |\n",
      "|  54   |  162  |  65   | +5.5537e+03 | 9.67e-03 | 3.22e+03 | 0.00e+00 |\n",
      "|  55   |  165  |  66   | +5.5194e+03 | 6.77e-02 | 3.20e+03 | 0.00e+00 |\n",
      "|  56   |  168  |  67   | +5.2863e+03 | 4.74e-01 | 3.03e+03 | 0.00e+00 |\n",
      "|  57   |  171  |  68   | +5.2863e+03 | 4.74e-02 | 3.03e+03 | 0.00e+00 |\n",
      "|  58   |  174  |  69   | +5.2859e+03 | 4.74e-02 | 3.03e+03 | 0.00e+00 |\n",
      "|  59   |  177  |  70   | +5.2855e+03 | 4.74e-02 | 3.03e+03 | 0.00e+00 |\n",
      "|  60   |  180  |  71   | +5.2855e+03 | 4.74e-03 | 3.03e+03 | 0.00e+00 |\n",
      "|  61   |  183  |  72   | +5.2855e+03 | 4.74e-03 | 3.03e+03 | 0.00e+00 |\n",
      "|  62   |  186  |  73   | +5.2854e+03 | 4.74e-03 | 3.03e+03 | 0.00e+00 |\n",
      "|  63   |  189  |  74   | +5.2696e+03 | 3.32e-02 | 3.01e+03 | 0.00e+00 |\n",
      "|  64   |  192  |  75   | +5.2696e+03 | 3.32e-03 | 3.01e+03 | 0.00e+00 |\n",
      "|  65   |  195  |  76   | +5.2696e+03 | 3.32e-03 | 3.01e+03 | 0.00e+00 |\n",
      "|  66   |  198  |  77   | +5.2695e+03 | 3.32e-03 | 3.01e+03 | 0.00e+00 |\n",
      "|  67   |  201  |  78   | +5.2585e+03 | 2.32e-02 | 3.01e+03 | 0.00e+00 |\n",
      "|  68   |  204  |  79   | +5.2585e+03 | 2.32e-03 | 3.01e+03 | 0.00e+00 |\n",
      "|  69   |  207  |  80   | +5.2585e+03 | 2.32e-03 | 3.01e+03 | 0.00e+00 |\n",
      "|  70   |  210  |  81   | +5.2584e+03 | 2.32e-03 | 3.01e+03 | 0.00e+00 |\n",
      "|  71   |  213  |  82   | +5.2584e+03 | 2.32e-04 | 3.01e+03 | 0.00e+00 |\n",
      "|  72   |  216  |  83   | +5.2584e+03 | 2.32e-04 | 3.01e+03 | 0.00e+00 |\n",
      "|  73   |  219  |  84   | +5.2584e+03 | 2.32e-04 | 3.01e+03 | 0.00e+00 |\n",
      "|  74   |  222  |  85   | +5.2577e+03 | 1.63e-03 | 3.00e+03 | 0.00e+00 |\n",
      "|  75   |  225  |  86   | +5.2523e+03 | 1.14e-02 | 3.00e+03 | 0.00e+00 |\n",
      "|  76   |  228  |  87   | +5.2523e+03 | 1.14e-03 | 3.00e+03 | 0.00e+00 |\n",
      "|  77   |  231  |  88   | +5.2522e+03 | 1.14e-03 | 3.00e+03 | 0.00e+00 |\n",
      "|  78   |  234  |  89   | +5.2522e+03 | 1.14e-03 | 3.00e+03 | 0.00e+00 |\n",
      "|  79   |  237  |  90   | +5.2522e+03 | 1.14e-04 | 3.00e+03 | 0.00e+00 |\n",
      "|  80   |  240  |  91   | +5.2522e+03 | 1.14e-04 | 3.00e+03 | 0.00e+00 |\n",
      "|  81   |  243  |  92   | +5.2522e+03 | 1.14e-04 | 3.00e+03 | 0.00e+00 |\n",
      "|  82   |  246  |  93   | +5.2519e+03 | 7.97e-04 | 3.00e+03 | 0.00e+00 |\n",
      "|  83   |  249  |  94   | +5.2519e+03 | 7.97e-05 | 3.00e+03 | 0.00e+00 |\n",
      "|  84   |  252  |  95   | +5.2519e+03 | 7.97e-05 | 3.00e+03 | 0.00e+00 |\n",
      "|  85   |  255  |  96   | +5.2519e+03 | 7.97e-05 | 3.00e+03 | 0.00e+00 |\n",
      "|  86   |  258  |  97   | +5.2516e+03 | 5.58e-04 | 3.00e+03 | 0.00e+00 |\n",
      "|  87   |  261  |  98   | +5.2516e+03 | 5.58e-05 | 3.00e+03 | 0.00e+00 |\n",
      "|  88   |  264  |  99   | +5.2516e+03 | 5.58e-05 | 3.00e+03 | 0.00e+00 |\n",
      "|  89   |  267  |  100  | +5.2516e+03 | 5.58e-05 | 3.00e+03 | 0.00e+00 |\n",
      "|  90   |  270  |  101  | +5.2514e+03 | 3.90e-04 | 3.00e+03 | 0.00e+00 |\n",
      "|  91   |  273  |  102  | +5.2514e+03 | 3.90e-05 | 3.00e+03 | 0.00e+00 |\n",
      "|  92   |  276  |  103  | +5.2514e+03 | 3.90e-05 | 3.00e+03 | 0.00e+00 |\n",
      "|  93   |  279  |  104  | +5.2514e+03 | 3.90e-05 | 3.00e+03 | 0.00e+00 |\n",
      "|  94   |  282  |  105  | +5.2513e+03 | 2.73e-04 | 3.00e+03 | 0.00e+00 |\n",
      "|  95   |  285  |  106  | +5.2513e+03 | 2.73e-05 | 3.00e+03 | 0.00e+00 |\n",
      "|  96   |  288  |  107  | +5.2513e+03 | 2.73e-05 | 3.00e+03 | 0.00e+00 |\n",
      "|  97   |  291  |  108  | +5.2513e+03 | 2.73e-05 | 3.00e+03 | 0.00e+00 |\n",
      "|  98   |  294  |  109  | +5.2512e+03 | 1.91e-04 | 3.00e+03 | 0.00e+00 |\n",
      "|  99   |  297  |  110  | +5.2512e+03 | 1.91e-05 | 3.00e+03 | 0.00e+00 |\n",
      "|  100  |  300  |  111  | +5.2512e+03 | 1.91e-05 | 3.00e+03 | 0.00e+00 |\n",
      "|  101  |  303  |  112  | +5.2512e+03 | 1.91e-05 | 3.00e+03 | 0.00e+00 |\n",
      "|  102  |  306  |  113  | +5.2512e+03 | 1.91e-06 | 3.00e+03 | 0.00e+00 |\n",
      "|  103  |  309  |  114  | +5.2512e+03 | 1.91e-06 | 3.00e+03 | 0.00e+00 |\n",
      "|  104  |  312  |  115  | +5.2512e+03 | 1.91e-06 | 3.00e+03 | 0.00e+00 |\n",
      "|  105  |  315  |  116  | +5.2512e+03 | 1.91e-06 | 3.00e+03 | 0.00e+00 |\n",
      "|  106  |  318  |  117  | +5.2512e+03 | 1.34e-05 | 3.00e+03 | 0.00e+00 |\n",
      "|  107  |  321  |  118  | +5.2512e+03 | 1.34e-06 | 3.00e+03 | 0.00e+00 |\n",
      "|  108  |  324  |  119  | +5.2512e+03 | 1.34e-06 | 3.00e+03 | 0.00e+00 |\n",
      "|  109  |  327  |  120  | +5.2512e+03 | 1.34e-06 | 3.00e+03 | 0.00e+00 |\n",
      "|  110  |  330  |  121  | +5.2512e+03 | 1.34e-06 | 3.00e+03 | 0.00e+00 |\n",
      "|  111  |  333  |  122  | +5.2512e+03 | 1.34e-06 | 3.00e+03 | 0.00e+00 |\n",
      "|  112  |  336  |  123  | +5.2512e+03 | 1.34e-06 | 3.00e+03 | 0.00e+00 |\n",
      "|  113  |  339  |  124  | +5.2512e+03 | 1.34e-06 | 3.00e+03 | 0.00e+00 |\n",
      "|  114  |  342  |  125  | +5.2512e+03 | 1.34e-06 | 3.00e+03 | 0.00e+00 |\n",
      "|  115  |  345  |  126  | +5.2512e+03 | 9.37e-06 | 3.00e+03 | 0.00e+00 |\n",
      "|  116  |  348  |  127  | +5.2512e+03 | 9.37e-07 | 3.00e+03 | 0.00e+00 |\n",
      "|  117  |  351  |  128  | +5.2512e+03 | 9.37e-07 | 3.00e+03 | 0.00e+00 |\n"
     ]
    },
    {
     "name": "stdout",
     "output_type": "stream",
     "text": [
      "|  118  |  354  |  129  | +5.2512e+03 | 9.37e-07 | 3.00e+03 | 0.00e+00 |\n",
      "|  119  |  357  |  130  | +5.2512e+03 | 9.37e-07 | 3.00e+03 | 0.00e+00 |\n",
      "|  120  |  360  |  131  | +5.2512e+03 | 9.37e-07 | 3.00e+03 | 0.00e+00 |\n",
      "|  121  |  363  |  132  | +5.2512e+03 | 9.37e-07 | 3.00e+03 | 0.00e+00 |\n",
      "|  122  |  366  |  133  | +5.2512e+03 | 6.56e-06 | 3.00e+03 | 0.00e+00 |\n",
      "|  123  |  369  |  134  | +5.2512e+03 | 6.56e-07 | 3.00e+03 | 0.00e+00 |\n",
      "|  124  |  372  |  135  | +5.2512e+03 | 6.56e-07 | 3.00e+03 | 0.00e+00 |\n",
      "|  125  |  375  |  136  | +5.2512e+03 | 6.56e-07 | 3.00e+03 | 0.00e+00 |\n",
      "|  126  |  378  |  137  | +5.2512e+03 | 4.59e-06 | 3.00e+03 | 0.00e+00 |\n",
      "|  127  |  381  |  138  | +5.2512e+03 | 4.59e-07 | 3.00e+03 | 0.00e+00 |\n",
      "|  128  |  384  |  139  | +5.2512e+03 | 4.59e-07 | 3.00e+03 | 0.00e+00 |\n",
      "|  129  |  387  |  140  | +5.2512e+03 | 4.59e-07 | 3.00e+03 | 0.00e+00 |\n",
      "|  130  |  390  |  141  | +5.2512e+03 | 4.59e-07 | 3.00e+03 | 0.00e+00 |\n",
      "|  131  |  393  |  142  | +5.2512e+03 | 4.59e-07 | 3.00e+03 | 0.00e+00 |\n",
      "|  132  |  396  |  143  | +5.2512e+03 | 4.59e-07 | 3.00e+03 | 0.00e+00 |\n",
      "|  133  |  399  |  144  | +5.2512e+03 | 4.59e-07 | 3.00e+03 | 0.00e+00 |\n",
      "|  134  |  402  |  145  | +5.2512e+03 | 4.59e-07 | 3.00e+03 | 0.00e+00 |\n",
      "|  135  |  405  |  146  | +5.2512e+03 | 4.59e-07 | 3.00e+03 | 0.00e+00 |\n",
      "|  136  |  408  |  147  | +5.2512e+03 | 4.59e-07 | 3.00e+03 | 0.00e+00 |\n"
     ]
    },
    {
     "name": "stderr",
     "output_type": "stream",
     "text": [
      "/usr/local/lib/python3.7/site-packages/scipy/optimize/_hessian_update_strategy.py:187: UserWarning: delta_grad == 0.0. Check if the approximated function is linear. If the function is linear better results can be obtained by defining the Hessian as zero instead of using quasi-Newton approximations.\n",
      "  'approximations.', UserWarning)\n",
      "/usr/local/lib/python3.7/site-packages/scipy/optimize/_hessian_update_strategy.py:187: UserWarning: delta_grad == 0.0. Check if the approximated function is linear. If the function is linear better results can be obtained by defining the Hessian as zero instead of using quasi-Newton approximations.\n",
      "  'approximations.', UserWarning)\n"
     ]
    },
    {
     "name": "stdout",
     "output_type": "stream",
     "text": [
      "|  137  |  411  |  148  | +5.2512e+03 | 3.21e-06 | 3.00e+03 | 0.00e+00 |\n",
      "|  138  |  414  |  149  | +5.2512e+03 | 3.21e-07 | 3.00e+03 | 0.00e+00 |\n",
      "|  139  |  417  |  150  | +5.2512e+03 | 3.21e-07 | 3.00e+03 | 0.00e+00 |\n",
      "|  140  |  420  |  151  | +5.2512e+03 | 3.21e-07 | 3.00e+03 | 0.00e+00 |\n",
      "|  141  |  423  |  152  | +5.2512e+03 | 3.21e-07 | 3.00e+03 | 0.00e+00 |\n",
      "|  142  |  426  |  153  | +5.2512e+03 | 3.21e-07 | 3.00e+03 | 0.00e+00 |\n",
      "|  143  |  429  |  154  | +5.2512e+03 | 3.21e-07 | 3.00e+03 | 0.00e+00 |\n",
      "|  144  |  432  |  155  | +5.2512e+03 | 2.25e-06 | 3.00e+03 | 0.00e+00 |\n",
      "|  145  |  435  |  156  | +5.2512e+03 | 2.25e-07 | 3.00e+03 | 0.00e+00 |\n",
      "|  146  |  438  |  157  | +5.2512e+03 | 2.25e-07 | 3.00e+03 | 0.00e+00 |\n",
      "|  147  |  441  |  158  | +5.2512e+03 | 2.25e-07 | 3.00e+03 | 0.00e+00 |\n",
      "|  148  |  444  |  159  | +5.2512e+03 | 2.25e-07 | 3.00e+03 | 0.00e+00 |\n",
      "|  149  |  447  |  160  | +5.2512e+03 | 1.57e-06 | 3.00e+03 | 0.00e+00 |\n",
      "|  150  |  450  |  161  | +5.2512e+03 | 1.57e-07 | 3.00e+03 | 0.00e+00 |\n",
      "|  151  |  453  |  162  | +5.2512e+03 | 1.57e-07 | 3.00e+03 | 0.00e+00 |\n",
      "|  152  |  453  |  163  | +5.2512e+03 | 1.57e-08 | 3.00e+03 | 0.00e+00 |\n",
      "|  153  |  453  |  164  | +5.2512e+03 | 1.57e-09 | 3.00e+03 | 0.00e+00 |\n",
      "|  154  |  453  |  165  | +5.2512e+03 | 1.57e-10 | 3.00e+03 | 0.00e+00 |\n",
      "|  155  |  453  |  166  | +5.2512e+03 | 1.57e-11 | 3.00e+03 | 0.00e+00 |\n",
      "|  156  |  453  |  166  | +5.2512e+03 | 1.00e+00 | 3.00e+03 | 0.00e+00 |\n",
      "|  157  |  453  |  167  | +5.2512e+03 | 1.00e-01 | 3.00e+03 | 0.00e+00 |\n",
      "|  158  |  453  |  168  | +5.2512e+03 | 1.00e-02 | 3.00e+03 | 0.00e+00 |\n",
      "|  159  |  453  |  169  | +5.2512e+03 | 1.00e-03 | 3.00e+03 | 0.00e+00 |\n",
      "|  160  |  453  |  170  | +5.2512e+03 | 1.00e-04 | 3.00e+03 | 0.00e+00 |\n",
      "|  161  |  453  |  171  | +5.2512e+03 | 1.00e-05 | 3.00e+03 | 0.00e+00 |\n",
      "|  162  |  453  |  172  | +5.2512e+03 | 1.00e-06 | 3.00e+03 | 0.00e+00 |\n",
      "|  163  |  453  |  173  | +5.2512e+03 | 1.00e-07 | 3.00e+03 | 0.00e+00 |\n",
      "|  164  |  453  |  174  | +5.2512e+03 | 1.00e-08 | 3.00e+03 | 0.00e+00 |\n",
      "|  165  |  453  |  175  | +5.2512e+03 | 1.00e-09 | 3.00e+03 | 0.00e+00 |\n",
      "|  166  |  453  |  176  | +5.2512e+03 | 1.00e-10 | 3.00e+03 | 0.00e+00 |\n",
      "|  167  |  453  |  177  | +5.2512e+03 | 1.00e-11 | 3.00e+03 | 0.00e+00 |\n",
      "|  168  |  453  |  177  | +5.2512e+03 | 1.00e+00 | 3.00e+03 | 0.00e+00 |\n",
      "|  169  |  453  |  178  | +5.2512e+03 | 1.00e-01 | 3.00e+03 | 0.00e+00 |\n",
      "|  170  |  453  |  179  | +5.2512e+03 | 1.00e-02 | 3.00e+03 | 0.00e+00 |\n",
      "|  171  |  453  |  180  | +5.2512e+03 | 1.00e-03 | 3.00e+03 | 0.00e+00 |\n",
      "|  172  |  453  |  181  | +5.2512e+03 | 1.00e-04 | 3.00e+03 | 0.00e+00 |\n",
      "|  173  |  453  |  182  | +5.2512e+03 | 1.00e-05 | 3.00e+03 | 0.00e+00 |\n",
      "|  174  |  453  |  183  | +5.2512e+03 | 1.00e-06 | 3.00e+03 | 0.00e+00 |\n",
      "|  175  |  453  |  184  | +5.2512e+03 | 1.00e-07 | 3.00e+03 | 0.00e+00 |\n",
      "|  176  |  453  |  185  | +5.2512e+03 | 1.00e-08 | 3.00e+03 | 0.00e+00 |\n",
      "|  177  |  453  |  186  | +5.2512e+03 | 1.00e-09 | 3.00e+03 | 0.00e+00 |\n",
      "|  178  |  453  |  187  | +5.2512e+03 | 1.00e-10 | 3.00e+03 | 0.00e+00 |\n",
      "|  179  |  453  |  188  | +5.2512e+03 | 1.00e-11 | 3.00e+03 | 0.00e+00 |\n",
      "|  180  |  453  |  188  | +5.2512e+03 | 1.00e+00 | 3.00e+03 | 0.00e+00 |\n",
      "|  181  |  453  |  189  | +5.2512e+03 | 1.00e-01 | 3.00e+03 | 0.00e+00 |\n",
      "|  182  |  453  |  190  | +5.2512e+03 | 1.00e-02 | 3.00e+03 | 0.00e+00 |\n",
      "|  183  |  453  |  191  | +5.2512e+03 | 1.00e-03 | 3.00e+03 | 0.00e+00 |\n",
      "|  184  |  453  |  192  | +5.2512e+03 | 1.00e-04 | 3.00e+03 | 0.00e+00 |\n",
      "|  185  |  453  |  193  | +5.2512e+03 | 1.00e-05 | 3.00e+03 | 0.00e+00 |\n",
      "|  186  |  453  |  194  | +5.2512e+03 | 1.00e-06 | 3.00e+03 | 0.00e+00 |\n",
      "|  187  |  453  |  195  | +5.2512e+03 | 1.00e-07 | 3.00e+03 | 0.00e+00 |\n",
      "|  188  |  453  |  196  | +5.2512e+03 | 1.00e-08 | 3.00e+03 | 0.00e+00 |\n",
      "|  189  |  453  |  197  | +5.2512e+03 | 1.00e-09 | 3.00e+03 | 0.00e+00 |\n",
      "|  190  |  453  |  198  | +5.2512e+03 | 1.00e-10 | 3.00e+03 | 0.00e+00 |\n",
      "|  191  |  453  |  199  | +5.2512e+03 | 1.00e-11 | 3.00e+03 | 0.00e+00 |\n",
      "|  192  |  453  |  199  | +5.2512e+03 | 1.00e+00 | 3.00e+03 | 0.00e+00 |\n",
      "|  193  |  453  |  200  | +5.2512e+03 | 1.00e-01 | 3.00e+03 | 0.00e+00 |\n",
      "|  194  |  453  |  201  | +5.2512e+03 | 1.00e-02 | 3.00e+03 | 0.00e+00 |\n",
      "|  195  |  453  |  202  | +5.2512e+03 | 1.00e-03 | 3.00e+03 | 0.00e+00 |\n",
      "|  196  |  453  |  203  | +5.2512e+03 | 1.00e-04 | 3.00e+03 | 0.00e+00 |\n",
      "|  197  |  453  |  204  | +5.2512e+03 | 1.00e-05 | 3.00e+03 | 0.00e+00 |\n",
      "|  198  |  453  |  205  | +5.2512e+03 | 1.00e-06 | 3.00e+03 | 0.00e+00 |\n",
      "|  199  |  453  |  206  | +5.2512e+03 | 1.00e-07 | 3.00e+03 | 0.00e+00 |\n",
      "|  200  |  453  |  207  | +5.2512e+03 | 1.00e-08 | 3.00e+03 | 0.00e+00 |\n",
      "|  201  |  453  |  208  | +5.2512e+03 | 1.00e-09 | 3.00e+03 | 0.00e+00 |\n",
      "|  202  |  453  |  209  | +5.2512e+03 | 1.00e-10 | 3.00e+03 | 0.00e+00 |\n",
      "|  203  |  453  |  210  | +5.2512e+03 | 1.00e-11 | 3.00e+03 | 0.00e+00 |\n",
      "|  204  |  453  |  210  | +5.2512e+03 | 1.00e+00 | 3.00e+03 | 0.00e+00 |\n",
      "|  205  |  453  |  211  | +5.2512e+03 | 1.00e-01 | 3.00e+03 | 0.00e+00 |\n",
      "|  206  |  453  |  212  | +5.2512e+03 | 1.00e-02 | 3.00e+03 | 0.00e+00 |\n",
      "|  207  |  453  |  213  | +5.2512e+03 | 1.00e-03 | 3.00e+03 | 0.00e+00 |\n",
      "|  208  |  453  |  214  | +5.2512e+03 | 1.00e-04 | 3.00e+03 | 0.00e+00 |\n",
      "|  209  |  453  |  215  | +5.2512e+03 | 1.00e-05 | 3.00e+03 | 0.00e+00 |\n",
      "|  210  |  453  |  216  | +5.2512e+03 | 1.00e-06 | 3.00e+03 | 0.00e+00 |\n",
      "|  211  |  453  |  217  | +5.2512e+03 | 1.00e-07 | 3.00e+03 | 0.00e+00 |\n",
      "|  212  |  453  |  218  | +5.2512e+03 | 1.00e-08 | 3.00e+03 | 0.00e+00 |\n",
      "|  213  |  453  |  219  | +5.2512e+03 | 1.00e-09 | 3.00e+03 | 0.00e+00 |\n",
      "|  214  |  453  |  220  | +5.2512e+03 | 1.00e-10 | 3.00e+03 | 0.00e+00 |\n",
      "|  215  |  453  |  221  | +5.2512e+03 | 1.00e-11 | 3.00e+03 | 0.00e+00 |\n",
      "|  216  |  453  |  221  | +5.2512e+03 | 1.00e+00 | 3.00e+03 | 0.00e+00 |\n",
      "|  217  |  453  |  222  | +5.2512e+03 | 1.00e-01 | 3.00e+03 | 0.00e+00 |\n",
      "|  218  |  453  |  223  | +5.2512e+03 | 1.00e-02 | 3.00e+03 | 0.00e+00 |\n",
      "|  219  |  453  |  224  | +5.2512e+03 | 1.00e-03 | 3.00e+03 | 0.00e+00 |\n",
      "|  220  |  453  |  225  | +5.2512e+03 | 1.00e-04 | 3.00e+03 | 0.00e+00 |\n",
      "|  221  |  453  |  226  | +5.2512e+03 | 1.00e-05 | 3.00e+03 | 0.00e+00 |\n",
      "|  222  |  453  |  227  | +5.2512e+03 | 1.00e-06 | 3.00e+03 | 0.00e+00 |\n",
      "|  223  |  453  |  228  | +5.2512e+03 | 1.00e-07 | 3.00e+03 | 0.00e+00 |\n",
      "|  224  |  453  |  229  | +5.2512e+03 | 1.00e-08 | 3.00e+03 | 0.00e+00 |\n",
      "|  225  |  453  |  230  | +5.2512e+03 | 1.00e-09 | 3.00e+03 | 0.00e+00 |\n",
      "|  226  |  453  |  231  | +5.2512e+03 | 1.00e-10 | 3.00e+03 | 0.00e+00 |\n",
      "|  227  |  453  |  232  | +5.2512e+03 | 1.00e-11 | 3.00e+03 | 0.00e+00 |\n",
      "|  228  |  453  |  232  | +5.2512e+03 | 1.00e+00 | 3.00e+03 | 0.00e+00 |\n",
      "|  229  |  453  |  233  | +5.2512e+03 | 1.00e-01 | 3.00e+03 | 0.00e+00 |\n",
      "|  230  |  453  |  234  | +5.2512e+03 | 1.00e-02 | 3.00e+03 | 0.00e+00 |\n",
      "|  231  |  453  |  235  | +5.2512e+03 | 1.00e-03 | 3.00e+03 | 0.00e+00 |\n",
      "|  232  |  453  |  236  | +5.2512e+03 | 1.00e-04 | 3.00e+03 | 0.00e+00 |\n",
      "|  233  |  453  |  237  | +5.2512e+03 | 1.00e-05 | 3.00e+03 | 0.00e+00 |\n",
      "|  234  |  453  |  238  | +5.2512e+03 | 1.00e-06 | 3.00e+03 | 0.00e+00 |\n",
      "|  235  |  453  |  239  | +5.2512e+03 | 1.00e-07 | 3.00e+03 | 0.00e+00 |\n",
      "|  236  |  453  |  240  | +5.2512e+03 | 1.00e-08 | 3.00e+03 | 0.00e+00 |\n",
      "|  237  |  453  |  241  | +5.2512e+03 | 1.00e-09 | 3.00e+03 | 0.00e+00 |\n",
      "|  238  |  453  |  242  | +5.2512e+03 | 1.00e-10 | 3.00e+03 | 0.00e+00 |\n",
      "|  239  |  453  |  243  | +5.2512e+03 | 1.00e-11 | 3.00e+03 | 0.00e+00 |\n",
      "|  240  |  453  |  243  | +5.2512e+03 | 1.00e+00 | 3.00e+03 | 0.00e+00 |\n",
      "|  241  |  453  |  244  | +5.2512e+03 | 1.00e-01 | 3.00e+03 | 0.00e+00 |\n",
      "|  242  |  453  |  245  | +5.2512e+03 | 1.00e-02 | 3.00e+03 | 0.00e+00 |\n",
      "|  243  |  453  |  246  | +5.2512e+03 | 1.00e-03 | 3.00e+03 | 0.00e+00 |\n",
      "|  244  |  453  |  247  | +5.2512e+03 | 1.00e-04 | 3.00e+03 | 0.00e+00 |\n",
      "|  245  |  453  |  248  | +5.2512e+03 | 1.00e-05 | 3.00e+03 | 0.00e+00 |\n",
      "|  246  |  453  |  249  | +5.2512e+03 | 1.00e-06 | 3.00e+03 | 0.00e+00 |\n",
      "|  247  |  453  |  250  | +5.2512e+03 | 1.00e-07 | 3.00e+03 | 0.00e+00 |\n",
      "|  248  |  453  |  251  | +5.2512e+03 | 1.00e-08 | 3.00e+03 | 0.00e+00 |\n",
      "|  249  |  453  |  252  | +5.2512e+03 | 1.00e-09 | 3.00e+03 | 0.00e+00 |\n",
      "|  250  |  453  |  253  | +5.2512e+03 | 1.00e-10 | 3.00e+03 | 0.00e+00 |\n",
      "|  251  |  453  |  254  | +5.2512e+03 | 1.00e-11 | 3.00e+03 | 0.00e+00 |\n",
      "|  252  |  453  |  254  | +5.2512e+03 | 1.00e+00 | 3.00e+03 | 0.00e+00 |\n",
      "|  253  |  453  |  255  | +5.2512e+03 | 1.00e-01 | 3.00e+03 | 0.00e+00 |\n",
      "|  254  |  453  |  256  | +5.2512e+03 | 1.00e-02 | 3.00e+03 | 0.00e+00 |\n",
      "|  255  |  453  |  257  | +5.2512e+03 | 1.00e-03 | 3.00e+03 | 0.00e+00 |\n",
      "|  256  |  453  |  258  | +5.2512e+03 | 1.00e-04 | 3.00e+03 | 0.00e+00 |\n",
      "|  257  |  453  |  259  | +5.2512e+03 | 1.00e-05 | 3.00e+03 | 0.00e+00 |\n",
      "|  258  |  453  |  260  | +5.2512e+03 | 1.00e-06 | 3.00e+03 | 0.00e+00 |\n",
      "|  259  |  453  |  261  | +5.2512e+03 | 1.00e-07 | 3.00e+03 | 0.00e+00 |\n",
      "|  260  |  453  |  262  | +5.2512e+03 | 1.00e-08 | 3.00e+03 | 0.00e+00 |\n",
      "|  261  |  453  |  263  | +5.2512e+03 | 1.00e-09 | 3.00e+03 | 0.00e+00 |\n",
      "|  262  |  453  |  264  | +5.2512e+03 | 1.00e-10 | 3.00e+03 | 0.00e+00 |\n",
      "|  263  |  453  |  265  | +5.2512e+03 | 1.00e-11 | 3.00e+03 | 0.00e+00 |\n",
      "|  264  |  453  |  265  | +5.2512e+03 | 1.00e+00 | 3.00e+03 | 0.00e+00 |\n",
      "|  265  |  453  |  266  | +5.2512e+03 | 1.00e-01 | 3.00e+03 | 0.00e+00 |\n",
      "|  266  |  453  |  267  | +5.2512e+03 | 1.00e-02 | 3.00e+03 | 0.00e+00 |\n",
      "|  267  |  453  |  268  | +5.2512e+03 | 1.00e-03 | 3.00e+03 | 0.00e+00 |\n",
      "|  268  |  453  |  269  | +5.2512e+03 | 1.00e-04 | 3.00e+03 | 0.00e+00 |\n",
      "|  269  |  453  |  270  | +5.2512e+03 | 1.00e-05 | 3.00e+03 | 0.00e+00 |\n",
      "|  270  |  453  |  271  | +5.2512e+03 | 1.00e-06 | 3.00e+03 | 0.00e+00 |\n",
      "|  271  |  453  |  272  | +5.2512e+03 | 1.00e-07 | 3.00e+03 | 0.00e+00 |\n",
      "|  272  |  453  |  273  | +5.2512e+03 | 1.00e-08 | 3.00e+03 | 0.00e+00 |\n",
      "|  273  |  453  |  274  | +5.2512e+03 | 1.00e-09 | 3.00e+03 | 0.00e+00 |\n"
     ]
    },
    {
     "name": "stdout",
     "output_type": "stream",
     "text": [
      "|  274  |  453  |  275  | +5.2512e+03 | 1.00e-10 | 3.00e+03 | 0.00e+00 |\n",
      "|  275  |  453  |  276  | +5.2512e+03 | 1.00e-11 | 3.00e+03 | 0.00e+00 |\n",
      "|  276  |  453  |  276  | +5.2512e+03 | 1.00e+00 | 3.00e+03 | 0.00e+00 |\n",
      "|  277  |  453  |  277  | +5.2512e+03 | 1.00e-01 | 3.00e+03 | 0.00e+00 |\n",
      "|  278  |  453  |  278  | +5.2512e+03 | 1.00e-02 | 3.00e+03 | 0.00e+00 |\n",
      "|  279  |  453  |  279  | +5.2512e+03 | 1.00e-03 | 3.00e+03 | 0.00e+00 |\n",
      "|  280  |  453  |  280  | +5.2512e+03 | 1.00e-04 | 3.00e+03 | 0.00e+00 |\n",
      "|  281  |  453  |  281  | +5.2512e+03 | 1.00e-05 | 3.00e+03 | 0.00e+00 |\n",
      "|  282  |  453  |  282  | +5.2512e+03 | 1.00e-06 | 3.00e+03 | 0.00e+00 |\n",
      "|  283  |  453  |  283  | +5.2512e+03 | 1.00e-07 | 3.00e+03 | 0.00e+00 |\n",
      "|  284  |  453  |  284  | +5.2512e+03 | 1.00e-08 | 3.00e+03 | 0.00e+00 |\n",
      "|  285  |  453  |  285  | +5.2512e+03 | 1.00e-09 | 3.00e+03 | 0.00e+00 |\n",
      "|  286  |  453  |  286  | +5.2512e+03 | 1.00e-10 | 3.00e+03 | 0.00e+00 |\n",
      "|  287  |  453  |  287  | +5.2512e+03 | 1.00e-11 | 3.00e+03 | 0.00e+00 |\n",
      "|  288  |  453  |  287  | +5.2512e+03 | 1.00e+00 | 3.00e+03 | 0.00e+00 |\n",
      "|  289  |  453  |  288  | +5.2512e+03 | 1.00e-01 | 3.00e+03 | 0.00e+00 |\n",
      "|  290  |  453  |  289  | +5.2512e+03 | 1.00e-02 | 3.00e+03 | 0.00e+00 |\n",
      "|  291  |  453  |  290  | +5.2512e+03 | 1.00e-03 | 3.00e+03 | 0.00e+00 |\n",
      "|  292  |  453  |  291  | +5.2512e+03 | 1.00e-04 | 3.00e+03 | 0.00e+00 |\n",
      "|  293  |  453  |  292  | +5.2512e+03 | 1.00e-05 | 3.00e+03 | 0.00e+00 |\n",
      "|  294  |  453  |  293  | +5.2512e+03 | 1.00e-06 | 3.00e+03 | 0.00e+00 |\n",
      "|  295  |  453  |  294  | +5.2512e+03 | 1.00e-07 | 3.00e+03 | 0.00e+00 |\n",
      "|  296  |  453  |  295  | +5.2512e+03 | 1.00e-08 | 3.00e+03 | 0.00e+00 |\n",
      "|  297  |  453  |  296  | +5.2512e+03 | 1.00e-09 | 3.00e+03 | 0.00e+00 |\n",
      "|  298  |  453  |  297  | +5.2512e+03 | 1.00e-10 | 3.00e+03 | 0.00e+00 |\n",
      "|  299  |  453  |  298  | +5.2512e+03 | 1.00e-11 | 3.00e+03 | 0.00e+00 |\n",
      "|  300  |  453  |  298  | +5.2512e+03 | 1.00e+00 | 3.00e+03 | 0.00e+00 |\n",
      "|  301  |  453  |  299  | +5.2512e+03 | 1.00e-01 | 3.00e+03 | 0.00e+00 |\n",
      "|  302  |  453  |  300  | +5.2512e+03 | 1.00e-02 | 3.00e+03 | 0.00e+00 |\n",
      "|  303  |  453  |  301  | +5.2512e+03 | 1.00e-03 | 3.00e+03 | 0.00e+00 |\n",
      "|  304  |  453  |  302  | +5.2512e+03 | 1.00e-04 | 3.00e+03 | 0.00e+00 |\n",
      "|  305  |  453  |  303  | +5.2512e+03 | 1.00e-05 | 3.00e+03 | 0.00e+00 |\n",
      "|  306  |  453  |  304  | +5.2512e+03 | 1.00e-06 | 3.00e+03 | 0.00e+00 |\n",
      "|  307  |  453  |  305  | +5.2512e+03 | 1.00e-07 | 3.00e+03 | 0.00e+00 |\n",
      "|  308  |  453  |  306  | +5.2512e+03 | 1.00e-08 | 3.00e+03 | 0.00e+00 |\n",
      "|  309  |  453  |  307  | +5.2512e+03 | 1.00e-09 | 3.00e+03 | 0.00e+00 |\n",
      "|  310  |  453  |  308  | +5.2512e+03 | 1.00e-10 | 3.00e+03 | 0.00e+00 |\n",
      "|  311  |  453  |  309  | +5.2512e+03 | 1.00e-11 | 3.00e+03 | 0.00e+00 |\n",
      "\n",
      "`xtol` termination condition is satisfied.\n",
      "Number of iterations: 311, function evaluations: 453, CG iterations: 309, optimality: 3.00e+03, constraint violation: 0.00e+00, execution time:  3.4 s.\n"
     ]
    }
   ],
   "source": [
    "# dx, dy = fmin(evaluation_path, [0, 0])\n",
    "# dx, dy = fminbound(evaluation_path, [-10, -3], [0, 0])\n",
    "\n",
    "p_init = [--10,-3]\n",
    "\n",
    "dxmin = -20\n",
    "dxmax = 0\n",
    "dymin = -6\n",
    "dymax = 0\n",
    "\n",
    "bounds = [[dxmin,dxmax], [dymin,dymax]]\n",
    "res = minimize(evaluation_path, \n",
    "               x0=p_init, \n",
    "               bounds=bounds, \n",
    "               tol = 1e-10,\n",
    "               method=\"trust-constr\",  # 制約付き信頼領域法\n",
    "               # jac=\"2-point\",          # 勾配関数\n",
    "               hess=BFGS(),            # ヘシアンの推定方法\n",
    "               options={\"maxiter\": 1000, # 最大反復数\n",
    "                         \"verbose\":2} # 最適化の過程を出力\n",
    "              )  \n",
    "            "
   ]
  },
  {
   "cell_type": "code",
   "execution_count": 22,
   "metadata": {
    "scrolled": true
   },
   "outputs": [
    {
     "data": {
      "text/plain": [
       " barrier_parameter: 8.192000000000006e-11\n",
       " barrier_tolerance: 8.192000000000006e-11\n",
       "          cg_niter: 309\n",
       "      cg_stop_cond: 4\n",
       "            constr: [array([-1.39816277e-03, -2.81290270e+00])]\n",
       "       constr_nfev: [0]\n",
       "       constr_nhev: [0]\n",
       "       constr_njev: [0]\n",
       "    constr_penalty: 1.0\n",
       "  constr_violation: 0.0\n",
       "    execution_time: 3.4059548377990723\n",
       "               fun: 5251.159954541838\n",
       "              grad: array([-3.36914062e-02, -3.67442084e+03])\n",
       "               jac: [<2x2 sparse matrix of type '<class 'numpy.float64'>'\n",
       "\twith 2 stored elements in Compressed Sparse Row format>]\n",
       "   lagrangian_grad: array([-6.58617092e-08, -2.99993836e+03])\n",
       "           message: '`xtol` termination condition is satisfied.'\n",
       "            method: 'tr_interior_point'\n",
       "              nfev: 453\n",
       "              nhev: 0\n",
       "               nit: 311\n",
       "             niter: 311\n",
       "              njev: 0\n",
       "        optimality: 2999.938355203003\n",
       "            status: 2\n",
       "           success: True\n",
       "         tr_radius: 1.0000000000000006e-11\n",
       "                 v: [array([3.36913404e-02, 6.74482488e+02])]\n",
       "                 x: array([-1.39816277e-03, -2.81290270e+00])"
      ]
     },
     "execution_count": 22,
     "metadata": {},
     "output_type": "execute_result"
    }
   ],
   "source": [
    "res"
   ]
  },
  {
   "cell_type": "code",
   "execution_count": 33,
   "metadata": {},
   "outputs": [
    {
     "data": {
      "text/plain": [
       "(-0.001398162765746526, -2.8129027015637154)"
      ]
     },
     "execution_count": 33,
     "metadata": {},
     "output_type": "execute_result"
    }
   ],
   "source": [
    "dx, dy = res.x\n",
    "dx, dy"
   ]
  },
  {
   "cell_type": "code",
   "execution_count": 34,
   "metadata": {
    "scrolled": true
   },
   "outputs": [
    {
     "data": {
      "text/plain": [
       "Text(0, 0.5, 'Y[m]')"
      ]
     },
     "execution_count": 34,
     "metadata": {},
     "output_type": "execute_result"
    },
    {
     "data": {
      "image/png": "[encoded data removed]",
      "text/plain": [
       "<Figure size 432x288 with 1 Axes>"
      ]
     },
     "metadata": {
      "needs_background": "light"
     },
     "output_type": "display_data"
    }
   ],
   "source": [
    "points = [\n",
    "    [ego_vehicle.pos[0], parked_vehicle.pos[0] + dx, line_center[0][1]], \n",
    "    [ego_vehicle.pos[1], parked_vehicle.pos[1] + dy, line_center[1][1]]\n",
    "]\n",
    "\n",
    "if 0:\n",
    "    path_coef = np.polyfit(points[0], points[1], 6)\n",
    "    path_x= np.linspace(ego_vehicle.pos[0], line_left[0][1], 20)\n",
    "    path_y = np.poly1d(path_coef)(path_x)\n",
    "else:\n",
    "    path_x, path_y = spline1(points[0], points[1], 20)\n",
    "\n",
    "plt.scatter(parked_vehicle.pos[0], parked_vehicle.pos[1])\n",
    "vehicle_plot(parked_vehicle.pos, parked_vehicle.size, parked_vehicle.ori)\n",
    "plt.scatter(ego_vehicle.pos[0], ego_vehicle.pos[1])\n",
    "vehicle_plot(ego_vehicle.pos, ego_vehicle.size, ego_vehicle.ori)\n",
    "\n",
    "plt.plot(line_left[0], line_left[1], 'k')\n",
    "plt.plot(line_right[0], line_right[1], '--k')\n",
    "\n",
    "plt.scatter(parked_vehicle.pos[0]+dx, parked_vehicle.pos[1]+dy)\n",
    "plt.plot(path_x, path_y,':.')\n",
    "\n",
    "plt.ylim([-10,10])\n",
    "plt.xlabel('X[m]')\n",
    "plt.ylabel('Y[m]')"
   ]
  },
  {
   "cell_type": "code",
   "execution_count": 35,
   "metadata": {},
   "outputs": [
    {
     "data": {
      "text/plain": [
       "267.18708919388934"
      ]
     },
     "execution_count": 35,
     "metadata": {},
     "output_type": "execute_result"
    }
   ],
   "source": [
    "calculation_dead_area(path_x, path_y)"
   ]
  },
  {
   "cell_type": "code",
   "execution_count": 36,
   "metadata": {
    "scrolled": true
   },
   "outputs": [
    {
     "data": {
      "text/plain": [
       "0.13561419570396216"
      ]
     },
     "execution_count": 36,
     "metadata": {},
     "output_type": "execute_result"
    }
   ],
   "source": [
    "calculation_collision(path_x, path_y)"
   ]
  },
  {
   "cell_type": "code",
   "execution_count": 37,
   "metadata": {},
   "outputs": [
    {
     "data": {
      "text/plain": [
       "49.833135448088946"
      ]
     },
     "execution_count": 37,
     "metadata": {},
     "output_type": "execute_result"
    }
   ],
   "source": [
    "calculation_center_of_road(path_x, path_y)"
   ]
  },
  {
   "cell_type": "code",
   "execution_count": 38,
   "metadata": {},
   "outputs": [
    {
     "data": {
      "text/plain": [
       "0"
      ]
     },
     "execution_count": 38,
     "metadata": {},
     "output_type": "execute_result"
    }
   ],
   "source": [
    "calculation_out_of_road(path_x, path_y)"
   ]
  },
  {
   "cell_type": "code",
   "execution_count": 39,
   "metadata": {},
   "outputs": [],
   "source": [
    "dx, dy = -19, -6"
   ]
  },
  {
   "cell_type": "code",
   "execution_count": 40,
   "metadata": {},
   "outputs": [
    {
     "data": {
      "text/plain": [
       "Text(0, 0.5, 'Y[m]')"
      ]
     },
     "execution_count": 40,
     "metadata": {},
     "output_type": "execute_result"
    },
    {
     "data": {
      "image/png": "[encoded data removed]",
      "text/plain": [
       "<Figure size 432x288 with 1 Axes>"
      ]
     },
     "metadata": {
      "needs_background": "light"
     },
     "output_type": "display_data"
    }
   ],
   "source": [
    "points = [\n",
    "    [ego_vehicle.pos[0], parked_vehicle.pos[0] + dx, line_center[0][1]], \n",
    "    [ego_vehicle.pos[1], parked_vehicle.pos[1] + dy, line_center[1][1]]\n",
    "]\n",
    "    \n",
    "if 0:\n",
    "    path_coef = np.polyfit(points[0], points[1], 6)\n",
    "    path_x= np.linspace(ego_vehicle.pos[0], line_left[0][1], 20)\n",
    "    path_y = np.poly1d(path_coef)(path_x)\n",
    "else:\n",
    "    path_x, path_y = spline1(points[0], points[1], 20)\n",
    "\n",
    "plt.scatter(parked_vehicle.pos[0], parked_vehicle.pos[1])\n",
    "vehicle_plot(parked_vehicle.pos, parked_vehicle.size, parked_vehicle.ori)\n",
    "plt.scatter(ego_vehicle.pos[0], ego_vehicle.pos[1])\n",
    "vehicle_plot(ego_vehicle.pos, ego_vehicle.size, ego_vehicle.ori)\n",
    "\n",
    "plt.plot(line_left[0], line_left[1], 'k')\n",
    "plt.plot(line_right[0], line_right[1], '--k')\n",
    "\n",
    "plt.scatter(parked_vehicle.pos[0]+dx, parked_vehicle.pos[1]+dy)\n",
    "plt.plot(path_x, path_y,':.')\n",
    "\n",
    "plt.ylim([-10,10])\n",
    "plt.xlabel('X[m]')\n",
    "plt.ylabel('Y[m]')"
   ]
  },
  {
   "cell_type": "code",
   "execution_count": 41,
   "metadata": {},
   "outputs": [
    {
     "data": {
      "text/plain": [
       "98.04112010762441"
      ]
     },
     "execution_count": 41,
     "metadata": {},
     "output_type": "execute_result"
    }
   ],
   "source": [
    "calculation_dead_area(path_x, path_y)"
   ]
  },
  {
   "cell_type": "code",
   "execution_count": 42,
   "metadata": {},
   "outputs": [
    {
     "data": {
      "text/plain": [
       "5.69586609212412e-09"
      ]
     },
     "execution_count": 42,
     "metadata": {},
     "output_type": "execute_result"
    }
   ],
   "source": [
    "calculation_collision(path_x, path_y)"
   ]
  },
  {
   "cell_type": "code",
   "execution_count": 43,
   "metadata": {},
   "outputs": [
    {
     "data": {
      "text/plain": [
       "2.7450818114137578e+20"
      ]
     },
     "execution_count": 43,
     "metadata": {},
     "output_type": "execute_result"
    }
   ],
   "source": [
    "calculation_center_of_road(path_x, path_y)"
   ]
  },
  {
   "cell_type": "code",
   "execution_count": 44,
   "metadata": {},
   "outputs": [
    {
     "data": {
      "text/plain": [
       "18"
      ]
     },
     "execution_count": 44,
     "metadata": {},
     "output_type": "execute_result"
    }
   ],
   "source": [
    "calculation_out_of_road(path_x, path_y)"
   ]
  },
  {
   "cell_type": "code",
   "execution_count": null,
   "metadata": {},
   "outputs": [],
   "source": []
  },
  {
   "cell_type": "code",
   "execution_count": null,
   "metadata": {},
   "outputs": [],
   "source": []
  }
 ],
 "metadata": {
  "kernelspec": {
   "display_name": "Python 3",
   "language": "python",
   "name": "python3"
  },
  "language_info": {
   "codemirror_mode": {
    "name": "ipython",
    "version": 3
   },
   "file_extension": ".py",
   "mimetype": "text/x-python",
   "name": "python",
   "nbconvert_exporter": "python",
   "pygments_lexer": "ipython3",
   "version": "3.7.6"
  }
 },
 "nbformat": 4,
 "nbformat_minor": 2
}
