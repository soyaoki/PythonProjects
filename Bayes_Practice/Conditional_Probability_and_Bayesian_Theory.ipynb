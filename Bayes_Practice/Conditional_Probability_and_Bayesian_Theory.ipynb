{
 "cells": [
  {
   "cell_type": "code",
   "execution_count": 93,
   "metadata": {},
   "outputs": [],
   "source": [
    "p = 0.5 # 減速確率の初期値P(A)、よくわからない"
   ]
  },
  {
   "cell_type": "markdown",
   "metadata": {},
   "source": [
    "ベイズの定理で更新していく。\n",
    "\n",
    "$P(A | B) = \\frac{P(B | A)P(A)}{P(B)}=\\frac{P(B | A)P(A)}{ΣP(B | A)P(A)}$ "
   ]
  },
  {
   "cell_type": "markdown",
   "metadata": {},
   "source": [
    "$ P(A)　$ ：減速していた確率\n",
    "\n",
    "$ P(B)　$ ：Bが起きていた確率\n",
    "\n",
    "$ P(B | A)　$ ：減速した時、Bが起きていた確率"
   ]
  },
  {
   "cell_type": "markdown",
   "metadata": {},
   "source": [
    "# 赤信号だけを観測した場合\n"
   ]
  },
  {
   "cell_type": "code",
   "execution_count": 94,
   "metadata": {},
   "outputs": [],
   "source": [
    "# P(B | A)=0.8：減速した時、赤信号だった確率が0.8\n",
    "# P(B)=0.33：走行の3割で赤信号に遭遇\n",
    "p_red_signal = 0.8/0.33"
   ]
  },
  {
   "cell_type": "code",
   "execution_count": 95,
   "metadata": {},
   "outputs": [],
   "source": [
    "# P(B | A)=0.8：減速した時、赤信号だった確率が0.8\n",
    "# P(B)=ΣP(B | A)P(A)、減速した時赤信号だった確率が0.8、減速しなかった時赤信号だった確率が0.01\n",
    "p_red_signal = 0.8/(p*0.8+(1-p)*0.01)"
   ]
  },
  {
   "cell_type": "code",
   "execution_count": 96,
   "metadata": {},
   "outputs": [
    {
     "data": {
      "text/plain": [
       "1.9753086419753085"
      ]
     },
     "execution_count": 96,
     "metadata": {},
     "output_type": "execute_result"
    }
   ],
   "source": [
    "p_red_signal"
   ]
  },
  {
   "cell_type": "code",
   "execution_count": 97,
   "metadata": {},
   "outputs": [
    {
     "data": {
      "text/plain": [
       "0.9876543209876543"
      ]
     },
     "execution_count": 97,
     "metadata": {},
     "output_type": "execute_result"
    }
   ],
   "source": [
    "p_red_signal*p"
   ]
  },
  {
   "cell_type": "markdown",
   "metadata": {},
   "source": [
    "高まり〜〜〜"
   ]
  },
  {
   "cell_type": "markdown",
   "metadata": {},
   "source": [
    "# 坂を観測した場合"
   ]
  },
  {
   "cell_type": "code",
   "execution_count": 98,
   "metadata": {},
   "outputs": [],
   "source": [
    "# P(B | A)=0.3：減速した時、前方が坂だった確率が0.3\n",
    "# P(B)=0.1：走行の1割で坂に遭遇\n",
    "p_slope = 0.3/0.1"
   ]
  },
  {
   "cell_type": "code",
   "execution_count": 99,
   "metadata": {},
   "outputs": [],
   "source": [
    "# P(B | A)=0.3：減速した時、前方が坂だった確率が0.3\n",
    "# P(B)=ΣP(B | A)P(A)、減速した時前方が坂だった確率が0.3、減速しなかった時前方が坂だった確率が0.1\n",
    "p_slope = 0.3/(p*0.3+(1-p)*0.1)"
   ]
  },
  {
   "cell_type": "code",
   "execution_count": 100,
   "metadata": {},
   "outputs": [
    {
     "data": {
      "text/plain": [
       "1.4999999999999998"
      ]
     },
     "execution_count": 100,
     "metadata": {},
     "output_type": "execute_result"
    }
   ],
   "source": [
    "p_slope"
   ]
  },
  {
   "cell_type": "code",
   "execution_count": 101,
   "metadata": {},
   "outputs": [
    {
     "data": {
      "text/plain": [
       "0.7499999999999999"
      ]
     },
     "execution_count": 101,
     "metadata": {},
     "output_type": "execute_result"
    }
   ],
   "source": [
    "p_slope*p"
   ]
  },
  {
   "cell_type": "markdown",
   "metadata": {},
   "source": [
    "信号に比べると高まらない〜〜"
   ]
  },
  {
   "cell_type": "markdown",
   "metadata": {},
   "source": [
    "# 横位置変化を観測した場合"
   ]
  },
  {
   "cell_type": "code",
   "execution_count": 102,
   "metadata": {},
   "outputs": [],
   "source": [
    "# P(B | A)=0.1：減速した時、左右に寄っていた確率が0.1\n",
    "# P(B)=0.01：走行の0.1割で左右に寄っていたシーンに遭遇\n",
    "p_slide = 0.1/0.01"
   ]
  },
  {
   "cell_type": "code",
   "execution_count": 103,
   "metadata": {},
   "outputs": [],
   "source": [
    "# P(B | A)=0.1：減速した時、左右に寄っていた確率が0.1\n",
    "# P(B)=ΣP(B | A)P(A)、減速した時左右に寄っていた確率が0.1、減速しなかった時左右に寄っていた確率が0.01\n",
    "p_slide = 0.1/(p*0.1+(1-p)*0.01)"
   ]
  },
  {
   "cell_type": "code",
   "execution_count": 104,
   "metadata": {},
   "outputs": [
    {
     "data": {
      "text/plain": [
       "1.8181818181818183"
      ]
     },
     "execution_count": 104,
     "metadata": {},
     "output_type": "execute_result"
    }
   ],
   "source": [
    "p_slide"
   ]
  },
  {
   "cell_type": "code",
   "execution_count": 105,
   "metadata": {},
   "outputs": [
    {
     "data": {
      "text/plain": [
       "0.9090909090909092"
      ]
     },
     "execution_count": 105,
     "metadata": {},
     "output_type": "execute_result"
    }
   ],
   "source": [
    "p_slide*p"
   ]
  },
  {
   "cell_type": "markdown",
   "metadata": {},
   "source": [
    "高まり〜〜"
   ]
  },
  {
   "cell_type": "markdown",
   "metadata": {},
   "source": [
    "# 赤信号＋坂"
   ]
  },
  {
   "cell_type": "code",
   "execution_count": 110,
   "metadata": {},
   "outputs": [
    {
     "data": {
      "text/plain": [
       "0.9958506224066389"
      ]
     },
     "execution_count": 110,
     "metadata": {},
     "output_type": "execute_result"
    }
   ],
   "source": [
    "p_red_signal = 0.8/(p*0.8+(1-p)*0.01)\n",
    "p_r = p_red_signal * p\n",
    "p_slope = 0.3/(p_r*0.3+(1-p_r)*0.1)\n",
    "p_r_s = p_slope*p_r\n",
    "\n",
    "p_r_s"
   ]
  },
  {
   "cell_type": "code",
   "execution_count": 111,
   "metadata": {},
   "outputs": [
    {
     "data": {
      "text/plain": [
       "0.995850622406639"
      ]
     },
     "execution_count": 111,
     "metadata": {},
     "output_type": "execute_result"
    }
   ],
   "source": [
    "p_slope = 0.3/(p*0.3+(1-p)*0.1)\n",
    "p_s = p_slope*p\n",
    "p_red_signal = 0.8/(p_s*0.8+(1-p_s)*0.01)\n",
    "p_s_r = p_red_signal * p_s\n",
    "\n",
    "p_s_r"
   ]
  },
  {
   "cell_type": "markdown",
   "metadata": {},
   "source": [
    "順序関係なし"
   ]
  },
  {
   "cell_type": "markdown",
   "metadata": {},
   "source": [
    "# 青信号を観測した時"
   ]
  },
  {
   "cell_type": "code",
   "execution_count": 114,
   "metadata": {},
   "outputs": [],
   "source": [
    "# P(B | A)=0.8：減速した時、青信号だった確率が0.01\n",
    "# P(B)=ΣP(B | A)P(A)、減速した時青信号だった確率が0.01、減速しなかった時青信号だった確率が0.8\n",
    "p_blue_signal = 0.01/(p*0.01+(1-p)*0.8)"
   ]
  },
  {
   "cell_type": "code",
   "execution_count": 115,
   "metadata": {},
   "outputs": [
    {
     "data": {
      "text/plain": [
       "0.024691358024691357"
      ]
     },
     "execution_count": 115,
     "metadata": {},
     "output_type": "execute_result"
    }
   ],
   "source": [
    "p_blue_signal"
   ]
  },
  {
   "cell_type": "code",
   "execution_count": 116,
   "metadata": {},
   "outputs": [
    {
     "data": {
      "text/plain": [
       "0.012345679012345678"
      ]
     },
     "execution_count": 116,
     "metadata": {},
     "output_type": "execute_result"
    }
   ],
   "source": [
    "p_blue_signal*p"
   ]
  },
  {
   "cell_type": "markdown",
   "metadata": {},
   "source": [
    "さげぽよ〜〜"
   ]
  },
  {
   "cell_type": "markdown",
   "metadata": {},
   "source": [
    "# ワイパーONを観測した時"
   ]
  },
  {
   "cell_type": "code",
   "execution_count": 135,
   "metadata": {},
   "outputs": [],
   "source": [
    "# P(B | A)=0.0001：減速した時、ワイパーONだった確率が0.0001\n",
    "# P(B)=ΣP(B | A)P(A)、減速した時ワイパーONだった確率が0.0001、減速しなかった時ワイパーONだった確率が0.0011\n",
    "p_wiper = 0.0001/(p*0.0001+(1-p)*0.000112121)"
   ]
  },
  {
   "cell_type": "code",
   "execution_count": 136,
   "metadata": {},
   "outputs": [
    {
     "data": {
      "text/plain": [
       "0.9428580857152286"
      ]
     },
     "execution_count": 136,
     "metadata": {},
     "output_type": "execute_result"
    }
   ],
   "source": [
    "p_wiper"
   ]
  },
  {
   "cell_type": "code",
   "execution_count": 137,
   "metadata": {},
   "outputs": [
    {
     "data": {
      "text/plain": [
       "0.4714290428576143"
      ]
     },
     "execution_count": 137,
     "metadata": {},
     "output_type": "execute_result"
    }
   ],
   "source": [
    "p_wiper*p"
   ]
  },
  {
   "cell_type": "markdown",
   "metadata": {},
   "source": [
    "# 青信号＋横移動"
   ]
  },
  {
   "cell_type": "code",
   "execution_count": 117,
   "metadata": {},
   "outputs": [
    {
     "data": {
      "text/plain": [
       "0.1111111111111111"
      ]
     },
     "execution_count": 117,
     "metadata": {},
     "output_type": "execute_result"
    }
   ],
   "source": [
    "p_blue_signal = 0.01/(p*0.01+(1-p)*0.8)\n",
    "p_b = p_blue_signal * p\n",
    "p_slide = 0.1/(p_b*0.1+(1-p_b)*0.01)\n",
    "p_b_s = p_slide*p_b\n",
    "\n",
    "p_b_s"
   ]
  },
  {
   "cell_type": "markdown",
   "metadata": {},
   "source": [
    "# 前方の混雑を観測した時"
   ]
  },
  {
   "cell_type": "code",
   "execution_count": 138,
   "metadata": {},
   "outputs": [],
   "source": [
    "# P(B | A)=0.7：減速した時、前方が混雑していた確率が0.7\n",
    "# P(B)=ΣP(B | A)P(A)、減速した時前方が混雑していた確率が0.7、減速しなかった時前方が混雑していた確率が0.001\n",
    "p_congestion = 0.7/(p*0.7+(1-p)*0.001)"
   ]
  },
  {
   "cell_type": "code",
   "execution_count": 139,
   "metadata": {},
   "outputs": [
    {
     "data": {
      "text/plain": [
       "1.9971469329529243"
      ]
     },
     "execution_count": 139,
     "metadata": {},
     "output_type": "execute_result"
    }
   ],
   "source": [
    "p_congestion"
   ]
  },
  {
   "cell_type": "code",
   "execution_count": 140,
   "metadata": {},
   "outputs": [
    {
     "data": {
      "text/plain": [
       "0.9985734664764622"
      ]
     },
     "execution_count": 140,
     "metadata": {},
     "output_type": "execute_result"
    }
   ],
   "source": [
    "p_congestion*p"
   ]
  },
  {
   "cell_type": "code",
   "execution_count": null,
   "metadata": {},
   "outputs": [],
   "source": []
  }
 ],
 "metadata": {
  "kernelspec": {
   "display_name": "Python 3",
   "language": "python",
   "name": "python3"
  },
  "language_info": {
   "codemirror_mode": {
    "name": "ipython",
    "version": 3
   },
   "file_extension": ".py",
   "mimetype": "text/x-python",
   "name": "python",
   "nbconvert_exporter": "python",
   "pygments_lexer": "ipython3",
   "version": "3.7.6"
  }
 },
 "nbformat": 4,
 "nbformat_minor": 2
}
