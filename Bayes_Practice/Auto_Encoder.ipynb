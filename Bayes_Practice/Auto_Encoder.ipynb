{
 "cells": [
  {
   "cell_type": "markdown",
   "metadata": {},
   "source": [
    "### オートエンコーダって？\n",
    "\n",
    "簡単に言うと、入力と同じものを出力するニューラルネットワーク。ただし、中間層では次元数を落とし、より重要な特徴が獲得されることを期待している。入力側をエンコーダ、出力側をデコーダと呼び、中間層で獲得した変数を潜在変数 $ z $ と呼んだりする。\n",
    "\n",
    "入力と出力の差分を取ることで、異常検知に利用されることもある。\n",
    "\n",
    "中間層1層のオートエンコーダで学習、次に中間層を入力層としてもう一層積み上げる。これを繰り返して多層化したものが積層オートエンコーダ。\n",
    "\n",
    "<img src=\"AE.png\">"
   ]
  },
  {
   "cell_type": "markdown",
   "metadata": {},
   "source": [
    "### 変分オートエンコーダ？ (Variational Autoenconder, VAE)\n",
    "\n",
    "潜在変数 $ z $ を確率分布に押し込めたもの。オートエンコーダとよく似ているが理論的背景は別物。\n",
    "$$ z_k 〜 N(μ_k, σ_k) $$\n",
    "\n",
    "<img src = \"VAE.png\">"
   ]
  },
  {
   "cell_type": "markdown",
   "metadata": {},
   "source": [
    "### 時系列データ＋異常検知に応用できないかな…"
   ]
  },
  {
   "cell_type": "code",
   "execution_count": null,
   "metadata": {},
   "outputs": [],
   "source": []
  },
  {
   "cell_type": "markdown",
   "metadata": {},
   "source": [
    "### Ref.\n",
    "\n",
    "https://www.slideshare.net/ssusere55c63/variational-autoencoder-64515581\n",
    "\n",
    "https://orizuru.io/blog/machine-learning/variational-auto-encoder/\n",
    "\n",
    "https://www.slideshare.net/KazukiNitta/variational-autoencoder-68705109\n",
    "\n",
    "https://rmizutaa.hatenablog.com/entry/2019/09/23/191405\n",
    "\n",
    "https://i101330.hatenablog.com/entry/2016/11/12/140402\n",
    "\n",
    "https://aotamasaki.hatenablog.com/entry/2018/09/23/124152\n",
    "\n",
    "https://aotamasaki.hatenablog.com/entry/2018/09/16/175646\n",
    "\n",
    "https://knto-h.hatenablog.com/entry/2018/07/05/165109"
   ]
  },
  {
   "cell_type": "code",
   "execution_count": null,
   "metadata": {},
   "outputs": [],
   "source": []
  }
 ],
 "metadata": {
  "kernelspec": {
   "display_name": "Python 3",
   "language": "python",
   "name": "python3"
  },
  "language_info": {
   "codemirror_mode": {
    "name": "ipython",
    "version": 3
   },
   "file_extension": ".py",
   "mimetype": "text/x-python",
   "name": "python",
   "nbconvert_exporter": "python",
   "pygments_lexer": "ipython3",
   "version": "3.7.2"
  }
 },
 "nbformat": 4,
 "nbformat_minor": 2
}
