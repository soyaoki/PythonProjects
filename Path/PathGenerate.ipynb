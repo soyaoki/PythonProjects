{
 "cells": [
  {
   "cell_type": "markdown",
   "metadata": {},
   "source": [
    "# S字でリスクポテンシャルモデル"
   ]
  },
  {
   "cell_type": "code",
   "execution_count": 63,
   "metadata": {},
   "outputs": [],
   "source": [
    "import numpy as np\n",
    "import matplotlib.pyplot as plt\n",
    "import matplotlib.animation as anm\n",
    "from matplotlib.animation import PillowWriter\n",
    "import math"
   ]
  },
  {
   "cell_type": "code",
   "execution_count": 64,
   "metadata": {},
   "outputs": [],
   "source": [
    "# 車両クラス\n",
    "class Vehicle():\n",
    "    def __init__(self, x=0, y=0, v=20/3.6, theta=0, yawrate=0):\n",
    "        self.x = x\n",
    "        self.y = y\n",
    "        self.v = v\n",
    "        self.theta = theta\n",
    "        self.yawrate = yawrate"
   ]
  },
  {
   "cell_type": "code",
   "execution_count": 65,
   "metadata": {},
   "outputs": [],
   "source": [
    "# シグモイド\n",
    "def sigmoid(x, a=0.2, b=0, c=5):\n",
    "    return c / (1 + np.exp(-(a*x+b)))"
   ]
  },
  {
   "cell_type": "code",
   "execution_count": 66,
   "metadata": {},
   "outputs": [],
   "source": [
    "# 点列から曲率計算\n",
    "def CalcCurvature(x,y,npo=1):\n",
    "    cv=[]\n",
    "\n",
    "    ndata=len(x)\n",
    "\n",
    "    for i in range(ndata):\n",
    "        lind=i-npo\n",
    "        hind=i+npo+1\n",
    "\n",
    "        if lind<0:\n",
    "            lind=0\n",
    "        if hind>=ndata:\n",
    "            hind=ndata\n",
    "        #  print(lind,hind)\n",
    "\n",
    "        xs=x[lind:hind]\n",
    "        ys=y[lind:hind]\n",
    "        #  print(xs,ys)\n",
    "        (cxe,cye,re)=CircleFitting(xs,ys)\n",
    "        #  print(re)\n",
    "\n",
    "        if len(xs)>=3:\n",
    "            # sign evalation \n",
    "            cind=int((len(xs)-1)/2.0)\n",
    "            sign = (xs[0] - xs[cind]) * (ys[-1] - ys[cind]) - (ys[0] - ys[cind]) * (xs[-1] - xs[cind])\n",
    "\n",
    "            # check straight line\n",
    "            a = np.array([xs[0]-xs[cind],ys[0]-ys[cind]])\n",
    "            b = np.array([xs[-1]-xs[cind],ys[-1]-ys[cind]])\n",
    "            try:\n",
    "                theta=math.degrees(math.acos(np.dot(a,b)/(np.linalg.norm(a)*np.linalg.norm(b))))\n",
    "                #  print(theta)\n",
    "            except ValueError:\n",
    "                print((np.linalg.norm(a)*np.linalg.norm(b)))\n",
    "                print(np.dot(a,b))\n",
    "\n",
    "            if theta==180.0:\n",
    "                cv.append(0.0)#straight line\n",
    "            elif sign>0:\n",
    "                cv.append(1.0/-re)\n",
    "            else:\n",
    "                cv.append(1.0/re)\n",
    "        else:\n",
    "            cv.append(0.0)\n",
    "\n",
    "    #  print(cv)\n",
    "    return cv\n",
    "\n",
    "# 円フィッティング\n",
    "def CircleFitting(x,y):\n",
    "    sumx  = sum(x)\n",
    "    sumy  = sum(y)\n",
    "    sumx2 = sum([ix ** 2 for ix in x])\n",
    "    sumy2 = sum([iy ** 2 for iy in y])\n",
    "    sumxy = sum([ix * iy for (ix,iy) in zip(x,y)])\n",
    "\n",
    "    F = np.array([[sumx2,sumxy,sumx],\n",
    "                  [sumxy,sumy2,sumy],\n",
    "                  [sumx,sumy,len(x)]])\n",
    "\n",
    "    G = np.array([[-sum([ix ** 3 + ix*iy **2 for (ix,iy) in zip(x,y)])],\n",
    "                  [-sum([ix ** 2 *iy + iy **3 for (ix,iy) in zip(x,y)])],\n",
    "                  [-sum([ix ** 2 + iy **2 for (ix,iy) in zip(x,y)])]])\n",
    "\n",
    "    try:\n",
    "        T=np.linalg.inv(F).dot(G)\n",
    "    except:\n",
    "        return (0,0,float(\"inf\"))\n",
    "\n",
    "    cxe=float(T[0]/-2)\n",
    "    cye=float(T[1]/-2)\n",
    "    #  print (cxe,cye,T)\n",
    "    try:\n",
    "        re=math.sqrt(cxe**2+cye**2-T[2])\n",
    "    except:\n",
    "        return (cxe,cye,float(\"inf\"))\n",
    "    return (cxe,cye,re)"
   ]
  },
  {
   "cell_type": "code",
   "execution_count": 67,
   "metadata": {
    "scrolled": true
   },
   "outputs": [],
   "source": [
    "# 道路\n",
    "class Road():\n",
    "    def __init__(self):\n",
    "        x = np.linspace(-40,40,10000)\n",
    "        self.y_left = sigmoid(x) + 4\n",
    "        self.y_center = sigmoid(x) + 2\n",
    "        self.y_right = sigmoid(x)\n",
    "        self.x = np.linspace(0,80,10000)\n",
    "        self.rho = CalcCurvature(self.x, self.y_center, 12)"
   ]
  },
  {
   "cell_type": "code",
   "execution_count": 68,
   "metadata": {},
   "outputs": [],
   "source": [
    "def show_road(path):\n",
    "    plt.scatter(path.x, path.y_right, color='k')\n",
    "    plt.scatter(path.x, path.y_left, color='k')\n",
    "    plt.plot(path.x, path.y_center, 'k--')\n",
    "    plt.grid()"
   ]
  },
  {
   "cell_type": "code",
   "execution_count": 69,
   "metadata": {},
   "outputs": [
    {
     "data": {
      "image/png": "[encoded data removed]",
      "text/plain": [
       "<Figure size 432x288 with 1 Axes>"
      ]
     },
     "metadata": {
      "needs_background": "light"
     },
     "output_type": "display_data"
    }
   ],
   "source": [
    "path = Road()\n",
    "show_road(path)"
   ]
  },
  {
   "cell_type": "code",
   "execution_count": 70,
   "metadata": {},
   "outputs": [],
   "source": [
    "# リスク\n",
    "def calculate_lateral_error_by_risk_intermediate(ego_vehicle, path, t_preview, show=0):\n",
    "    # 注視点\n",
    "    d_preview = ego_vehicle.v * t_preview\n",
    "    print(d_preview)\n",
    "    x_pp = ego_vehicle.x + d_preview * np.cos(ego_vehicle.theta) # yawrate分は考えなくていい？\n",
    "    y_pp = ego_vehicle.y + d_preview * np.sin(ego_vehicle.theta) # yawrate分は考えなくていい？\n",
    "    theta_pp = ego_vehicle.yawrate * t_preview\n",
    "    print(x_pp, y_pp, theta_pp)\n",
    "    \n",
    "    # リスク計算\n",
    "    # (1)道路を注視点を中心に座標変換\n",
    "    A = [\n",
    "        [np.cos(-ego_vehicle.theta), -np.sin(-ego_vehicle.theta), 0],\n",
    "        [np.sin(-ego_vehicle.theta), np.cos(-ego_vehicle.theta), 0],\n",
    "        [0,0,1]\n",
    "    ]\n",
    "    \n",
    "    # 道路\n",
    "    X = np.array([path.x-x_pp, path.y_center-y_pp,1]).T\n",
    "#     print(path.y_center)\n",
    "#     print(y_pp)\n",
    "#     print(X)\n",
    "    plt.scatter(X[0], X[1])\n",
    "    path_rotate = np.dot(A,X)\n",
    "    \n",
    "    # 注視点\n",
    "    X0 = np.array([x_pp-x_pp, y_pp-y_pp,1]).T\n",
    "    pp_rotate = np.dot(A,X0)\n",
    "    \n",
    "    # 描画\n",
    "    plt.scatter(path_rotate[0], path_rotate[1])\n",
    "    plt.scatter(pp_rotate[0], pp_rotate[1])\n",
    "    plt.grid()\n",
    "    \n",
    "    # (2)左右道路までの距離を計算\n",
    "    \n",
    "    # (3)最小リスク点までの横偏差dyを計算\n",
    "    \n",
    "    return path_rotate"
   ]
  },
  {
   "cell_type": "code",
   "execution_count": 76,
   "metadata": {},
   "outputs": [
    {
     "name": "stdout",
     "output_type": "stream",
     "text": [
      "[[1.0, -0.0, 0], [0.0, 1.0, 0], [0, 0, 1]]\n"
     ]
    },
    {
     "data": {
      "text/plain": [
       "array([array([0., 1., 2., 3.]), array([3., 2., 1., 0.]),\n",
       "       array([1, 1, 1, 1])], dtype=object)"
      ]
     },
     "execution_count": 76,
     "metadata": {},
     "output_type": "execute_result"
    }
   ],
   "source": [
    "ego_vehicle = Vehicle()\n",
    "A = [\n",
    "        [np.cos(-ego_vehicle.theta), -np.sin(-ego_vehicle.theta), 0],\n",
    "        [np.sin(-ego_vehicle.theta), np.cos(-ego_vehicle.theta), 0],\n",
    "        [0,0,1]\n",
    "    ]\n",
    "print(A)\n",
    "X = np.array([np.array([0,1,2,3]), np.array([3,2,1,0]),1]).T\n",
    "np.dot(A,X)"
   ]
  },
  {
   "cell_type": "code",
   "execution_count": 77,
   "metadata": {},
   "outputs": [],
   "source": [
    "def U_w(dy):\n",
    "    return 0.5*np.exp(-np.abs(dy)/0.5)"
   ]
  },
  {
   "cell_type": "code",
   "execution_count": 80,
   "metadata": {},
   "outputs": [],
   "source": [
    "# リスク\n",
    "def calculate_lateral_error_by_risk_global(ego_vehicle, path, t_preview, show=0):\n",
    "    # 注視点\n",
    "    d_preview = ego_vehicle.v * t_preview\n",
    "    x_pp = ego_vehicle.x + d_preview * np.cos(ego_vehicle.theta) # yawrate分は考えなくていい？\n",
    "    y_pp = ego_vehicle.y + d_preview * np.sin(ego_vehicle.theta) # yawrate分は考えなくていい？\n",
    "    theta_pp = ego_vehicle.yawrate * t_preview\n",
    "    \n",
    "    # 各点（道路境界と参照パス）と直線（自車ー注視点を結ぶ直線に垂直）の距離が最小になる点　＝　車両の真横の道路境界・参照パスの点\n",
    "    # ax+by+c=0\n",
    "    if (np.tan(ego_vehicle.theta) < 0.01):\n",
    "        a = 1e10\n",
    "    else:\n",
    "        a = 1/np.tan(ego_vehicle.theta)\n",
    "    b = 1\n",
    "    c = -(a*x_pp+y_pp)\n",
    "    ind_center = np.argmin(np.abs(a*path.x + b*path.y_center + c) / np.sqrt(a*a + b*b))\n",
    "    ind_left = np.argmin(np.abs(a*path.x + b*path.y_left + c) / np.sqrt(a*a + b*b))\n",
    "    ind_right = np.argmin(np.abs(a*path.x + b*path.y_right + c) / np.sqrt(a*a + b*b))\n",
    "    x_center, y_center, rho = path.x[ind_center], path.y_center[ind_center], path.rho[ind_center] \n",
    "    x_left, y_left = path.x[ind_left], path.y_left[ind_left] \n",
    "    x_right, y_right = path.x[ind_right], path.y_right[ind_right] \n",
    "    \n",
    "    # 車線内の点を作成\n",
    "    if(x_left == x_right):\n",
    "        x = np.linspace(x_left, x_right, 50)\n",
    "        y = np.linspace(y_left, y_right, 50)\n",
    "    else:\n",
    "        x = np.linspace(x_left, x_right, 50)\n",
    "        y = -(a*x+c)/b\n",
    "    \n",
    "    # リスクを計算\n",
    "    d_left = np.sqrt(np.power((x_left - x),2) + np.power((y_left - y),2))\n",
    "    d_right = np.sqrt(np.power((x_right - x),2) + np.power((y_right - y),2))\n",
    "    U = U_w(d_left) + U_w(d_right)\n",
    "    print(rho)\n",
    "    \n",
    "    # 最小リスク点を計算\n",
    "    x_minirisk, y_minirisk  = x[np.argmin(U)], y[np.argmin(U)]\n",
    "    \n",
    "    # 偏差を計算\n",
    "    aa = -np.tan(ego_vehicle.theta)\n",
    "    bb = 1\n",
    "    cc = -(aa*x_pp + b*y_pp)\n",
    "    dy = (aa*x_minirisk + bb*y_minirisk + cc) / np.sqrt(aa*aa + bb*bb)\n",
    "    \n",
    "    return dy"
   ]
  },
  {
   "cell_type": "code",
   "execution_count": 81,
   "metadata": {},
   "outputs": [
    {
     "data": {
      "image/png": "[encoded data removed]",
      "text/plain": [
       "<Figure size 432x288 with 1 Axes>"
      ]
     },
     "metadata": {
      "needs_background": "light"
     },
     "output_type": "display_data"
    }
   ],
   "source": [
    "dt = 0.1\n",
    "t_preview = 2.5\n",
    "ego_vehicle = Vehicle(y=2)\n",
    "\n",
    "show_road(path)\n",
    "\n",
    "for i in range(150):\n",
    "    # 危険感モデルによるヨーレイトの計算\n",
    "    dy = calculate_lateral_error_by_risk_global(ego_vehicle, path, t_preview)\n",
    "    gamma = 2*dy/(ego_vehicle.v*t_preview)\n",
    "    \n",
    "    plt.scatter(ego_vehicle.x, ego_vehicle.y, color='b')\n",
    "    \n",
    "    # 自車パラメータの更新\n",
    "    ego_vehicle.theta = ego_vehicle.theta + gamma * dt\n",
    "    ego_vehicle.x = ego_vehicle.x + np.cos(ego_vehicle.theta) * ego_vehicle.v * dt\n",
    "    ego_vehicle.y = ego_vehicle.y + np.sin(ego_vehicle.theta) * ego_vehicle.v * dt\n",
    "    \n",
    "    plt.scatter(ego_vehicle.x, ego_vehicle.y, color='b')"
   ]
  },
  {
   "cell_type": "markdown",
   "metadata": {},
   "source": [
    "# 前方注視モデル"
   ]
  },
  {
   "cell_type": "code",
   "execution_count": 10,
   "metadata": {},
   "outputs": [],
   "source": [
    "# 前方注視モデル\n",
    "def calculate_lateral_error(x, y, ori, d_preview, path_x, path_y, show=0):\n",
    "    # 注視点\n",
    "    x_pp = x + d_preview * np.cos(ori)\n",
    "    y_pp = y + d_preview * np.sin(ori)\n",
    "\n",
    "    # 点と直線（自車ー注視点を結ぶ）の距離が最小になる、パスを取得\n",
    "    if (np.tan(ori) < 0.01):\n",
    "        a = 1e10\n",
    "    else:\n",
    "        a = 1/np.tan(ori)\n",
    "        \n",
    "    b = 1\n",
    "    c = -(a*x_pp+y_pp)\n",
    "    d = np.abs(a*path_x + b*path_y + c) / np.sqrt(a*a + b*b)\n",
    "    ind = np.argmin(d)\n",
    "    \n",
    "    \n",
    "    if show:\n",
    "        plt.scatter(x, y);\n",
    "        plt.scatter(path_x, path_y)\n",
    "        plt.scatter(x_pp, y_pp);\n",
    "        plt.plot([x,x_pp],[y,y_pp],'k:')\n",
    "        plt.scatter(path_x[ind],path_y[ind])\n",
    "        plt.plot([x_pp,path_x[ind]],[y_pp,path_y[ind]],'k--')\n",
    "        plt.xlabel('X[m]')\n",
    "        plt.ylabel('Y[m]')\n",
    "        \n",
    "    aa = -np.tan(ori)\n",
    "    bb = 1\n",
    "    cc = -(aa*x_pp + b*y_pp)\n",
    "    lat_error = (aa*path_x[ind] + bb*path_y[ind] + cc) / np.sqrt(aa*aa + bb*bb)\n",
    "    \n",
    "    return lat_error"
   ]
  },
  {
   "cell_type": "code",
   "execution_count": 11,
   "metadata": {},
   "outputs": [
    {
     "data": {
      "image/png": "[encoded data removed]",
      "text/plain": [
       "<Figure size 432x288 with 1 Axes>"
      ]
     },
     "metadata": {
      "needs_background": "light"
     },
     "output_type": "display_data"
    }
   ],
   "source": [
    "dt = 0.1\n",
    "pre_t = 2.5\n",
    "ego_vehicle = Vehicle(y=2)\n",
    "\n",
    "show_road(path)\n",
    "\n",
    "for i in range(150):\n",
    "    # 前方注視モデルによるヨーレイトの計算\n",
    "    preview_d = ego_vehicle.v*pre_t\n",
    "    dy = calculate_lateral_error(ego_vehicle.x, ego_vehicle.y, ego_vehicle.theta, preview_d, path.x, path.y_center)\n",
    "    gamma = 2*dy/(ego_vehicle.v*pre_t)\n",
    "    \n",
    "    plt.scatter(ego_vehicle.x, ego_vehicle.y, color='b')\n",
    "    \n",
    "    # 自車パラメータの更新\n",
    "    ego_vehicle.theta = ego_vehicle.theta + gamma * dt\n",
    "    ego_vehicle.x = ego_vehicle.x + np.cos(ego_vehicle.theta) * ego_vehicle.v * dt\n",
    "    ego_vehicle.y = ego_vehicle.y + np.sin(ego_vehicle.theta) * ego_vehicle.v * dt\n",
    "    \n",
    "    plt.scatter(ego_vehicle.x, ego_vehicle.y, color='b')"
   ]
  },
  {
   "cell_type": "code",
   "execution_count": 12,
   "metadata": {},
   "outputs": [],
   "source": [
    "def run_simulation(i):\n",
    "    # 前方注視モデルによるヨーレイトの計算\n",
    "    preview_d = ego_vehicle.v*pre_t\n",
    "    dy = calculate_lateral_error(ego_vehicle.x, ego_vehicle.y, ego_vehicle.theta, preview_d, path.x, path.y_center,1)\n",
    "    gamma = 2*dy/(ego_vehicle.v*pre_t)\n",
    "    \n",
    "    # 自車パラメータの更新\n",
    "    ego_vehicle.theta = ego_vehicle.theta + gamma * dt\n",
    "    ego_vehicle.x = ego_vehicle.x + np.cos(ego_vehicle.theta) * ego_vehicle.v * dt\n",
    "    ego_vehicle.y = ego_vehicle.y + np.sin(ego_vehicle.theta) * ego_vehicle.v * dt\n",
    "    \n",
    "    # 表示\n",
    "    ax.clear()\n",
    "    ax.scatter(ego_vehicle.x, ego_vehicle.y)\n",
    "    ax.plot(path.x, path.y_center,'k:')\n",
    "    ax.plot(path.x, path.y_left,'k--')\n",
    "    ax.plot(path.x, path.y_right,'k--')\n",
    "\n",
    "    ax.set_xlim([ego_vehicle.x-10,ego_vehicle.x+10])\n",
    "    ax.set_ylim([ego_vehicle.y-10,ego_vehicle.y+10])    \n",
    "    ax.set_xlabel('X[m]')\n",
    "    ax.set_ylabel('Y[m]')"
   ]
  },
  {
   "cell_type": "code",
   "execution_count": 13,
   "metadata": {},
   "outputs": [
    {
     "data": {
      "image/png": "[encoded data removed]",
      "text/plain": [
       "<Figure size 216x216 with 1 Axes>"
      ]
     },
     "metadata": {
      "needs_background": "light"
     },
     "output_type": "display_data"
    }
   ],
   "source": [
    "ego_vehicle = Vehicle(y=2)\n",
    "fig, ax = plt.subplots(1, 1, figsize=(3, 3))\n",
    "show_road(path)\n",
    "\n",
    "run_simulation(0)\n",
    "ax.tick_params(direction='in')"
   ]
  },
  {
   "cell_type": "code",
   "execution_count": 14,
   "metadata": {},
   "outputs": [
    {
     "data": {
      "image/png": "[encoded data removed]",
      "text/plain": [
       "<Figure size 432x288 with 1 Axes>"
      ]
     },
     "metadata": {
      "needs_background": "light"
     },
     "output_type": "display_data"
    }
   ],
   "source": [
    "frames = list(range(100))\n",
    "ani = anm.FuncAnimation(fig, run_simulation, frames=frames)\n",
    "ani.save('preview-point-model.gif', writer='pillow', fps=10)"
   ]
  },
  {
   "cell_type": "code",
   "execution_count": null,
   "metadata": {},
   "outputs": [],
   "source": []
  },
  {
   "cell_type": "code",
   "execution_count": null,
   "metadata": {},
   "outputs": [],
   "source": []
  }
 ],
 "metadata": {
  "kernelspec": {
   "display_name": "Python 3",
   "language": "python",
   "name": "python3"
  },
  "language_info": {
   "codemirror_mode": {
    "name": "ipython",
    "version": 3
   },
   "file_extension": ".py",
   "mimetype": "text/x-python",
   "name": "python",
   "nbconvert_exporter": "python",
   "pygments_lexer": "ipython3",
   "version": "3.7.2"
  }
 },
 "nbformat": 4,
 "nbformat_minor": 2
}
