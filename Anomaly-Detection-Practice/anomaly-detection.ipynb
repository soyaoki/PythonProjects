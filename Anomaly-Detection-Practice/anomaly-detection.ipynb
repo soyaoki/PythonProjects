{
 "cells": [
  {
   "cell_type": "markdown",
   "metadata": {},
   "source": [
    "# How to 異常検知"
   ]
  },
  {
   "cell_type": "code",
   "execution_count": 1,
   "metadata": {},
   "outputs": [],
   "source": [
    "import numpy as np\n",
    "from scipy import stats\n",
    "import pandas as pd\n",
    "import seaborn as sns\n",
    "import matplotlib.pyplot as plt\n",
    "%matplotlib inline"
   ]
  },
  {
   "cell_type": "markdown",
   "metadata": {},
   "source": [
    "### データのロード(Wine dataset)\n",
    "https://ir.library.oregonstate.edu/concern/datasets/47429f155"
   ]
  },
  {
   "cell_type": "code",
   "execution_count": 2,
   "metadata": {},
   "outputs": [
    {
     "data": {
      "text/html": [
       "<div>\n",
       "<style scoped>\n",
       "    .dataframe tbody tr th:only-of-type {\n",
       "        vertical-align: middle;\n",
       "    }\n",
       "\n",
       "    .dataframe tbody tr th {\n",
       "        vertical-align: top;\n",
       "    }\n",
       "\n",
       "    .dataframe thead th {\n",
       "        text-align: right;\n",
       "    }\n",
       "</style>\n",
       "<table border=\"1\" class=\"dataframe\">\n",
       "  <thead>\n",
       "    <tr style=\"text-align: right;\">\n",
       "      <th></th>\n",
       "      <th>point.id</th>\n",
       "      <th>motherset</th>\n",
       "      <th>origin</th>\n",
       "      <th>original.label</th>\n",
       "      <th>diff.score</th>\n",
       "      <th>ground.truth</th>\n",
       "      <th>fixed.acidity</th>\n",
       "      <th>volatile.acidity</th>\n",
       "      <th>citric.acid</th>\n",
       "      <th>residual.sugar</th>\n",
       "      <th>chlorides</th>\n",
       "      <th>free.sulfur.dioxide</th>\n",
       "      <th>total.sulfur.dioxide</th>\n",
       "      <th>density</th>\n",
       "      <th>pH</th>\n",
       "      <th>sulphates</th>\n",
       "      <th>alcohol</th>\n",
       "    </tr>\n",
       "  </thead>\n",
       "  <tbody>\n",
       "    <tr>\n",
       "      <th>0</th>\n",
       "      <td>wine_point_3594</td>\n",
       "      <td>wine</td>\n",
       "      <td>regression</td>\n",
       "      <td>7</td>\n",
       "      <td>0.050492</td>\n",
       "      <td>nominal</td>\n",
       "      <td>-1.245962</td>\n",
       "      <td>-0.362411</td>\n",
       "      <td>-0.265853</td>\n",
       "      <td>-0.261304</td>\n",
       "      <td>-0.343495</td>\n",
       "      <td>1.209882</td>\n",
       "      <td>0.747594</td>\n",
       "      <td>-0.899276</td>\n",
       "      <td>0.817846</td>\n",
       "      <td>-0.613338</td>\n",
       "      <td>0.174560</td>\n",
       "    </tr>\n",
       "    <tr>\n",
       "      <th>1</th>\n",
       "      <td>wine_point_5089</td>\n",
       "      <td>wine</td>\n",
       "      <td>regression</td>\n",
       "      <td>5</td>\n",
       "      <td>0.082237</td>\n",
       "      <td>anomaly</td>\n",
       "      <td>0.759540</td>\n",
       "      <td>0.973867</td>\n",
       "      <td>0.215849</td>\n",
       "      <td>-0.534540</td>\n",
       "      <td>0.598458</td>\n",
       "      <td>-0.536656</td>\n",
       "      <td>0.199134</td>\n",
       "      <td>0.968217</td>\n",
       "      <td>0.071518</td>\n",
       "      <td>0.596292</td>\n",
       "      <td>-0.915394</td>\n",
       "    </tr>\n",
       "    <tr>\n",
       "      <th>2</th>\n",
       "      <td>wine_point_1912</td>\n",
       "      <td>wine</td>\n",
       "      <td>regression</td>\n",
       "      <td>6</td>\n",
       "      <td>0.290201</td>\n",
       "      <td>nominal</td>\n",
       "      <td>-0.088942</td>\n",
       "      <td>-0.969809</td>\n",
       "      <td>-0.403482</td>\n",
       "      <td>-0.870829</td>\n",
       "      <td>-0.429127</td>\n",
       "      <td>-0.592996</td>\n",
       "      <td>-0.791633</td>\n",
       "      <td>-0.699187</td>\n",
       "      <td>-1.110168</td>\n",
       "      <td>1.402712</td>\n",
       "      <td>-0.496181</td>\n",
       "    </tr>\n",
       "    <tr>\n",
       "      <th>3</th>\n",
       "      <td>wine_point_4908</td>\n",
       "      <td>wine</td>\n",
       "      <td>regression</td>\n",
       "      <td>5</td>\n",
       "      <td>0.053559</td>\n",
       "      <td>anomaly</td>\n",
       "      <td>0.219597</td>\n",
       "      <td>0.973867</td>\n",
       "      <td>0.284664</td>\n",
       "      <td>0.138039</td>\n",
       "      <td>0.427194</td>\n",
       "      <td>-0.762016</td>\n",
       "      <td>-0.243173</td>\n",
       "      <td>1.034913</td>\n",
       "      <td>0.817846</td>\n",
       "      <td>1.805921</td>\n",
       "      <td>0.006874</td>\n",
       "    </tr>\n",
       "    <tr>\n",
       "      <th>4</th>\n",
       "      <td>wine_point_2246</td>\n",
       "      <td>wine</td>\n",
       "      <td>regression</td>\n",
       "      <td>7</td>\n",
       "      <td>0.420300</td>\n",
       "      <td>nominal</td>\n",
       "      <td>0.219597</td>\n",
       "      <td>-0.180191</td>\n",
       "      <td>-0.541112</td>\n",
       "      <td>0.348220</td>\n",
       "      <td>-0.714567</td>\n",
       "      <td>-0.142276</td>\n",
       "      <td>0.446826</td>\n",
       "      <td>-0.242318</td>\n",
       "      <td>-0.363840</td>\n",
       "      <td>-1.016548</td>\n",
       "      <td>0.090717</td>\n",
       "    </tr>\n",
       "  </tbody>\n",
       "</table>\n",
       "</div>"
      ],
      "text/plain": [
       "          point.id motherset      origin  original.label  diff.score  \\\n",
       "0  wine_point_3594      wine  regression               7    0.050492   \n",
       "1  wine_point_5089      wine  regression               5    0.082237   \n",
       "2  wine_point_1912      wine  regression               6    0.290201   \n",
       "3  wine_point_4908      wine  regression               5    0.053559   \n",
       "4  wine_point_2246      wine  regression               7    0.420300   \n",
       "\n",
       "  ground.truth  fixed.acidity  volatile.acidity  citric.acid  residual.sugar  \\\n",
       "0      nominal      -1.245962         -0.362411    -0.265853       -0.261304   \n",
       "1      anomaly       0.759540          0.973867     0.215849       -0.534540   \n",
       "2      nominal      -0.088942         -0.969809    -0.403482       -0.870829   \n",
       "3      anomaly       0.219597          0.973867     0.284664        0.138039   \n",
       "4      nominal       0.219597         -0.180191    -0.541112        0.348220   \n",
       "\n",
       "   chlorides  free.sulfur.dioxide  total.sulfur.dioxide   density        pH  \\\n",
       "0  -0.343495             1.209882              0.747594 -0.899276  0.817846   \n",
       "1   0.598458            -0.536656              0.199134  0.968217  0.071518   \n",
       "2  -0.429127            -0.592996             -0.791633 -0.699187 -1.110168   \n",
       "3   0.427194            -0.762016             -0.243173  1.034913  0.817846   \n",
       "4  -0.714567            -0.142276              0.446826 -0.242318 -0.363840   \n",
       "\n",
       "   sulphates   alcohol  \n",
       "0  -0.613338  0.174560  \n",
       "1   0.596292 -0.915394  \n",
       "2   1.402712 -0.496181  \n",
       "3   1.805921  0.006874  \n",
       "4  -1.016548  0.090717  "
      ]
     },
     "execution_count": 2,
     "metadata": {},
     "output_type": "execute_result"
    }
   ],
   "source": [
    "df = pd.read_csv('wine_benchmark_0001.csv')\n",
    "df.head()"
   ]
  },
  {
   "cell_type": "code",
   "execution_count": 3,
   "metadata": {},
   "outputs": [
    {
     "data": {
      "text/html": [
       "<div>\n",
       "<style scoped>\n",
       "    .dataframe tbody tr th:only-of-type {\n",
       "        vertical-align: middle;\n",
       "    }\n",
       "\n",
       "    .dataframe tbody tr th {\n",
       "        vertical-align: top;\n",
       "    }\n",
       "\n",
       "    .dataframe thead th {\n",
       "        text-align: right;\n",
       "    }\n",
       "</style>\n",
       "<table border=\"1\" class=\"dataframe\">\n",
       "  <thead>\n",
       "    <tr style=\"text-align: right;\">\n",
       "      <th></th>\n",
       "      <th>original.label</th>\n",
       "      <th>diff.score</th>\n",
       "      <th>fixed.acidity</th>\n",
       "      <th>volatile.acidity</th>\n",
       "      <th>citric.acid</th>\n",
       "      <th>residual.sugar</th>\n",
       "      <th>chlorides</th>\n",
       "      <th>free.sulfur.dioxide</th>\n",
       "      <th>total.sulfur.dioxide</th>\n",
       "      <th>density</th>\n",
       "      <th>pH</th>\n",
       "      <th>sulphates</th>\n",
       "      <th>alcohol</th>\n",
       "    </tr>\n",
       "  </thead>\n",
       "  <tbody>\n",
       "    <tr>\n",
       "      <th>count</th>\n",
       "      <td>3703.000000</td>\n",
       "      <td>3703.000000</td>\n",
       "      <td>3703.000000</td>\n",
       "      <td>3703.000000</td>\n",
       "      <td>3703.000000</td>\n",
       "      <td>3703.000000</td>\n",
       "      <td>3703.000000</td>\n",
       "      <td>3703.000000</td>\n",
       "      <td>3703.000000</td>\n",
       "      <td>3703.000000</td>\n",
       "      <td>3703.000000</td>\n",
       "      <td>3703.000000</td>\n",
       "      <td>3703.000000</td>\n",
       "    </tr>\n",
       "    <tr>\n",
       "      <th>mean</th>\n",
       "      <td>5.833648</td>\n",
       "      <td>0.182961</td>\n",
       "      <td>-0.015088</td>\n",
       "      <td>-0.002474</td>\n",
       "      <td>0.004425</td>\n",
       "      <td>-0.003911</td>\n",
       "      <td>-0.011658</td>\n",
       "      <td>0.005770</td>\n",
       "      <td>0.006552</td>\n",
       "      <td>-0.017944</td>\n",
       "      <td>-0.008731</td>\n",
       "      <td>0.006213</td>\n",
       "      <td>0.009173</td>\n",
       "    </tr>\n",
       "    <tr>\n",
       "      <th>std</th>\n",
       "      <td>0.878879</td>\n",
       "      <td>0.179670</td>\n",
       "      <td>0.979572</td>\n",
       "      <td>1.015064</td>\n",
       "      <td>0.998171</td>\n",
       "      <td>0.988028</td>\n",
       "      <td>0.974637</td>\n",
       "      <td>1.027255</td>\n",
       "      <td>1.001732</td>\n",
       "      <td>0.986455</td>\n",
       "      <td>0.990001</td>\n",
       "      <td>0.978650</td>\n",
       "      <td>1.005466</td>\n",
       "    </tr>\n",
       "    <tr>\n",
       "      <th>min</th>\n",
       "      <td>3.000000</td>\n",
       "      <td>0.002303</td>\n",
       "      <td>-2.557251</td>\n",
       "      <td>-1.577208</td>\n",
       "      <td>-2.192664</td>\n",
       "      <td>-1.017956</td>\n",
       "      <td>-1.342536</td>\n",
       "      <td>-1.663455</td>\n",
       "      <td>-1.941631</td>\n",
       "      <td>-2.529997</td>\n",
       "      <td>-3.100376</td>\n",
       "      <td>-2.091774</td>\n",
       "      <td>-2.089189</td>\n",
       "    </tr>\n",
       "    <tr>\n",
       "      <th>25%</th>\n",
       "      <td>5.000000</td>\n",
       "      <td>0.060985</td>\n",
       "      <td>-0.628884</td>\n",
       "      <td>-0.666110</td>\n",
       "      <td>-0.472297</td>\n",
       "      <td>-0.765739</td>\n",
       "      <td>-0.514759</td>\n",
       "      <td>-0.762016</td>\n",
       "      <td>-0.667787</td>\n",
       "      <td>-0.832580</td>\n",
       "      <td>-0.674810</td>\n",
       "      <td>-0.680540</td>\n",
       "      <td>-0.831551</td>\n",
       "    </tr>\n",
       "    <tr>\n",
       "      <th>50%</th>\n",
       "      <td>6.000000</td>\n",
       "      <td>0.126008</td>\n",
       "      <td>-0.243211</td>\n",
       "      <td>-0.301671</td>\n",
       "      <td>-0.059409</td>\n",
       "      <td>-0.524031</td>\n",
       "      <td>-0.257863</td>\n",
       "      <td>-0.085936</td>\n",
       "      <td>0.057596</td>\n",
       "      <td>0.034471</td>\n",
       "      <td>-0.115064</td>\n",
       "      <td>-0.142926</td>\n",
       "      <td>-0.160811</td>\n",
       "    </tr>\n",
       "    <tr>\n",
       "      <th>75%</th>\n",
       "      <td>6.000000</td>\n",
       "      <td>0.237099</td>\n",
       "      <td>0.373866</td>\n",
       "      <td>0.366468</td>\n",
       "      <td>0.491108</td>\n",
       "      <td>0.537383</td>\n",
       "      <td>0.227386</td>\n",
       "      <td>0.590143</td>\n",
       "      <td>0.712210</td>\n",
       "      <td>0.741450</td>\n",
       "      <td>0.631264</td>\n",
       "      <td>0.461889</td>\n",
       "      <td>0.677615</td>\n",
       "    </tr>\n",
       "    <tr>\n",
       "      <th>max</th>\n",
       "      <td>9.000000</td>\n",
       "      <td>0.983355</td>\n",
       "      <td>6.698910</td>\n",
       "      <td>7.533774</td>\n",
       "      <td>9.230570</td>\n",
       "      <td>5.497655</td>\n",
       "      <td>15.840967</td>\n",
       "      <td>14.562446</td>\n",
       "      <td>5.736815</td>\n",
       "      <td>5.203424</td>\n",
       "      <td>4.238516</td>\n",
       "      <td>9.534111</td>\n",
       "      <td>3.695947</td>\n",
       "    </tr>\n",
       "  </tbody>\n",
       "</table>\n",
       "</div>"
      ],
      "text/plain": [
       "       original.label   diff.score  fixed.acidity  volatile.acidity  \\\n",
       "count     3703.000000  3703.000000    3703.000000       3703.000000   \n",
       "mean         5.833648     0.182961      -0.015088         -0.002474   \n",
       "std          0.878879     0.179670       0.979572          1.015064   \n",
       "min          3.000000     0.002303      -2.557251         -1.577208   \n",
       "25%          5.000000     0.060985      -0.628884         -0.666110   \n",
       "50%          6.000000     0.126008      -0.243211         -0.301671   \n",
       "75%          6.000000     0.237099       0.373866          0.366468   \n",
       "max          9.000000     0.983355       6.698910          7.533774   \n",
       "\n",
       "       citric.acid  residual.sugar    chlorides  free.sulfur.dioxide  \\\n",
       "count  3703.000000     3703.000000  3703.000000          3703.000000   \n",
       "mean      0.004425       -0.003911    -0.011658             0.005770   \n",
       "std       0.998171        0.988028     0.974637             1.027255   \n",
       "min      -2.192664       -1.017956    -1.342536            -1.663455   \n",
       "25%      -0.472297       -0.765739    -0.514759            -0.762016   \n",
       "50%      -0.059409       -0.524031    -0.257863            -0.085936   \n",
       "75%       0.491108        0.537383     0.227386             0.590143   \n",
       "max       9.230570        5.497655    15.840967            14.562446   \n",
       "\n",
       "       total.sulfur.dioxide      density           pH    sulphates  \\\n",
       "count           3703.000000  3703.000000  3703.000000  3703.000000   \n",
       "mean               0.006552    -0.017944    -0.008731     0.006213   \n",
       "std                1.001732     0.986455     0.990001     0.978650   \n",
       "min               -1.941631    -2.529997    -3.100376    -2.091774   \n",
       "25%               -0.667787    -0.832580    -0.674810    -0.680540   \n",
       "50%                0.057596     0.034471    -0.115064    -0.142926   \n",
       "75%                0.712210     0.741450     0.631264     0.461889   \n",
       "max                5.736815     5.203424     4.238516     9.534111   \n",
       "\n",
       "           alcohol  \n",
       "count  3703.000000  \n",
       "mean      0.009173  \n",
       "std       1.005466  \n",
       "min      -2.089189  \n",
       "25%      -0.831551  \n",
       "50%      -0.160811  \n",
       "75%       0.677615  \n",
       "max       3.695947  "
      ]
     },
     "execution_count": 3,
     "metadata": {},
     "output_type": "execute_result"
    }
   ],
   "source": [
    "df.describe()"
   ]
  },
  {
   "cell_type": "code",
   "execution_count": 4,
   "metadata": {},
   "outputs": [
    {
     "data": {
      "text/html": [
       "<div>\n",
       "<style scoped>\n",
       "    .dataframe tbody tr th:only-of-type {\n",
       "        vertical-align: middle;\n",
       "    }\n",
       "\n",
       "    .dataframe tbody tr th {\n",
       "        vertical-align: top;\n",
       "    }\n",
       "\n",
       "    .dataframe thead th {\n",
       "        text-align: right;\n",
       "    }\n",
       "</style>\n",
       "<table border=\"1\" class=\"dataframe\">\n",
       "  <thead>\n",
       "    <tr style=\"text-align: right;\">\n",
       "      <th></th>\n",
       "      <th>diff.score</th>\n",
       "      <th>fixed.acidity</th>\n",
       "      <th>volatile.acidity</th>\n",
       "      <th>citric.acid</th>\n",
       "      <th>residual.sugar</th>\n",
       "      <th>chlorides</th>\n",
       "      <th>free.sulfur.dioxide</th>\n",
       "      <th>total.sulfur.dioxide</th>\n",
       "      <th>density</th>\n",
       "      <th>pH</th>\n",
       "      <th>sulphates</th>\n",
       "      <th>alcohol</th>\n",
       "    </tr>\n",
       "  </thead>\n",
       "  <tbody>\n",
       "    <tr>\n",
       "      <th>count</th>\n",
       "      <td>2369.000000</td>\n",
       "      <td>2369.000000</td>\n",
       "      <td>2369.000000</td>\n",
       "      <td>2369.000000</td>\n",
       "      <td>2369.000000</td>\n",
       "      <td>2369.000000</td>\n",
       "      <td>2369.000000</td>\n",
       "      <td>2369.000000</td>\n",
       "      <td>2369.000000</td>\n",
       "      <td>2369.000000</td>\n",
       "      <td>2369.000000</td>\n",
       "      <td>2369.000000</td>\n",
       "    </tr>\n",
       "    <tr>\n",
       "      <th>mean</th>\n",
       "      <td>0.138589</td>\n",
       "      <td>-0.061119</td>\n",
       "      <td>-0.215317</td>\n",
       "      <td>0.069390</td>\n",
       "      <td>-0.027071</td>\n",
       "      <td>-0.146193</td>\n",
       "      <td>0.036268</td>\n",
       "      <td>-0.034290</td>\n",
       "      <td>-0.219793</td>\n",
       "      <td>-0.003435</td>\n",
       "      <td>0.034794</td>\n",
       "      <td>0.296002</td>\n",
       "    </tr>\n",
       "    <tr>\n",
       "      <th>std</th>\n",
       "      <td>0.148588</td>\n",
       "      <td>0.977973</td>\n",
       "      <td>0.843820</td>\n",
       "      <td>0.911991</td>\n",
       "      <td>0.962808</td>\n",
       "      <td>0.807848</td>\n",
       "      <td>0.938349</td>\n",
       "      <td>0.939918</td>\n",
       "      <td>1.012293</td>\n",
       "      <td>0.979659</td>\n",
       "      <td>1.006973</td>\n",
       "      <td>1.028169</td>\n",
       "    </tr>\n",
       "    <tr>\n",
       "      <th>min</th>\n",
       "      <td>0.002303</td>\n",
       "      <td>-2.557251</td>\n",
       "      <td>-1.577208</td>\n",
       "      <td>-2.192664</td>\n",
       "      <td>-0.996938</td>\n",
       "      <td>-1.199816</td>\n",
       "      <td>-1.663455</td>\n",
       "      <td>-1.941631</td>\n",
       "      <td>-2.529997</td>\n",
       "      <td>-3.100376</td>\n",
       "      <td>-2.091774</td>\n",
       "      <td>-1.669977</td>\n",
       "    </tr>\n",
       "    <tr>\n",
       "      <th>25%</th>\n",
       "      <td>0.041708</td>\n",
       "      <td>-0.628884</td>\n",
       "      <td>-0.787590</td>\n",
       "      <td>-0.334668</td>\n",
       "      <td>-0.765739</td>\n",
       "      <td>-0.571847</td>\n",
       "      <td>-0.649336</td>\n",
       "      <td>-0.597018</td>\n",
       "      <td>-1.049342</td>\n",
       "      <td>-0.674810</td>\n",
       "      <td>-0.680540</td>\n",
       "      <td>-0.580023</td>\n",
       "    </tr>\n",
       "    <tr>\n",
       "      <th>50%</th>\n",
       "      <td>0.088777</td>\n",
       "      <td>-0.243211</td>\n",
       "      <td>-0.423150</td>\n",
       "      <td>0.009405</td>\n",
       "      <td>-0.513522</td>\n",
       "      <td>-0.343495</td>\n",
       "      <td>-0.029596</td>\n",
       "      <td>0.022211</td>\n",
       "      <td>-0.299010</td>\n",
       "      <td>-0.052870</td>\n",
       "      <td>-0.142926</td>\n",
       "      <td>0.258402</td>\n",
       "    </tr>\n",
       "    <tr>\n",
       "      <th>75%</th>\n",
       "      <td>0.170649</td>\n",
       "      <td>0.296732</td>\n",
       "      <td>0.123508</td>\n",
       "      <td>0.491108</td>\n",
       "      <td>0.495347</td>\n",
       "      <td>-0.000967</td>\n",
       "      <td>0.590143</td>\n",
       "      <td>0.606056</td>\n",
       "      <td>0.594718</td>\n",
       "      <td>0.631264</td>\n",
       "      <td>0.529090</td>\n",
       "      <td>1.096828</td>\n",
       "    </tr>\n",
       "    <tr>\n",
       "      <th>max</th>\n",
       "      <td>0.950183</td>\n",
       "      <td>6.004698</td>\n",
       "      <td>4.132341</td>\n",
       "      <td>9.230570</td>\n",
       "      <td>5.497655</td>\n",
       "      <td>10.217794</td>\n",
       "      <td>4.590278</td>\n",
       "      <td>3.153743</td>\n",
       "      <td>5.203424</td>\n",
       "      <td>4.238516</td>\n",
       "      <td>9.534111</td>\n",
       "      <td>3.109049</td>\n",
       "    </tr>\n",
       "  </tbody>\n",
       "</table>\n",
       "</div>"
      ],
      "text/plain": [
       "        diff.score  fixed.acidity  volatile.acidity  citric.acid  \\\n",
       "count  2369.000000    2369.000000       2369.000000  2369.000000   \n",
       "mean      0.138589      -0.061119         -0.215317     0.069390   \n",
       "std       0.148588       0.977973          0.843820     0.911991   \n",
       "min       0.002303      -2.557251         -1.577208    -2.192664   \n",
       "25%       0.041708      -0.628884         -0.787590    -0.334668   \n",
       "50%       0.088777      -0.243211         -0.423150     0.009405   \n",
       "75%       0.170649       0.296732          0.123508     0.491108   \n",
       "max       0.950183       6.004698          4.132341     9.230570   \n",
       "\n",
       "       residual.sugar    chlorides  free.sulfur.dioxide  total.sulfur.dioxide  \\\n",
       "count     2369.000000  2369.000000          2369.000000           2369.000000   \n",
       "mean        -0.027071    -0.146193             0.036268             -0.034290   \n",
       "std          0.962808     0.807848             0.938349              0.939918   \n",
       "min         -0.996938    -1.199816            -1.663455             -1.941631   \n",
       "25%         -0.765739    -0.571847            -0.649336             -0.597018   \n",
       "50%         -0.513522    -0.343495            -0.029596              0.022211   \n",
       "75%          0.495347    -0.000967             0.590143              0.606056   \n",
       "max          5.497655    10.217794             4.590278              3.153743   \n",
       "\n",
       "           density           pH    sulphates      alcohol  \n",
       "count  2369.000000  2369.000000  2369.000000  2369.000000  \n",
       "mean     -0.219793    -0.003435     0.034794     0.296002  \n",
       "std       1.012293     0.979659     1.006973     1.028169  \n",
       "min      -2.529997    -3.100376    -2.091774    -1.669977  \n",
       "25%      -1.049342    -0.674810    -0.680540    -0.580023  \n",
       "50%      -0.299010    -0.052870    -0.142926     0.258402  \n",
       "75%       0.594718     0.631264     0.529090     1.096828  \n",
       "max       5.203424     4.238516     9.534111     3.109049  "
      ]
     },
     "execution_count": 4,
     "metadata": {},
     "output_type": "execute_result"
    }
   ],
   "source": [
    "df_nominal = df[df['ground.truth']=='nominal'].drop(['point.id','motherset','origin','original.label',\n",
    "                                                     'ground.truth'],axis=1)\n",
    "df_nominal.describe()"
   ]
  },
  {
   "cell_type": "code",
   "execution_count": 5,
   "metadata": {},
   "outputs": [
    {
     "data": {
      "text/html": [
       "<div>\n",
       "<style scoped>\n",
       "    .dataframe tbody tr th:only-of-type {\n",
       "        vertical-align: middle;\n",
       "    }\n",
       "\n",
       "    .dataframe tbody tr th {\n",
       "        vertical-align: top;\n",
       "    }\n",
       "\n",
       "    .dataframe thead th {\n",
       "        text-align: right;\n",
       "    }\n",
       "</style>\n",
       "<table border=\"1\" class=\"dataframe\">\n",
       "  <thead>\n",
       "    <tr style=\"text-align: right;\">\n",
       "      <th></th>\n",
       "      <th>diff.score</th>\n",
       "      <th>fixed.acidity</th>\n",
       "      <th>volatile.acidity</th>\n",
       "      <th>citric.acid</th>\n",
       "      <th>residual.sugar</th>\n",
       "      <th>chlorides</th>\n",
       "      <th>free.sulfur.dioxide</th>\n",
       "      <th>total.sulfur.dioxide</th>\n",
       "      <th>density</th>\n",
       "      <th>pH</th>\n",
       "      <th>sulphates</th>\n",
       "      <th>alcohol</th>\n",
       "    </tr>\n",
       "  </thead>\n",
       "  <tbody>\n",
       "    <tr>\n",
       "      <th>count</th>\n",
       "      <td>1334.000000</td>\n",
       "      <td>1334.000000</td>\n",
       "      <td>1334.000000</td>\n",
       "      <td>1334.000000</td>\n",
       "      <td>1334.000000</td>\n",
       "      <td>1334.000000</td>\n",
       "      <td>1334.000000</td>\n",
       "      <td>1334.000000</td>\n",
       "      <td>1334.000000</td>\n",
       "      <td>1334.000000</td>\n",
       "      <td>1334.000000</td>\n",
       "      <td>1334.000000</td>\n",
       "    </tr>\n",
       "    <tr>\n",
       "      <th>mean</th>\n",
       "      <td>0.261760</td>\n",
       "      <td>0.066658</td>\n",
       "      <td>0.375506</td>\n",
       "      <td>-0.110943</td>\n",
       "      <td>0.037219</td>\n",
       "      <td>0.227257</td>\n",
       "      <td>-0.048391</td>\n",
       "      <td>0.079081</td>\n",
       "      <td>0.340512</td>\n",
       "      <td>-0.018137</td>\n",
       "      <td>-0.044542</td>\n",
       "      <td>-0.500195</td>\n",
       "    </tr>\n",
       "    <tr>\n",
       "      <th>std</th>\n",
       "      <td>0.201784</td>\n",
       "      <td>0.977440</td>\n",
       "      <td>1.171804</td>\n",
       "      <td>1.126369</td>\n",
       "      <td>1.030383</td>\n",
       "      <td>1.178760</td>\n",
       "      <td>1.167002</td>\n",
       "      <td>1.099637</td>\n",
       "      <td>0.825277</td>\n",
       "      <td>1.008407</td>\n",
       "      <td>0.924414</td>\n",
       "      <td>0.723767</td>\n",
       "    </tr>\n",
       "    <tr>\n",
       "      <th>min</th>\n",
       "      <td>0.009400</td>\n",
       "      <td>-2.325847</td>\n",
       "      <td>-1.394989</td>\n",
       "      <td>-2.192664</td>\n",
       "      <td>-1.017956</td>\n",
       "      <td>-1.342536</td>\n",
       "      <td>-1.550775</td>\n",
       "      <td>-1.923939</td>\n",
       "      <td>-2.433288</td>\n",
       "      <td>-2.665018</td>\n",
       "      <td>-1.688564</td>\n",
       "      <td>-2.089189</td>\n",
       "    </tr>\n",
       "    <tr>\n",
       "      <th>25%</th>\n",
       "      <td>0.122991</td>\n",
       "      <td>-0.551750</td>\n",
       "      <td>-0.483890</td>\n",
       "      <td>-0.747556</td>\n",
       "      <td>-0.765739</td>\n",
       "      <td>-0.372039</td>\n",
       "      <td>-0.931035</td>\n",
       "      <td>-0.791633</td>\n",
       "      <td>-0.265662</td>\n",
       "      <td>-0.674810</td>\n",
       "      <td>-0.613338</td>\n",
       "      <td>-0.999236</td>\n",
       "    </tr>\n",
       "    <tr>\n",
       "      <th>50%</th>\n",
       "      <td>0.196900</td>\n",
       "      <td>-0.088942</td>\n",
       "      <td>0.002029</td>\n",
       "      <td>-0.128224</td>\n",
       "      <td>-0.534540</td>\n",
       "      <td>-0.115143</td>\n",
       "      <td>-0.254956</td>\n",
       "      <td>0.199134</td>\n",
       "      <td>0.434648</td>\n",
       "      <td>-0.115064</td>\n",
       "      <td>-0.210128</td>\n",
       "      <td>-0.705787</td>\n",
       "    </tr>\n",
       "    <tr>\n",
       "      <th>75%</th>\n",
       "      <td>0.339984</td>\n",
       "      <td>0.451001</td>\n",
       "      <td>1.095347</td>\n",
       "      <td>0.559923</td>\n",
       "      <td>0.663492</td>\n",
       "      <td>0.598458</td>\n",
       "      <td>0.646483</td>\n",
       "      <td>0.920094</td>\n",
       "      <td>0.934869</td>\n",
       "      <td>0.569070</td>\n",
       "      <td>0.327485</td>\n",
       "      <td>-0.076968</td>\n",
       "    </tr>\n",
       "    <tr>\n",
       "      <th>max</th>\n",
       "      <td>0.983355</td>\n",
       "      <td>6.698910</td>\n",
       "      <td>7.533774</td>\n",
       "      <td>4.688803</td>\n",
       "      <td>3.795189</td>\n",
       "      <td>15.840967</td>\n",
       "      <td>14.562446</td>\n",
       "      <td>5.736815</td>\n",
       "      <td>2.819036</td>\n",
       "      <td>4.238516</td>\n",
       "      <td>7.316457</td>\n",
       "      <td>3.695947</td>\n",
       "    </tr>\n",
       "  </tbody>\n",
       "</table>\n",
       "</div>"
      ],
      "text/plain": [
       "        diff.score  fixed.acidity  volatile.acidity  citric.acid  \\\n",
       "count  1334.000000    1334.000000       1334.000000  1334.000000   \n",
       "mean      0.261760       0.066658          0.375506    -0.110943   \n",
       "std       0.201784       0.977440          1.171804     1.126369   \n",
       "min       0.009400      -2.325847         -1.394989    -2.192664   \n",
       "25%       0.122991      -0.551750         -0.483890    -0.747556   \n",
       "50%       0.196900      -0.088942          0.002029    -0.128224   \n",
       "75%       0.339984       0.451001          1.095347     0.559923   \n",
       "max       0.983355       6.698910          7.533774     4.688803   \n",
       "\n",
       "       residual.sugar    chlorides  free.sulfur.dioxide  total.sulfur.dioxide  \\\n",
       "count     1334.000000  1334.000000          1334.000000           1334.000000   \n",
       "mean         0.037219     0.227257            -0.048391              0.079081   \n",
       "std          1.030383     1.178760             1.167002              1.099637   \n",
       "min         -1.017956    -1.342536            -1.550775             -1.923939   \n",
       "25%         -0.765739    -0.372039            -0.931035             -0.791633   \n",
       "50%         -0.534540    -0.115143            -0.254956              0.199134   \n",
       "75%          0.663492     0.598458             0.646483              0.920094   \n",
       "max          3.795189    15.840967            14.562446              5.736815   \n",
       "\n",
       "           density           pH    sulphates      alcohol  \n",
       "count  1334.000000  1334.000000  1334.000000  1334.000000  \n",
       "mean      0.340512    -0.018137    -0.044542    -0.500195  \n",
       "std       0.825277     1.008407     0.924414     0.723767  \n",
       "min      -2.433288    -2.665018    -1.688564    -2.089189  \n",
       "25%      -0.265662    -0.674810    -0.613338    -0.999236  \n",
       "50%       0.434648    -0.115064    -0.210128    -0.705787  \n",
       "75%       0.934869     0.569070     0.327485    -0.076968  \n",
       "max       2.819036     4.238516     7.316457     3.695947  "
      ]
     },
     "execution_count": 5,
     "metadata": {},
     "output_type": "execute_result"
    }
   ],
   "source": [
    "df_anomaly = df[df['ground.truth']=='anomaly'].drop(['point.id','motherset','origin','original.label',\n",
    "                                                     'ground.truth'],axis=1)\n",
    "df_anomaly.describe()"
   ]
  },
  {
   "cell_type": "markdown",
   "metadata": {},
   "source": [
    "### (1)正常時の分布とシャノン情報量"
   ]
  },
  {
   "cell_type": "code",
   "execution_count": 6,
   "metadata": {},
   "outputs": [
    {
     "name": "stderr",
     "output_type": "stream",
     "text": [
      "/usr/local/lib/python2.7/site-packages/matplotlib/axes/_axes.py:6571: UserWarning: The 'normed' kwarg is deprecated, and has been replaced by the 'density' kwarg.\n",
      "  warnings.warn(\"The 'normed' kwarg is deprecated, and has been \"\n"
     ]
    },
    {
     "data": {
      "text/plain": [
       "Text(0.5,1,'Nominal')"
      ]
     },
     "execution_count": 6,
     "metadata": {},
     "output_type": "execute_result"
    },
    {
     "data": {
      "image/png": "[encoded data removed]",
      "text/plain": [
       "<Figure size 432x288 with 1 Axes>"
      ]
     },
     "metadata": {
      "needs_background": "light"
     },
     "output_type": "display_data"
    }
   ],
   "source": [
    "df_nominal['fixed.acidity'].hist(normed=True)\n",
    "mu, sigma = stats.norm.fit(data=df_nominal['fixed.acidity'])\n",
    "x = np.linspace(-10, 10, 100)\n",
    "plt.plot(x, stats.norm.pdf(x, loc=mu, scale=sigma))\n",
    "plt.xlabel('fixed.acidity')\n",
    "plt.ylabel('pdf')\n",
    "plt.xlim([-10, 10])\n",
    "plt.title('Nominal')"
   ]
  },
  {
   "cell_type": "code",
   "execution_count": 7,
   "metadata": {},
   "outputs": [
    {
     "data": {
      "text/plain": [
       "<matplotlib.legend.Legend at 0x124972190>"
      ]
     },
     "execution_count": 7,
     "metadata": {},
     "output_type": "execute_result"
    },
    {
     "data": {
      "image/png": "[encoded data removed]",
      "text/plain": [
       "<Figure size 432x288 with 1 Axes>"
      ]
     },
     "metadata": {
      "needs_background": "light"
     },
     "output_type": "display_data"
    }
   ],
   "source": [
    "alpha_nominal = -np.log(stats.norm.pdf(df_nominal['fixed.acidity'], loc=mu, scale=sigma))\n",
    "alpha_anomaly = -np.log(stats.norm.pdf(df_anomaly['fixed.acidity'], loc=mu, scale=sigma))\n",
    "plt.scatter(df_nominal['fixed.acidity'], alpha_nominal, label='nominal')\n",
    "plt.scatter(df_anomaly['fixed.acidity'], alpha_anomaly, label='anomaly')\n",
    "plt.grid()\n",
    "plt.xlim([-10, 10])\n",
    "plt.xlabel('pH')\n",
    "plt.ylabel('shannon - information')\n",
    "plt.title('shannon information')\n",
    "plt.legend()"
   ]
  },
  {
   "cell_type": "code",
   "execution_count": 8,
   "metadata": {},
   "outputs": [],
   "source": [
    "a_th = []\n",
    "r_0 = []\n",
    "r_1 = []\n",
    "\n",
    "for a_th_i in range(0,10):\n",
    "    a_th.append(a_th_i)\n",
    "    r_0.append(sum(alpha_nominal < a_th_i) / float(alpha_nominal.shape[0]))\n",
    "    r_1.append(sum(alpha_anomaly > a_th_i) / float(alpha_anomaly.shape[0]))"
   ]
  },
  {
   "cell_type": "code",
   "execution_count": 9,
   "metadata": {},
   "outputs": [
    {
     "data": {
      "text/plain": [
       "<matplotlib.legend.Legend at 0x124a6b410>"
      ]
     },
     "execution_count": 9,
     "metadata": {},
     "output_type": "execute_result"
    },
    {
     "data": {
      "image/png": "[encoded data removed]",
      "text/plain": [
       "<Figure size 432x288 with 1 Axes>"
      ]
     },
     "metadata": {
      "needs_background": "light"
     },
     "output_type": "display_data"
    }
   ],
   "source": [
    "plt.plot(a_th, r_0, label='accuracy of nominal')\n",
    "plt.plot(a_th, r_1, label='accuracy of anomaly')\n",
    "plt.grid()\n",
    "plt.xlabel('anomaly threshold')\n",
    "plt.ylabel('rate')\n",
    "plt.legend()"
   ]
  },
  {
   "cell_type": "code",
   "execution_count": 10,
   "metadata": {},
   "outputs": [
    {
     "data": {
      "text/plain": [
       "Text(0,0.5,'accuracy of anomaly')"
      ]
     },
     "execution_count": 10,
     "metadata": {},
     "output_type": "execute_result"
    },
    {
     "data": {
      "image/png": "[encoded data removed]",
      "text/plain": [
       "<Figure size 432x288 with 1 Axes>"
      ]
     },
     "metadata": {
      "needs_background": "light"
     },
     "output_type": "display_data"
    }
   ],
   "source": [
    "plt.plot(1 - np.array(r_0), np.array(r_1))\n",
    "plt.grid()\n",
    "plt.xlabel('1 - (accuracy of nominal)')\n",
    "plt.ylabel('accuracy of anomaly')"
   ]
  },
  {
   "cell_type": "markdown",
   "metadata": {},
   "source": [
    "### (2)マハラノビス距離"
   ]
  },
  {
   "cell_type": "code",
   "execution_count": 11,
   "metadata": {},
   "outputs": [],
   "source": [
    "alpha = pow((df_anomaly['fixed.acidity'] - df_nominal['fixed.acidity'].mean()) / \n",
    "            df_nominal['fixed.acidity'].std(), 2)"
   ]
  },
  {
   "cell_type": "code",
   "execution_count": 12,
   "metadata": {},
   "outputs": [
    {
     "data": {
      "image/png": "[encoded data removed]",
      "text/plain": [
       "<Figure size 432x288 with 1 Axes>"
      ]
     },
     "metadata": {
      "needs_background": "light"
     },
     "output_type": "display_data"
    }
   ],
   "source": [
    "plt.hist(alpha,normed=True)\n",
    "k, mu, sigma = stats.chi2.fit(data=alpha)\n",
    "x = np.linspace(0, 20, 100)\n",
    "plt.plot(x, stats.chi2.pdf(x, df=k, loc=mu, scale=sigma))\n",
    "plt.xlabel('anormal index')\n",
    "plt.ylabel('pdf')\n",
    "plt.grid()"
   ]
  },
  {
   "cell_type": "code",
   "execution_count": 13,
   "metadata": {},
   "outputs": [
    {
     "name": "stdout",
     "output_type": "stream",
     "text": [
      "0.022069218211682312\n",
      "0.022078537982886576\n"
     ]
    }
   ],
   "source": [
    "C = np.cov(df_nominal.values.transpose(), bias=True)\n",
    "invC = np.linalg.inv(C)\n",
    "print(C[0][0])\n",
    "print(df_nominal['diff.score'].var())"
   ]
  },
  {
   "cell_type": "code",
   "execution_count": 14,
   "metadata": {},
   "outputs": [
    {
     "data": {
      "image/png": "[encoded data removed]",
      "text/plain": [
       "<Figure size 432x288 with 1 Axes>"
      ]
     },
     "metadata": {
      "needs_background": "light"
     },
     "output_type": "display_data"
    }
   ],
   "source": [
    "plt.bar(range(C.shape[0]),C.diagonal())\n",
    "plt.xlabel('feature number')\n",
    "plt.ylabel('variance')\n",
    "plt.grid()"
   ]
  },
  {
   "cell_type": "code",
   "execution_count": 15,
   "metadata": {},
   "outputs": [
    {
     "data": {
      "text/plain": [
       "array([[11.90901886]])"
      ]
     },
     "execution_count": 15,
     "metadata": {},
     "output_type": "execute_result"
    }
   ],
   "source": [
    "X = np.array([(df_anomaly.iloc[0] - df_nominal.mean()).values])\n",
    "alpha = (X.dot(invC)).dot(X.T)\n",
    "alpha"
   ]
  },
  {
   "cell_type": "code",
   "execution_count": 16,
   "metadata": {},
   "outputs": [],
   "source": [
    "A = np.array((df_anomaly - df_nominal.mean()).values)"
   ]
  },
  {
   "cell_type": "code",
   "execution_count": 17,
   "metadata": {},
   "outputs": [
    {
     "data": {
      "text/plain": [
       "(1334, 12)"
      ]
     },
     "execution_count": 17,
     "metadata": {},
     "output_type": "execute_result"
    }
   ],
   "source": [
    "A.shape"
   ]
  },
  {
   "cell_type": "code",
   "execution_count": 18,
   "metadata": {},
   "outputs": [
    {
     "data": {
      "text/plain": [
       "(1334, 12)"
      ]
     },
     "execution_count": 18,
     "metadata": {},
     "output_type": "execute_result"
    }
   ],
   "source": [
    "(A.dot(invC)).shape"
   ]
  },
  {
   "cell_type": "code",
   "execution_count": 19,
   "metadata": {},
   "outputs": [
    {
     "data": {
      "text/plain": [
       "(12, 12)"
      ]
     },
     "execution_count": 19,
     "metadata": {},
     "output_type": "execute_result"
    }
   ],
   "source": [
    "invC.shape"
   ]
  },
  {
   "cell_type": "code",
   "execution_count": 20,
   "metadata": {},
   "outputs": [
    {
     "data": {
      "text/plain": [
       "(12, 1334)"
      ]
     },
     "execution_count": 20,
     "metadata": {},
     "output_type": "execute_result"
    }
   ],
   "source": [
    "A.T.shape"
   ]
  },
  {
   "cell_type": "code",
   "execution_count": 21,
   "metadata": {},
   "outputs": [],
   "source": [
    "alpha_all_arr = (A.dot(invC)).dot(A.T)"
   ]
  },
  {
   "cell_type": "code",
   "execution_count": 22,
   "metadata": {},
   "outputs": [
    {
     "data": {
      "text/plain": [
       "11.909018860265935"
      ]
     },
     "execution_count": 22,
     "metadata": {},
     "output_type": "execute_result"
    }
   ],
   "source": [
    "alpha_all_arr[0][0]"
   ]
  },
  {
   "cell_type": "code",
   "execution_count": 23,
   "metadata": {},
   "outputs": [
    {
     "data": {
      "text/plain": [
       "Text(0,0.5,'pdf')"
      ]
     },
     "execution_count": 23,
     "metadata": {},
     "output_type": "execute_result"
    },
    {
     "data": {
      "image/png": "[encoded data removed]",
      "text/plain": [
       "<Figure size 432x288 with 1 Axes>"
      ]
     },
     "metadata": {
      "needs_background": "light"
     },
     "output_type": "display_data"
    }
   ],
   "source": [
    "alpha_all = alpha_all_arr.diagonal()\n",
    "plt.hist(alpha_all,normed=True)\n",
    "x = np.linspace(0,300,300)\n",
    "plt.plot(x, stats.chi2.pdf(x, df=29, scale=1))\n",
    "plt.grid()\n",
    "plt.xlabel('anomaly index')\n",
    "plt.ylabel('pdf')"
   ]
  },
  {
   "cell_type": "code",
   "execution_count": 24,
   "metadata": {},
   "outputs": [
    {
     "data": {
      "text/plain": [
       "array([[-0.05635188,  0.82065892,  1.18918382,  0.14645991, -0.5074687 ,\n",
       "         0.74465084, -0.57292409,  0.23342372,  1.18801037,  0.0749531 ,\n",
       "         0.56149828, -1.21139574]])"
      ]
     },
     "execution_count": 24,
     "metadata": {},
     "output_type": "execute_result"
    }
   ],
   "source": [
    "X"
   ]
  },
  {
   "cell_type": "code",
   "execution_count": 25,
   "metadata": {},
   "outputs": [
    {
     "data": {
      "text/plain": [
       "array([-0.05635188,  0.82065892,  1.18918382,  0.14645991, -0.5074687 ,\n",
       "        0.74465084, -0.57292409,  0.23342372,  1.18801037,  0.0749531 ,\n",
       "        0.56149828, -1.21139574])"
      ]
     },
     "execution_count": 25,
     "metadata": {},
     "output_type": "execute_result"
    }
   ],
   "source": [
    "A[0]"
   ]
  },
  {
   "cell_type": "code",
   "execution_count": 26,
   "metadata": {},
   "outputs": [
    {
     "data": {
      "text/plain": [
       "(array([224.99320273, 136.73312543, 595.11029058, 272.82386973,\n",
       "        325.05607114, 243.52258688, 364.18224515, 105.97637297,\n",
       "        254.19044193, 193.42900768, 173.39908326]), 595.1102905821283)"
      ]
     },
     "execution_count": 26,
     "metadata": {},
     "output_type": "execute_result"
    }
   ],
   "source": [
    "indx_max = alpha_all > 100\n",
    "alpha_all[indx_max], alpha_all.max()"
   ]
  },
  {
   "cell_type": "code",
   "execution_count": 27,
   "metadata": {},
   "outputs": [
    {
     "data": {
      "text/plain": [
       "<matplotlib.legend.Legend at 0x1249d3390>"
      ]
     },
     "execution_count": 27,
     "metadata": {},
     "output_type": "execute_result"
    },
    {
     "data": {
      "image/png": "[encoded data removed]",
      "text/plain": [
       "<Figure size 432x288 with 1 Axes>"
      ]
     },
     "metadata": {
      "needs_background": "light"
     },
     "output_type": "display_data"
    }
   ],
   "source": [
    "i='fixed.acidity'\n",
    "j='volatile.acidity'\n",
    "plt.scatter(df_nominal[i],df_nominal[j], label='nominal')\n",
    "plt.scatter(df_anomaly[i],df_anomaly[j], label='anomaly')\n",
    "plt.scatter(df_anomaly[i][indx_max],df_anomaly[j][indx_max], label='anormaly(over threshold)')\n",
    "plt.grid()\n",
    "plt.xlabel(i)\n",
    "plt.ylabel(j)\n",
    "plt.legend()"
   ]
  },
  {
   "cell_type": "code",
   "execution_count": 28,
   "metadata": {},
   "outputs": [],
   "source": [
    "# sns.pairplot(df)"
   ]
  },
  {
   "cell_type": "code",
   "execution_count": 29,
   "metadata": {},
   "outputs": [],
   "source": [
    "def mahalanobis_distance(df_norminal, df_anomaly):\n",
    "    C = np.cov(df_nominal.values.transpose(), bias=True)\n",
    "    invC = np.linalg.inv(C)\n",
    "    A = np.array((df_nominal - df_nominal.mean()).values)\n",
    "    alpha_nominal = (A.dot(invC)).dot(A.T).diagonal()\n",
    "    A = np.array((df_anomaly - df_nominal.mean()).values)\n",
    "    alpha_anomaly = (A.dot(invC)).dot(A.T).diagonal()\n",
    "    \n",
    "    return alpha_nominal, alpha_anomaly"
   ]
  },
  {
   "cell_type": "code",
   "execution_count": 30,
   "metadata": {},
   "outputs": [],
   "source": [
    "alpha_nominal, alpha_anomaly = mahalanobis_distance(df_nominal, df_anomaly)"
   ]
  },
  {
   "cell_type": "code",
   "execution_count": 31,
   "metadata": {},
   "outputs": [],
   "source": [
    "a_th = []\n",
    "r_0 = []\n",
    "r_1 = []\n",
    "\n",
    "for a_th_i in range(0,100):\n",
    "    a_th.append(a_th_i)\n",
    "    r_0.append(sum(alpha_nominal < a_th_i) / float(alpha_nominal.shape[0]))\n",
    "    r_1.append(sum(alpha_anomaly > a_th_i) / float(alpha_anomaly.shape[0]))"
   ]
  },
  {
   "cell_type": "code",
   "execution_count": 32,
   "metadata": {},
   "outputs": [
    {
     "data": {
      "text/plain": [
       "<matplotlib.legend.Legend at 0x125c47610>"
      ]
     },
     "execution_count": 32,
     "metadata": {},
     "output_type": "execute_result"
    },
    {
     "data": {
      "image/png": "[encoded data removed]",
      "text/plain": [
       "<Figure size 432x288 with 1 Axes>"
      ]
     },
     "metadata": {
      "needs_background": "light"
     },
     "output_type": "display_data"
    }
   ],
   "source": [
    "plt.plot(a_th, r_0, label='accuracy of nominal')\n",
    "plt.plot(a_th, r_1, label='accuracy of anomaly')\n",
    "plt.grid()\n",
    "plt.xlabel('anomaly threshold')\n",
    "plt.ylabel('rate')\n",
    "plt.legend()"
   ]
  },
  {
   "cell_type": "code",
   "execution_count": 33,
   "metadata": {},
   "outputs": [
    {
     "data": {
      "text/plain": [
       "Text(0,0.5,'accuracy of anomaly')"
      ]
     },
     "execution_count": 33,
     "metadata": {},
     "output_type": "execute_result"
    },
    {
     "data": {
      "image/png": "[encoded data removed]",
      "text/plain": [
       "<Figure size 432x288 with 1 Axes>"
      ]
     },
     "metadata": {
      "needs_background": "light"
     },
     "output_type": "display_data"
    }
   ],
   "source": [
    "plt.plot(1 - np.array(r_0), np.array(r_1))\n",
    "plt.grid()\n",
    "plt.xlabel('1 - (accuracy of nominal)')\n",
    "plt.ylabel('accuracy of anomaly')"
   ]
  },
  {
   "cell_type": "code",
   "execution_count": 34,
   "metadata": {},
   "outputs": [
    {
     "data": {
      "text/plain": [
       "0.636431784107946"
      ]
     },
     "execution_count": 34,
     "metadata": {},
     "output_type": "execute_result"
    }
   ],
   "source": [
    "sum(alpha_anomaly > 12) / float(alpha_anomaly.shape[0])"
   ]
  },
  {
   "cell_type": "code",
   "execution_count": 35,
   "metadata": {},
   "outputs": [
    {
     "data": {
      "text/plain": [
       "0.6614605318699873"
      ]
     },
     "execution_count": 35,
     "metadata": {},
     "output_type": "execute_result"
    }
   ],
   "source": [
    "sum(alpha_nominal < 12) / float(alpha_nominal.shape[0])"
   ]
  },
  {
   "cell_type": "code",
   "execution_count": 36,
   "metadata": {},
   "outputs": [
    {
     "data": {
      "image/png": "[encoded data removed]",
      "text/plain": [
       "<Figure size 432x288 with 1 Axes>"
      ]
     },
     "metadata": {
      "needs_background": "light"
     },
     "output_type": "display_data"
    }
   ],
   "source": [
    "bins = np.linspace(0,250,250)\n",
    "plt.hist(alpha_nominal, alpha=0.5, bins=bins, label='nominal')\n",
    "plt.hist(alpha_anomaly, alpha=0.5, bins=bins, label='anomaly')\n",
    "plt.axvline(x=12, color='r')\n",
    "plt.xlim([0,50])\n",
    "plt.xlabel('anormaly index')\n",
    "plt.ylabel('frequency')\n",
    "plt.legend()\n",
    "plt.grid()"
   ]
  },
  {
   "cell_type": "code",
   "execution_count": 37,
   "metadata": {},
   "outputs": [
    {
     "data": {
      "image/png": "[encoded data removed]",
      "text/plain": [
       "<Figure size 432x288 with 1 Axes>"
      ]
     },
     "metadata": {
      "needs_background": "light"
     },
     "output_type": "display_data"
    }
   ],
   "source": [
    "a_th = 12\n",
    "indx_max = alpha_anomaly > a_th\n",
    "i='fixed.acidity'\n",
    "j='volatile.acidity'\n",
    "plt.scatter(df_nominal[i],df_nominal[j], label='nominal')\n",
    "plt.scatter(df_anomaly[i],df_anomaly[j], label='anomaly')\n",
    "plt.scatter(df_anomaly[i][indx_max],df_anomaly[j][indx_max], label='anomaly(over threshold)')\n",
    "plt.xlabel(i)\n",
    "plt.ylabel(j)\n",
    "plt.legend()\n",
    "plt.grid()"
   ]
  },
  {
   "cell_type": "markdown",
   "metadata": {},
   "source": [
    "### One-Class SVM"
   ]
  },
  {
   "cell_type": "code",
   "execution_count": 38,
   "metadata": {},
   "outputs": [],
   "source": [
    "from sklearn import svm"
   ]
  },
  {
   "cell_type": "code",
   "execution_count": 39,
   "metadata": {},
   "outputs": [
    {
     "data": {
      "text/plain": [
       "OneClassSVM(cache_size=200, coef0=0.0, degree=3, gamma='auto', kernel='rbf',\n",
       "      max_iter=-1, nu=0.01, random_state=None, shrinking=True, tol=0.001,\n",
       "      verbose=False)"
      ]
     },
     "execution_count": 39,
     "metadata": {},
     "output_type": "execute_result"
    }
   ],
   "source": [
    "clf = svm.OneClassSVM(nu=0.01, kernel='rbf', gamma='auto')\n",
    "clf.fit(df_nominal[[i,j]])"
   ]
  },
  {
   "cell_type": "code",
   "execution_count": 40,
   "metadata": {},
   "outputs": [
    {
     "data": {
      "text/plain": [
       "<matplotlib.collections.PathCollection at 0x12a2efd50>"
      ]
     },
     "execution_count": 40,
     "metadata": {},
     "output_type": "execute_result"
    },
    {
     "data": {
      "image/png": "[encoded data removed]",
      "text/plain": [
       "<Figure size 432x288 with 1 Axes>"
      ]
     },
     "metadata": {
      "needs_background": "light"
     },
     "output_type": "display_data"
    }
   ],
   "source": [
    "xx, yy = np.meshgrid(np.linspace(-10, 10, 50), np.linspace(-10, 10, 50))\n",
    "Z = clf.decision_function(np.c_[xx.ravel(), yy.ravel()])\n",
    "Z = Z.reshape(xx.shape)\n",
    "\n",
    "plt.title(\"One Class SVM\")\n",
    "plt.contourf(xx, yy, Z, cmap=plt.cm.Blues_r)\n",
    "plt.scatter(df_nominal[i],df_nominal[j])\n",
    "plt.scatter(clf.support_vectors_[:,0],clf.support_vectors_[:,1], color='r')\n",
    "plt.scatter(df_anomaly[i],df_anomaly[j])"
   ]
  },
  {
   "cell_type": "code",
   "execution_count": 41,
   "metadata": {},
   "outputs": [
    {
     "data": {
      "text/plain": [
       "0.09919797382861967"
      ]
     },
     "execution_count": 41,
     "metadata": {},
     "output_type": "execute_result"
    }
   ],
   "source": [
    "clf = svm.OneClassSVM(nu=0.1, kernel='rbf', gamma='auto')\n",
    "clf.fit(df_nominal)\n",
    "(clf.predict(df_nominal)==-1).sum() / float(df_nominal.shape[0])"
   ]
  },
  {
   "cell_type": "code",
   "execution_count": null,
   "metadata": {},
   "outputs": [],
   "source": []
  }
 ],
 "metadata": {
  "kernelspec": {
   "display_name": "Python 3",
   "language": "python",
   "name": "python3"
  },
  "language_info": {
   "codemirror_mode": {
    "name": "ipython",
    "version": 2
   },
   "file_extension": ".py",
   "mimetype": "text/x-python",
   "name": "python",
   "nbconvert_exporter": "python",
   "pygments_lexer": "ipython2",
   "version": "2.7.15"
  }
 },
 "nbformat": 4,
 "nbformat_minor": 2
}
