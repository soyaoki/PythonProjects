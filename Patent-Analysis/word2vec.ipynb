{
 "cells": [
  {
   "cell_type": "markdown",
   "id": "699c2544-730f-4973-9876-e7a1c2c5fd17",
   "metadata": {},
   "source": [
    "# (1)既存モデルの活用：　サイズが大きすぎて使えるか微妙…"
   ]
  },
  {
   "cell_type": "code",
   "execution_count": 1,
   "id": "82fda00b-ebe4-471d-87a6-33fbc109df85",
   "metadata": {},
   "outputs": [
    {
     "name": "stdout",
     "output_type": "stream",
     "text": [
      "CPU times: total: 4min 7s\n",
      "Wall time: 5min 17s\n"
     ]
    }
   ],
   "source": [
    "%%time\n",
    "# モデルを読み込む\n",
    "from gensim import models\n",
    "w2v_model =  models.KeyedVectors.load_word2vec_format('./jawiki.all_vectors.300d/jawiki.all_vectors.300d.txt', binary=False) "
   ]
  },
  {
   "cell_type": "code",
   "execution_count": 2,
   "id": "267ec1a0-8640-493e-9579-b5fc0e708c1e",
   "metadata": {},
   "outputs": [
    {
     "name": "stdout",
     "output_type": "stream",
     "text": [
      "(300,)\n",
      "[-2.53674537e-01 -3.47613603e-01  1.04153365e-01  9.82569456e-02\n",
      "  7.74574801e-02 -3.92775357e-01 -1.66603044e-01  5.75686581e-02\n",
      "  1.62579659e-02  1.75211862e-01  1.11466303e-01  2.11824670e-01\n",
      " -2.64217764e-01 -2.41718050e-02 -1.68783799e-01  4.48973058e-03\n",
      "  2.21773610e-01 -2.52630413e-01  4.38154638e-01  1.61807790e-01\n",
      " -6.51227891e-01  1.42321378e-01  3.08216125e-01  4.10346612e-02\n",
      " -1.79015383e-01 -4.13462594e-02  5.99369034e-02  2.27394830e-02\n",
      " -1.55023292e-01  1.78248391e-01  1.17291220e-01  1.13009699e-01\n",
      "  9.70054045e-02 -6.64327592e-02 -3.93559299e-02 -1.08835317e-01\n",
      "  3.45548987e-01 -6.82605132e-02 -3.04111801e-02  5.03157005e-02\n",
      " -8.61255303e-02 -8.27545896e-02 -1.46579891e-01  2.07474157e-02\n",
      "  6.03756518e-04  2.53263503e-01  9.33498982e-03  1.12532616e-01\n",
      " -3.24918360e-01 -1.31063834e-01  1.43412456e-01 -2.23361939e-01\n",
      "  1.47876948e-01 -4.64335650e-01 -4.11761552e-01 -1.44403234e-01\n",
      " -3.49101454e-01 -2.55151764e-02 -4.28442061e-02  1.86761022e-01\n",
      " -1.56649500e-01 -1.93941325e-01 -1.48721755e-01  3.61453265e-01\n",
      " -1.92386836e-01 -2.43330188e-02 -1.47043839e-01  1.36879028e-03\n",
      " -1.23530217e-01  5.80661595e-02 -3.83007944e-01 -2.99899373e-03\n",
      " -2.71257639e-01 -4.46289368e-02 -1.60489008e-01 -1.24300517e-01\n",
      "  1.71106502e-01 -1.90545022e-02  2.08414569e-01  3.70474230e-03\n",
      " -1.42668903e-01  8.12651962e-02  2.23602001e-02  2.01799884e-01\n",
      " -1.48588195e-01  1.36899054e-01 -1.30580217e-01  9.85266641e-02\n",
      "  3.29120308e-01  9.51526836e-02  5.18469095e-01  5.45894280e-02\n",
      " -2.67683696e-02  1.58589974e-01 -7.85867274e-02 -1.10965699e-01\n",
      " -1.43901974e-01 -2.28413269e-02  1.23267584e-02  8.45326930e-02\n",
      "  2.84939051e-01  2.17807129e-01  2.68100411e-01  3.30229551e-01\n",
      "  1.79392800e-01  4.24886525e-01 -2.07685586e-02 -9.82842445e-02\n",
      "  1.89554971e-02 -1.21039778e-01  9.76121277e-02 -4.67151403e-01\n",
      " -1.61182240e-01  5.18041924e-02 -2.60533214e-01  2.60036379e-01\n",
      " -8.80468637e-02 -5.81103899e-02 -3.16300988e-02  8.06426257e-02\n",
      "  1.39871866e-01  7.78522417e-02 -2.02033833e-01 -1.72163501e-01\n",
      " -9.46489349e-02  1.14911377e-01  2.09266543e-01 -4.53588702e-02\n",
      " -2.31120586e-01 -3.64099354e-01  3.56662460e-02 -2.18726844e-01\n",
      " -1.33083880e-01  4.37966697e-02  1.96133703e-02  7.28696808e-02\n",
      "  7.59355724e-02 -1.76475182e-01  8.70980248e-02  1.00760810e-01\n",
      "  3.42821836e-01 -5.03705479e-02 -1.56203108e-02 -8.96744654e-02\n",
      "  1.30855352e-01  8.66227522e-02  1.88486457e-01  1.02891557e-01\n",
      " -2.19899029e-01 -7.99813271e-02  1.61289185e-01  4.20179851e-02\n",
      " -6.75679669e-02  3.87417269e-03  4.04634215e-02  2.07015529e-01\n",
      "  1.33051559e-01 -4.71463531e-01 -1.39030457e-01 -2.55844388e-02\n",
      " -1.65190380e-02  6.40218183e-02 -5.85790694e-01 -3.46291423e-01\n",
      "  1.38191581e-01 -1.01906434e-02  6.59798980e-02 -1.87765807e-02\n",
      " -8.22634026e-02  9.33587849e-02 -1.72766104e-01  7.06655439e-03\n",
      "  4.45928499e-02  3.57068449e-01  5.01057059e-02 -6.27414808e-02\n",
      "  2.72376537e-01  2.49224573e-01  1.48093864e-01  3.03832293e-02\n",
      " -4.35142219e-02 -3.12912971e-01 -5.50229214e-02 -3.36175770e-01\n",
      "  1.13660641e-01  9.45209637e-02  9.75466743e-02 -8.76825824e-02\n",
      " -9.20585617e-02 -4.07898948e-02  7.73656741e-02  5.23183420e-02\n",
      "  6.20887242e-02  1.78753510e-01 -5.90333194e-02 -2.20236760e-02\n",
      "  1.79775760e-01 -6.18371591e-02 -3.93988658e-03  1.00814840e-02\n",
      " -1.28038049e-01  9.23235842e-04 -5.61378635e-02  1.80230085e-02\n",
      "  2.60343432e-01 -1.79181725e-01  9.65074003e-02 -1.02446273e-01\n",
      "  6.06347136e-02 -7.85133839e-02  1.70098633e-01  1.15519248e-01\n",
      " -1.95775941e-01  3.91733885e-01  3.32684116e-03  8.87054577e-02\n",
      " -2.16489099e-03  3.75063978e-02  2.76550949e-01  4.25647199e-01\n",
      "  3.14131826e-01 -3.76832664e-01  1.30576193e-01  2.74098888e-02\n",
      " -1.08059928e-01 -6.21948317e-02 -1.21468641e-01  1.02346994e-01\n",
      " -1.65022075e-01 -8.44925642e-02  7.42643625e-02  1.26409203e-01\n",
      " -2.89892912e-01  1.32990092e-01  5.58382273e-02 -3.46370712e-02\n",
      "  6.75827563e-02 -2.66153932e-01  3.24238092e-01 -3.05357665e-01\n",
      "  7.92011842e-02 -1.60159931e-01  4.75632578e-01  9.34755504e-02\n",
      "  9.26540326e-03 -2.06477165e-01  1.59339935e-01 -1.68933555e-01\n",
      " -5.41314557e-02 -1.86368421e-01 -2.10174243e-03 -2.87875652e-01\n",
      "  1.30822763e-01 -9.50214267e-02  1.69800296e-01  1.76590949e-01\n",
      "  2.31974989e-01  1.18380245e-02 -1.10833466e-01  3.22427541e-01\n",
      " -1.56104967e-01  5.57125397e-02  6.62720874e-02 -6.88498467e-02\n",
      " -1.39152333e-01  6.10279664e-02  1.77675784e-01  2.92103589e-02\n",
      " -6.78328797e-02 -8.87847245e-02 -2.06586152e-01  4.25790131e-01\n",
      " -1.52155325e-01 -6.32361174e-02  5.89540720e-01  3.08322534e-02\n",
      " -1.57737453e-02 -5.63593470e-02 -1.45556733e-01 -2.46392488e-01\n",
      "  1.16458975e-01  7.37697631e-02  1.94711685e-01  7.68249705e-02\n",
      " -2.51066148e-01 -5.66435121e-02 -1.36953190e-01 -1.63120925e-01\n",
      " -3.21471959e-01 -2.21520588e-02 -7.07165524e-02 -1.72876477e-01\n",
      " -5.78797907e-02  1.92225710e-01  3.44139129e-01  1.31660208e-01\n",
      " -3.42859775e-01 -1.13380536e-01  1.79857180e-01 -3.50015089e-02]\n"
     ]
    },
    {
     "name": "stderr",
     "output_type": "stream",
     "text": [
      "C:\\Users\\soya0\\AppData\\Local\\Temp\\ipykernel_21108\\2297945815.py:4: DeprecationWarning: Call to deprecated `wv` (Attribute will be removed in 4.0.0, use self instead).\n",
      "  word_vec = w2v_model.wv.__getitem__(word)\n"
     ]
    }
   ],
   "source": [
    "word = \"男\"\n",
    "\n",
    "# Word2Vecで作成した単語ベクトルのshape\n",
    "word_vec = w2v_model.wv.__getitem__(word)\n",
    "print(word_vec.shape)\n",
    "\n",
    "# Word2Vecで作成した単語ベクトル\n",
    "print(word_vec)"
   ]
  },
  {
   "cell_type": "code",
   "execution_count": 3,
   "id": "44863d66-cb93-4a88-824f-25f76645f7f2",
   "metadata": {},
   "outputs": [
    {
     "name": "stdout",
     "output_type": "stream",
     "text": [
      "('勉学', 0.7699508666992188)\n",
      "('受験勉強', 0.751789927482605)\n",
      "('学業', 0.7433130741119385)\n",
      "('通い', 0.7299585342407227)\n",
      "('猛勉強', 0.7182503938674927)\n",
      "('独学', 0.6989189386367798)\n",
      "('##勉強##', 0.6810227036476135)\n",
      "('努力家', 0.663573145866394)\n",
      "('稽古事', 0.6633989810943604)\n",
      "('学び', 0.6606760025024414)\n"
     ]
    }
   ],
   "source": [
    "results = w2v_model.most_similar(positive=['勉強'])\n",
    "for result in results:\n",
    "    print(result)"
   ]
  },
  {
   "cell_type": "code",
   "execution_count": 4,
   "id": "2f0f6807-533a-4c7a-b98b-107a1dd8c18c",
   "metadata": {},
   "outputs": [
    {
     "name": "stdout",
     "output_type": "stream",
     "text": [
      "('パワエレ', 0.8064233064651489)\n",
      "('##タイムシェアリング##', 0.7993967533111572)\n",
      "('ピアツーピア', 0.7961165904998779)\n",
      "('##スキャンツール##', 0.7896835803985596)\n",
      "('デバイス', 0.7855225801467896)\n",
      "('##CC-Link##', 0.7851283550262451)\n",
      "('デプロイメント', 0.776984453201294)\n",
      "('##データセンタ##', 0.7759006023406982)\n",
      "('##デスクトップ仮想化##', 0.7713785767555237)\n",
      "('インフォテインメント', 0.7688727378845215)\n"
     ]
    }
   ],
   "source": [
    "results = w2v_model.most_similar(positive=['HMI','自動車','ドライバ','システム'])\n",
    "for result in results:\n",
    "    print(result)"
   ]
  },
  {
   "cell_type": "code",
   "execution_count": 5,
   "id": "caa909c1-17d0-4012-aeb0-c5cdb2145b26",
   "metadata": {},
   "outputs": [
    {
     "name": "stdout",
     "output_type": "stream",
     "text": [
      "('追加キャラクターの為ストーリーモードには登場しない。その為第5回大会への参加理由やどのような形で大会、他のキャラクターと関わっているか、天狗との関連性などは不明。', 0.0972805991768837)\n",
      "('追加コスには私服の牛柄（モーモちゃん）のTシャツとデニムショートスカート（腰にモーモちゃんのぬいぐるみ装備）、手袋と同じ柄の髑髏柄のTシャツと迷彩柄のデニムショートスカート、デフォルトからブレザーを外したYシャツ+スカート、体操服などがある。', 0.07740216702222824)\n",
      "('1418', 0.0753343477845192)\n",
      "('3177', 0.06481554359197617)\n",
      "('N-11', 0.06440721452236176)\n",
      "('2905', 0.06398351490497589)\n",
      "('Decoy', 0.05987590551376343)\n",
      "('7633', 0.05864220857620239)\n",
      "('OTR', 0.05609697848558426)\n",
      "('2914', 0.05606913939118385)\n"
     ]
    }
   ],
   "source": [
    "results = w2v_model.most_similar(negative=['勉強'])\n",
    "for result in results:\n",
    "    print(result)"
   ]
  },
  {
   "cell_type": "code",
   "execution_count": 6,
   "id": "56d4ea1f-da93-44f4-a1d7-cb3ecd5e2661",
   "metadata": {},
   "outputs": [
    {
     "name": "stdout",
     "output_type": "stream",
     "text": [
      "('##釧路市観光国際交流センター##', 0.6328768730163574)\n",
      "('ELLCUBE', 0.6251285076141357)\n",
      "('食材王国', 0.6235023736953735)\n",
      "('村野武範', 0.6188583970069885)\n",
      "('##道の駅ウトナイ湖##', 0.617465078830719)\n",
      "('FMわっぴ', 0.6172339916229248)\n",
      "('##サッポロビール園##', 0.6171847581863403)\n",
      "('##テンフードサービス##', 0.6150997877120972)\n",
      "('##北海道##', 0.6142989993095398)\n",
      "('ステラプレイス', 0.6118055582046509)\n"
     ]
    }
   ],
   "source": [
    "# 複数の単語で類似度の高いものを上から１０個表示する\n",
    "\n",
    "results = w2v_model.most_similar(['北海道', 'ランチ'])\n",
    "for result in results:\n",
    "    print(result)"
   ]
  },
  {
   "cell_type": "code",
   "execution_count": 7,
   "id": "e49a08db-0ba5-4b9b-a7f9-3d67e5d0114b",
   "metadata": {},
   "outputs": [
    {
     "name": "stdout",
     "output_type": "stream",
     "text": [
      "('##エンジニア##', 0.3705061674118042)\n",
      "('技師', 0.36727434396743774)\n",
      "('チーフ', 0.3546910881996155)\n",
      "('マネージングディレクター', 0.3516458570957184)\n",
      "('##ドナルド・ヒーリー##', 0.3446257710456848)\n",
      "('##ジェレミー・バージェス##', 0.34358838200569153)\n",
      "('##ルカ・コルデーロ・ディ・モンテゼーモロ##', 0.3435060381889343)\n",
      "('##整備士##', 0.34064048528671265)\n",
      "('##フェルディナント・アントン・エルンスト・ポルシェ##', 0.33345717191696167)\n",
      "('録音技師', 0.3279499411582947)\n"
     ]
    }
   ],
   "source": [
    "# 単語の意味を足し引きして、類似度の高いものを上から１０個表示する\n",
    "results = w2v_model.most_similar(positive=['エンジニア'], negative=['プログラミング'])\n",
    "for result in results:\n",
    "    print(result)"
   ]
  },
  {
   "cell_type": "code",
   "execution_count": 8,
   "id": "c0f0db4b-0beb-4451-a066-bc5e2b426bbb",
   "metadata": {},
   "outputs": [
    {
     "name": "stdout",
     "output_type": "stream",
     "text": [
      "0.8974317\n"
     ]
    }
   ],
   "source": [
    "# ２つの単語の類似度を算出する\n",
    "results = w2v_model.similarity('小学校', '中学校')\n",
    "print(results)"
   ]
  },
  {
   "cell_type": "code",
   "execution_count": 9,
   "id": "57efb4d1-3349-4f03-8655-1faca827a473",
   "metadata": {},
   "outputs": [
    {
     "name": "stdout",
     "output_type": "stream",
     "text": [
      "['私', 'は', 'ラーメン', 'が', '大好き', 'です', '。']\n"
     ]
    }
   ],
   "source": [
    "text = \"私はラーメンが大好きです。\"\n",
    "\n",
    "import ipadic\n",
    "from fugashi import GenericTagger\n",
    "fugger = GenericTagger(ipadic.MECAB_ARGS)\n",
    "\n",
    "# 形態素解析\n",
    "sentence = [w.surface for w in fugger(text)]\n",
    "print(sentence)"
   ]
  },
  {
   "cell_type": "code",
   "execution_count": 10,
   "id": "fbb41bbd-f1d3-40e0-82b7-7917474f6009",
   "metadata": {},
   "outputs": [
    {
     "name": "stdout",
     "output_type": "stream",
     "text": [
      "(300,)\n",
      "[ 0.04488152 -0.14847997  0.07265921 -0.09581352  0.17944708 -0.27998763\n",
      " -0.01226062 -0.09554546 -0.13627596  0.05596596 -0.01989391  0.14119096\n",
      " -0.28645426 -0.05572879  0.07646663 -0.05275727  0.00926723  0.09144773\n",
      " -0.03184875  0.2107977  -0.14744367  0.04446434  0.08338143  0.22493565\n",
      "  0.04193896 -0.08481392 -0.21555546  0.02489593 -0.21702424 -0.1392916\n",
      "  0.086685    0.15441303  0.15165626  0.10579844 -0.0963197  -0.09234043\n",
      "  0.05526807 -0.02966317 -0.0617614  -0.0575209  -0.1404384   0.06063362\n",
      " -0.13157494 -0.0011224  -0.00516166  0.0921049  -0.11003488  0.13860841\n",
      "  0.04366241  0.00826561 -0.02255121 -0.04835222 -0.07829324 -0.03990385\n",
      " -0.12450385 -0.06477721 -0.00922739 -0.07857244  0.10891247 -0.14858261\n",
      " -0.21154717  0.03932757 -0.05993773  0.11549912 -0.09884834 -0.02977727\n",
      " -0.01657252  0.01654331  0.10429169  0.17220876  0.00071913  0.09558851\n",
      "  0.01397282 -0.08411266 -0.13471648 -0.235144    0.1142673   0.0604512\n",
      "  0.1133452  -0.2646276  -0.42902407  0.00550453 -0.0394239  -0.01408359\n",
      "  0.07593944  0.08695825 -0.12099723 -0.0292899   0.22898094 -0.13681705\n",
      "  0.36950275 -0.21722761 -0.22361387  0.11863696 -0.16839185 -0.01450137\n",
      " -0.04493627  0.10789066 -0.06677165  0.01188754  0.03926011  0.21370593\n",
      "  0.12858748  0.14257297  0.05730911 -0.0713257  -0.01092629 -0.09541555\n",
      "  0.11755228  0.00145227  0.02687503 -0.14036627 -0.0411387   0.12016728\n",
      "  0.05984841  0.02606598 -0.12127837 -0.0582292  -0.17322539 -0.03037958\n",
      "  0.00963451  0.00990267  0.02327405  0.29166627 -0.1757915   0.03501434\n",
      "  0.10524353 -0.11959799 -0.1648978  -0.2731294   0.13936937 -0.03568409\n",
      " -0.04998691 -0.06588988 -0.0928636   0.14112993  0.29516244 -0.08729371\n",
      "  0.22297059  0.24099854  0.11259364 -0.17284009 -0.13588396 -0.06059762\n",
      "  0.16288808  0.07337076  0.22687538  0.0127426  -0.19290212 -0.03593059\n",
      " -0.00427647 -0.02680187 -0.17509666 -0.09608717  0.12358357  0.23304889\n",
      " -0.19205427 -0.11376915  0.09380753  0.06716513  0.04902277  0.04328717\n",
      " -0.3377127  -0.1966369  -0.12832852  0.08623772  0.09851374 -0.01687649\n",
      " -0.19982965 -0.0562023  -0.01319295 -0.05114436 -0.09361959  0.09522104\n",
      " -0.09653765  0.00704708  0.11880472  0.03077145 -0.05324152  0.05962226\n",
      "  0.05663989 -0.00103248 -0.24736342 -0.09119145  0.15551277  0.21667661\n",
      "  0.18840551  0.05930556 -0.14269397 -0.3214709  -0.05709139  0.04057015\n",
      "  0.11210827 -0.08776087 -0.17945914 -0.21157184 -0.07073148  0.06928783\n",
      "  0.14391027  0.05165357  0.14079513  0.1226197  -0.08348451  0.13932188\n",
      "  0.10298968 -0.3065369   0.13476986 -0.22037144  0.05837119 -0.00896387\n",
      " -0.02088766 -0.01751092 -0.11160875  0.05874494  0.03628085  0.00359695\n",
      " -0.02938872 -0.00565193  0.16131055  0.24757244  0.039115   -0.20596269\n",
      " -0.00349184 -0.00566672  0.00540077  0.08637919 -0.18783453  0.18293634\n",
      " -0.00583167 -0.08527171 -0.06079697  0.02354059 -0.1674954   0.09875279\n",
      "  0.17718284  0.06171452  0.06311916  0.12596352  0.03749889 -0.26555476\n",
      " -0.04921617  0.24901673  0.23395622  0.00488662  0.13297625 -0.14715306\n",
      "  0.16211343  0.0431213  -0.10651381  0.01718033 -0.11311006 -0.07991833\n",
      "  0.06874653 -0.01146169 -0.04700036  0.02042803  0.08378454  0.15372677\n",
      " -0.16799219  0.11712413  0.16181858  0.3911658   0.25928578  0.0945005\n",
      " -0.05053505  0.13514598  0.14015314  0.02196683 -0.0232672  -0.05628749\n",
      "  0.0700522   0.005937   -0.07457618 -0.15866503  0.13731365  0.15124021\n",
      "  0.06017175  0.11853117 -0.00489314 -0.01318755  0.06268193  0.03916598\n",
      "  0.09617824  0.03981919 -0.04283933 -0.00330464  0.10101574  0.0861202\n",
      " -0.12753935  0.14629497 -0.07136128 -0.05823751  0.11326347 -0.08900304\n",
      "  0.07288695 -0.19797839 -0.06364567 -0.13380443 -0.0499315  -0.23539722]\n"
     ]
    },
    {
     "name": "stderr",
     "output_type": "stream",
     "text": [
      "C:\\Users\\soya0\\AppData\\Local\\Temp\\ipykernel_21108\\2798612610.py:7: DeprecationWarning: Call to deprecated `wv` (Attribute will be removed in 4.0.0, use self instead).\n",
      "  sentence_vec = w2v_model.wv.__getitem__(word)\n",
      "C:\\Users\\soya0\\AppData\\Local\\Temp\\ipykernel_21108\\2798612610.py:9: DeprecationWarning: Call to deprecated `wv` (Attribute will be removed in 4.0.0, use self instead).\n",
      "  sentence_vec = sentence_vec + w2v_model.wv.__getitem__(word)\n"
     ]
    }
   ],
   "source": [
    "import numpy as np\n",
    "\n",
    "# 単語ごとにベクトル化して平均値を算出\n",
    "if len(sentence) >= 0:\n",
    "    for word in sentence:\n",
    "        if word == sentence[0]:\n",
    "            sentence_vec = w2v_model.wv.__getitem__(word)\n",
    "        else:\n",
    "            sentence_vec = sentence_vec + w2v_model.wv.__getitem__(word)\n",
    "                \n",
    "    sentence_vec = sentence_vec / len(sentence) \n",
    "# 文ベクトルのshape\n",
    "print(sentence_vec.shape)\n",
    "\n",
    "# 文ベクトル\n",
    "print(sentence_vec)"
   ]
  },
  {
   "cell_type": "code",
   "execution_count": 11,
   "id": "f81bfc27-d850-403c-b684-f80fbfe8ed40",
   "metadata": {},
   "outputs": [
    {
     "name": "stdout",
     "output_type": "stream",
     "text": [
      "0.8906925\n"
     ]
    },
    {
     "name": "stderr",
     "output_type": "stream",
     "text": [
      "C:\\Users\\soya0\\AppData\\Local\\Temp\\ipykernel_21108\\2475524304.py:17: DeprecationWarning: Call to deprecated `wv` (Attribute will be removed in 4.0.0, use self instead).\n",
      "  sentence_vec = w2v_model.wv.__getitem__(word)\n",
      "C:\\Users\\soya0\\AppData\\Local\\Temp\\ipykernel_21108\\2475524304.py:19: DeprecationWarning: Call to deprecated `wv` (Attribute will be removed in 4.0.0, use self instead).\n",
      "  sentence_vec = sentence_vec + w2v_model.wv.__getitem__(word)\n"
     ]
    }
   ],
   "source": [
    "sentences = [\"私はラーメンが好きです\",\"チャーシューメンが好きです\"]\n",
    "\n",
    "import ipadic\n",
    "from fugashi import GenericTagger\n",
    "import numpy as np\n",
    "from numpy import dot\n",
    "from numpy.linalg import norm\n",
    "\n",
    "fugger = GenericTagger(ipadic.MECAB_ARGS)\n",
    "sentence_0 = [w.surface for w in fugger(sentences[0])]\n",
    "sentence_1 = [w.surface for w in fugger(sentences[1])]\n",
    "\n",
    "def create_sentence_vec(sentence):\n",
    "    if len(sentence) >= 0:\n",
    "        for word in sentence:\n",
    "            if word == sentence[0]:\n",
    "                sentence_vec = w2v_model.wv.__getitem__(word)\n",
    "            else:\n",
    "                sentence_vec = sentence_vec + w2v_model.wv.__getitem__(word)\n",
    "    sentence_vec = sentence_vec / len(sentence)\n",
    "    return sentence_vec\n",
    "\n",
    "sentence_vec_0 = create_sentence_vec(sentence_0)\n",
    "sentence_vec_1 = create_sentence_vec(sentence_1)\n",
    "similarity_with_word2vec = dot(sentence_vec_0, sentence_vec_1)/(norm(sentence_vec_0)*norm(sentence_vec_1))\n",
    "\n",
    "print(similarity_with_word2vec)"
   ]
  },
  {
   "cell_type": "markdown",
   "id": "d0df7341-32b2-4ee5-b530-71e2ffaec14c",
   "metadata": {},
   "source": [
    "# (2)自作モデルの作成：　精度が出るかわからない…"
   ]
  },
  {
   "cell_type": "code",
   "execution_count": 12,
   "id": "ebe96df3-2221-4073-8992-a2dc91e774b1",
   "metadata": {},
   "outputs": [
    {
     "ename": "ModuleNotFoundError",
     "evalue": "No module named 'MeCab'",
     "output_type": "error",
     "traceback": [
      "\u001b[1;31m---------------------------------------------------------------------------\u001b[0m",
      "\u001b[1;31mModuleNotFoundError\u001b[0m                       Traceback (most recent call last)",
      "Cell \u001b[1;32mIn[12], line 2\u001b[0m\n\u001b[0;32m      1\u001b[0m \u001b[38;5;28;01mimport\u001b[39;00m \u001b[38;5;21;01mos\u001b[39;00m\n\u001b[1;32m----> 2\u001b[0m \u001b[38;5;28;01mimport\u001b[39;00m \u001b[38;5;21;01mMeCab\u001b[39;00m\n\u001b[0;32m      3\u001b[0m \u001b[38;5;28;01mfrom\u001b[39;00m \u001b[38;5;21;01mgensim\u001b[39;00m\u001b[38;5;21;01m.\u001b[39;00m\u001b[38;5;21;01mmodels\u001b[39;00m \u001b[38;5;28;01mimport\u001b[39;00m word2vec\n\u001b[0;32m      5\u001b[0m \u001b[38;5;28;01mdef\u001b[39;00m \u001b[38;5;21mtokenizer\u001b[39m(text):\n",
      "\u001b[1;31mModuleNotFoundError\u001b[0m: No module named 'MeCab'"
     ]
    }
   ],
   "source": [
    "import os\n",
    "import MeCab\n",
    "from gensim.models import word2vec\n",
    "\n",
    "def tokenizer(text):\n",
    "    tagger = MeCab.Tagger(\"-O chasen\")\n",
    "    lines = tagger.parse(text).splitlines()\n",
    "    words = []\n",
    "    for word in lines:\n",
    "        chunks = word.split('\\t')\n",
    "        # 数詞のみ除く\n",
    "        if len(chunks) > 3 and (not chunks[3].startswith('名詞-数')):\n",
    "            words.append(chunks[0])\n",
    "    return words"
   ]
  },
  {
   "cell_type": "code",
   "execution_count": null,
   "id": "e94d8b9a-478a-4b43-96d9-15c59ca90d94",
   "metadata": {},
   "outputs": [],
   "source": [
    "import re\n",
    "import mojimoji\n",
    "import ipadic\n",
    "from fugashi import GenericTagger\n",
    "\n",
    "def clean_text(text):\n",
    "    text = mojimoji.han_to_zen(text, digit=False, ascii=False)\n",
    "    text = mojimoji.zen_to_han(text, kana=False)\n",
    "    text = text.lower()\n",
    "    for s in [\"(57)\", \"【要約】\", \"【課題】\", \"【解決手段】\", \"\\r\", \"\\n\", \"<br>\", \"（修正有）\",\"【選択図】\"]:\n",
    "        text = re.sub(s, '', text)\n",
    "    return text\n",
    "\n",
    "def tokenizer(text):\n",
    "    fugger = GenericTagger(ipadic.MECAB_ARGS)\n",
    "    sentence = []\n",
    "    for w in fugger(clean_text(text)):\n",
    "        if(\"名詞\" in w.feature):\n",
    "            sentence.append(w.surface)\n",
    "    return sentence"
   ]
  },
  {
   "cell_type": "code",
   "execution_count": null,
   "id": "4c7cb071-4270-4327-bff3-aa79e9c0914b",
   "metadata": {},
   "outputs": [],
   "source": [
    "import pandas as pd\n",
    "df_input = pd.read_csv('特実_国内文献_B60W4000_B60W5000_20210101-20230109.csv', encoding=\"utf-8\")\n",
    "# df_input = pd.read_csv('./data_JPlatPad/特実_国内文献.csv', encoding=\"utf-8\")"
   ]
  },
  {
   "cell_type": "code",
   "execution_count": null,
   "id": "eb601b48-790c-4781-b474-6c1dfa2e6e43",
   "metadata": {},
   "outputs": [],
   "source": [
    "df_input.dropna(subset=[\"要約\"], inplace=True)"
   ]
  },
  {
   "cell_type": "code",
   "execution_count": null,
   "id": "8dc1e4f0-c0cd-49f0-afb5-91e95403179c",
   "metadata": {},
   "outputs": [],
   "source": [
    "sentences = []\n",
    "for text in df_input[\"要約\"].values:\n",
    "    sentences.append(tokenizer(text))"
   ]
  },
  {
   "cell_type": "code",
   "execution_count": null,
   "id": "d6d4be2a-deb6-4400-bb04-dfa6086643ae",
   "metadata": {},
   "outputs": [],
   "source": [
    "model = word2vec.Word2Vec(sentences, size=100, window=10,\n",
    "                          min_count=3, workers=5, sg=0, hs=0,\n",
    "                          negative=5, cbow_mean=1, sample=1e-3,\n",
    "                          iter=30)"
   ]
  },
  {
   "cell_type": "code",
   "execution_count": null,
   "id": "841bee2a-49b4-4153-bcfa-448c0f60a6dc",
   "metadata": {},
   "outputs": [],
   "source": [
    "def print_most_similar(word, n=5):\n",
    "    print(word)\n",
    "    words = model.wv.most_similar(positive=[word], topn=n)\n",
    "    for i, w in enumerate(words, 1):\n",
    "        print(str(i) + \"    \" + w[0] + \"    \" + str(w[1]))"
   ]
  },
  {
   "cell_type": "code",
   "execution_count": null,
   "id": "786da4ad-6149-4bbf-ade5-2eeffaa39eef",
   "metadata": {},
   "outputs": [],
   "source": [
    "print_most_similar(\"表示\")"
   ]
  },
  {
   "cell_type": "code",
   "execution_count": null,
   "id": "8521ba2a-8510-4e03-a870-64c613c74d06",
   "metadata": {},
   "outputs": [],
   "source": [
    "print_most_similar(\"眠気\")"
   ]
  },
  {
   "cell_type": "code",
   "execution_count": null,
   "id": "823d0860-f279-429f-835c-d28365b6ce73",
   "metadata": {},
   "outputs": [],
   "source": [
    "print_most_similar(\"居眠り\")"
   ]
  },
  {
   "cell_type": "code",
   "execution_count": null,
   "id": "44a883d4-7815-4fa5-9b1a-ac2206af226d",
   "metadata": {},
   "outputs": [],
   "source": [
    "print_most_similar(\"脇見\")"
   ]
  },
  {
   "cell_type": "code",
   "execution_count": null,
   "id": "2434d8a5-0f9d-4208-8af2-6f96dc5605ba",
   "metadata": {},
   "outputs": [],
   "source": [
    "print_most_similar(\"予兆\")"
   ]
  },
  {
   "cell_type": "code",
   "execution_count": null,
   "id": "e67ab5b1-158e-4c8c-8ca9-da731527b0e4",
   "metadata": {},
   "outputs": [],
   "source": [
    "model.wv.most_similar(positive=['眠気', '顔面'])"
   ]
  },
  {
   "cell_type": "code",
   "execution_count": null,
   "id": "d23fbe58-e824-43aa-8b66-6e2d7cfcfe61",
   "metadata": {},
   "outputs": [],
   "source": [
    "model.wv.most_similar(positive=['異常', '予兆'])"
   ]
  },
  {
   "cell_type": "code",
   "execution_count": null,
   "id": "1c34a1a2-fb51-4e2a-b294-fce2ff1c27e8",
   "metadata": {},
   "outputs": [],
   "source": [
    "model.wv.most_similar(positive=['自動', '運転', '表示'])"
   ]
  },
  {
   "cell_type": "code",
   "execution_count": null,
   "id": "ed501e13-1676-4604-9cda-09dc3673fc1a",
   "metadata": {},
   "outputs": [],
   "source": [
    "print_most_similar(\"視線\")"
   ]
  },
  {
   "cell_type": "code",
   "execution_count": null,
   "id": "14bba3ec-0f90-4411-9e8a-e4715bc89b2e",
   "metadata": {},
   "outputs": [],
   "source": []
  },
  {
   "cell_type": "code",
   "execution_count": null,
   "id": "0e2ab38d-c7e2-497f-99db-bdb73db33a8e",
   "metadata": {},
   "outputs": [],
   "source": []
  }
 ],
 "metadata": {
  "kernelspec": {
   "display_name": "Python 3 (ipykernel)",
   "language": "python",
   "name": "python3"
  },
  "language_info": {
   "codemirror_mode": {
    "name": "ipython",
    "version": 3
   },
   "file_extension": ".py",
   "mimetype": "text/x-python",
   "name": "python",
   "nbconvert_exporter": "python",
   "pygments_lexer": "ipython3",
   "version": "3.9.13"
  }
 },
 "nbformat": 4,
 "nbformat_minor": 5
}
