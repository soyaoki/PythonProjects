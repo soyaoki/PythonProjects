{
 "cells": [
  {
   "cell_type": "code",
   "execution_count": 1,
   "id": "87c1528c-aed8-49a7-9398-fcb85ea3a7f7",
   "metadata": {},
   "outputs": [
    {
     "name": "stdout",
     "output_type": "stream",
     "text": [
      "コサイン類似度: tensor([[0.6703]])\n"
     ]
    }
   ],
   "source": [
    "from sentence_transformers import SentenceTransformer, util \n",
    "model = SentenceTransformer('stsb-xlm-r-multilingual') \n",
    " \n",
    "#Sentences are encoded by calling model.encode() \n",
    "emb1 = model.encode(\"今日は天気が悪いです\") \n",
    "emb2 = model.encode(\"今日は雨です\") \n",
    " \n",
    "cos_sim = util.cos_sim(emb1, emb2) \n",
    "print(\"コサイン類似度:\", cos_sim)"
   ]
  },
  {
   "cell_type": "code",
   "execution_count": 2,
   "id": "fe070784-5d1f-4d56-be53-4d15a621ea45",
   "metadata": {},
   "outputs": [],
   "source": [
    "import re\n",
    "import mojimoji\n",
    "\n",
    "def clean_text(text):\n",
    "    text = mojimoji.han_to_zen(text, digit=False, ascii=False)\n",
    "    text = mojimoji.zen_to_han(text, kana=False)\n",
    "    text = text.lower()\n",
    "    for s in [\"(57)\", \"【要約】\", \"【課題】\", \"【解決手段】\", \"\\r\", \"\\n\", \"<br>\", \"（修正有）\",\"【選択図】\"]:\n",
    "        text = re.sub(s, '', text)\n",
    "    return text"
   ]
  },
  {
   "cell_type": "code",
   "execution_count": 3,
   "id": "632585d6-04db-40ef-b1db-b56030cc1be4",
   "metadata": {},
   "outputs": [],
   "source": [
    "import polars as pl\n",
    "# df_input = pl.read_csv('特実_国内文献_B60W4000_B60W5000_20210101-20230109.csv', encoding=\"utf-8\")\n",
    "df_input = pl.read_csv('data_JPlatPat/特実_国内文献.csv', encoding=\"utf-8\")"
   ]
  },
  {
   "cell_type": "code",
   "execution_count": 4,
   "id": "f0d076e4-5570-43e2-96fd-a6e1bef07f47",
   "metadata": {
    "tags": []
   },
   "outputs": [],
   "source": [
    "df_input = df_input.drop_nulls(subset=[\"要約\"])"
   ]
  },
  {
   "cell_type": "code",
   "execution_count": 5,
   "id": "b3633ad8-c399-4ce7-8eff-083ae9d986bc",
   "metadata": {},
   "outputs": [
    {
     "name": "stdout",
     "output_type": "stream",
     "text": [
      "CPU times: total: 48min 59s\n",
      "Wall time: 10min 7s\n"
     ]
    }
   ],
   "source": [
    "%%time\n",
    "document_vecs=[]\n",
    "for doc in df_input[\"要約\"]:\n",
    "    document_vecs.append(model.encode(clean_text(doc)))"
   ]
  },
  {
   "cell_type": "code",
   "execution_count": 6,
   "id": "f81ac959-3d2a-4f43-9a76-400a185a18fb",
   "metadata": {
    "tags": []
   },
   "outputs": [
    {
     "name": "stdout",
     "output_type": "stream",
     "text": [
      "0.5605107\n",
      "ホンダ　リサーチ　インスティテュート　ヨーロッパ　ゲーエムベーハー\n",
      "G08G1/16@C,B60W50/14\n",
      "(57)【要約】      （修正有）\n",
      "【課題】人が動的環境を評価するのを補助する。\n",
      "【解決手段】共通の環境内の少なくとも２つのエンティ<BR>ティの実際の状態についての情報が取得され、第１の将<BR>来状態が予測される。第１の事象に関する事象までの時<BR>間、位置、方向、蓋然性のうちの少なくとも１つが、予<BR>測される。更にエンティティのうちの少なくとも１つに<BR>関する第２の将来状態が予測される。仮定の状態は、実<BR>際の状態のパラメータを変更することによって生成され<BR>る。２つのエンティティを含む第２の事象に関する事象<BR>までの時間、方向、蓋然性、位置のうちの少なくとも１<BR>つが予測される。アクチュエータを駆動するための信号<BR>が生成される。信号は、第１の事象の位置、時間、蓋然<BR>性のうちの少なくとも１つをコード化する情報、第２の<BR>事象の位置、時間、方向、蓋然性のうちの少なくとも１<BR>つをコード化する更なる情報を示し、人がその認知能力<BR>によって認知可能な刺激を発する刺激作用を引き起こす<BR>。\n",
      "【選択図】図７\n",
      "\n",
      "0.5140334\n",
      "株式会社東芝\n",
      "B60W30/095,B60W40/04,B60W40/06,B60W50/14,B60W40/10,G08G1/16@C\n",
      "(57)【要約】      （修正有）\n",
      "【課題】移動体の未来の状態を少ない演算量で予測する<BR>。\n",
      "【解決手段】予測装置４０は、レーン情報取得部５２と<BR>、推定部５６と、予測部５８とを備える。レーン情報取<BR>得部５２は、基準時刻より後において移動体が進行する<BR>可能性がある複数のレーンを表すレーン情報を取得する<BR>。推定部５６は、観測値およびレーン情報に基づき、複<BR>数のレーンに対する移動体の状態の時系列変化量および<BR>複数のレーンのそれぞれに対する移動体が進行する可能<BR>性を示す尤度情報を推定する。予測部５８は、尤度情報<BR>に基づき複数のレーンのうち１または複数の対象レーン<BR>を特定し、特定した対象レーンのそれぞれについて、基<BR>準時刻において取得された観測値に示される移動体の１<BR>または複数の状態を表す現在状態情報、および、時系列<BR>変化量に基づき対応する対象レーンを移動体が進行する<BR>場合における基準時刻より後における移動体の１または<BR>複数の状態を表す予測状態情報を算出する。\n",
      "【選択図】図３\n",
      "\n",
      "0.5029097\n",
      "京セラ株式会社\n",
      "B60K35/00@Z,B60W50/14,G09G5/00,550@C,G09G5/36,520@K,G09G5/38@A,G09G5/00,510@A,B60R11/02@C,G09G5/37,310,G09G5/38,100\n",
      "(57)【要約】\n",
      "【課題】乗り物酔いの抑制性を向上する。\n",
      "【解決手段】表示装置１０は取得部１１と表示部１２と<BR>制御部１４とを有する。取得部１１は元情報を取得する<BR>。元情報は移動体の姿勢および動作の少なくとも一方の<BR>変化を予測させる。表示部１２は移動体の内部において<BR>画像を表示する。制御部１４は表示部１２を制御する。<BR>制御部１４は複数のパターン像を配列方向に沿って配列<BR>させるように表示部１２に表示させる。パターン像は移<BR>動体内で同じ方向に延びるように見える部分を有する。<BR>制御部１４は移動体の姿勢および動作の少なくとも一方<BR>の予測される変化に応じて変化前に表示部に表示させる<BR>複数のパターン像の姿勢および位置の少なくとも一方を<BR>変化させる。\n",
      "【選択図】図１\n",
      "\n",
      "0.45743403\n",
      "日産自動車株式会社\n",
      "B60W50/14,G01C21/00@A,G01C21/26@A,G06F17/30,340@B,G06F16/903\n",
      "(57)【要約】\n",
      "【課題】  状況にそぐわないシステム挙動を早い段階で<BR>回避できる運転行動予測装置を提供する。\n",
      "【解決手段】  想定外事象の連続発生回数Ｎを計数する<BR>想定外事象発生回数計数部7と、車両や装置の内部状態<BR>に従って想定外事象の連続発生回数を見かけ上増加させ<BR>る想定外事象発生見なし回数判定部8と、個々の地点に<BR>対する想定外事象の見なし発生回数に応じて、当該地点<BR>への移動が予測される旨の通知を条件付きでもしくは無<BR>条件で停止する想定行動通知制御部9と、を備えた。\n",
      "【選択図】  図１\n",
      "\n",
      "0.45241413\n",
      "マツダ株式会社\n",
      "B60K41/00,386,B60K41/00,442,B60K41/00,610@Z,B60K41/00,612@J,B60R21/00@Z,B60R21/00,620@Z,B60R21/00,624@C,B60R21/00,624@D,B60R21/00,624@F,B60R21/00,626@B,B60R21/00,626@E,B60R21/00,627,B60R21/00,628@E,B60W30/00,B60W40/08,190,B60W40/09,G05D1/02@K,G08G1/16@C,B60R21/00,991,B60R21/00,992\n",
      "(57)【要約】\n",
      "【目的】  車線変更時においても、的確に走行路を推定<BR>する。\n",
      "【構成】  車線変更手段２９ａによって、走行路推定手<BR>段６Ｃによる左右白線についての推定値が、進行路推定<BR>手段６Ｂによる推定値と異なることを検出して、推定値<BR>の不一致に基づいて車線変更を判断する。不一致の推定<BR>値が一定時間に継続され、かつ進行路推定手段６Ｂによ<BR>る推定値が徐々に小さくなってきたときに、車線変更で<BR>あると判断する。車線変更時に、車両前方所定距離まで<BR>は車両状態量に基づく進行路推定手段６Ｂによる推定値<BR>を用い、それを越えると画像処理に基づく走行路推定手<BR>段６Ｃによる推定値を用いて、走行領域推定手段２９に<BR>よって走行路を推定する。\n",
      "\n",
      "0.45210522\n",
      "パナソニックＩＰマネジメント株式会社\n",
      "G08G1/123@A,G08G1/00@X,B60W40/08\n",
      "(57)【要約】\n",
      "【課題】乗車者の支援を行いつつ車両の拘束時間が長く<BR>なることを抑制できる情報処理装置を提供すること。\n",
      "【解決手段】情報処理装置５は、車両の乗車者の降車地<BR>点の情報を取得する降車地点取得部５２２と、乗車者の<BR>覚醒状態を推定する覚醒状態推定部５２６と、覚醒状態<BR>推定部５２６における推定結果に基づいて、所定のタイ<BR>ミングで、車両の行先を降車地点から変更するか否かを<BR>判定する行先変更判定部５２７と、を備える。\n",
      "【選択図】図１\n",
      "\n",
      "0.43756625\n",
      "三菱電機株式会社\n",
      "G08G1/16@C,B60W50/08,G01C21/26@A,B60W60/00\n",
      "(57)【要約】\n",
      "  現在時刻から先の時間に起こり得る車両の状況を、第<BR>１の表示装置（４ａ）、第２の表示装置（４ｂ）および<BR>第３の表示装置（４ｃ）に表示し、第２の表示装置（４<BR>ｂ）の表示内容が、第１の表示装置（４ａ）に表示した<BR>車両の状況よりも先の時間に起こり得る車両の状況を含<BR>むように表示内容を制御し、第３の表示装置（４ｃ）の<BR>表示内容が、第２の表示装置（４ｂ）に表示した車両の<BR>状況よりも先の時間に起こり得る車両の状況を含むよう<BR>に表示内容を制御する。\n",
      "\n",
      "0.43648803\n",
      "株式会社豊田自動織機\n",
      "B60K35/00@Z,B60W50/14,B66F9/24@Z\n",
      "(57)【要約】\n",
      "【課題】モードに適した表示を行うこと。\n",
      "【解決手段】前後に移動するための標準モードに加えて<BR>左右に移動するための横移動モードを設定できるフォー<BR>クリフト１１には、表示装置が搭載されている。表示装<BR>置は、ディスプレイ３５と制御部とから構成されている<BR>。制御部は、選択されたモードに応じて、ディスプレイ<BR>３５に表示される表示内容を変更し、現在の操舵方向、<BR>現在の進行方向、及び、モードに応じた操舵可能な範囲<BR>をディスプレイ３５に表示している。\n",
      "【選択図】図４\n",
      "\n",
      "0.4358538\n",
      "本田技研工業株式会社\n",
      "G08G1/16@C,B60W30/00,B60W30/02,B60W30/08,B60W50/08\n",
      "(57)【要約】\n",
      "【課題】車道と、車道と異なる所定領域との双方を移動<BR>可能な移動体に関して、車道から所定領域への進入時に<BR>おいて適切な制御を行うこと。\n",
      "【解決手段】一以上の乗員が搭乗し、車道と、車道と異<BR>なる所定領域との双方を移動可能な移動体の制御装置で<BR>あって、前記移動体が車道を移動しており、前記連絡部<BR>が前記移動体から第１所定範囲内に認識され、且つ前記<BR>道路状況が所定の状態である場合、前記移動体の速度を<BR>前記第２速度に近づける移動体の制御装置。\n",
      "【選択図】図１\n",
      "\n",
      "0.43281573\n",
      "株式会社ジェイテクト,株式会社豊田中央研究所\n",
      "B62D6/00,B60W50/16,B60W60/00\n",
      "(57)【要約】\n",
      "【課題】ドライバの支援システムへの操作権限の委譲意<BR>図に合った、運転支援による移動体の運動制御を行うこ<BR>とができるようにする。\n",
      "【解決手段】トルクセンサ１６によって、操作トルクを<BR>入力し、意図推定部４８によって、支援システムへの操<BR>作権限の委譲意図を推定する。車両運動推定部５０によ<BR>って、支援システムへの操作権限の委譲意図が推定され<BR>た時点からの、初期の操舵トルクの変化に基づいて、後<BR>に発生する車両運動を推定する。操舵制御修正部５２に<BR>よって、後に発生する車両運動に基づいて、支援システ<BR>ムへの操作権限の委譲意図に合った車両運動となるよう<BR>に、支援システムによる操舵制御を修正する。\n",
      "【選択図】図２\n",
      "\n"
     ]
    }
   ],
   "source": [
    "input_vec = model.encode(\"夜間と昼間で変更する\")\n",
    "\n",
    "#コサイン類似度の計算＋ランキング化\n",
    "import numpy as np\n",
    "rank_size = 10\n",
    " \n",
    "v1 = np.linalg.norm(input_vec)\n",
    "cos_sim = []\n",
    "for v2 in document_vecs:\n",
    "    cos_sim.append( np.dot(input_vec,v2)/(v1*np.linalg.norm(v2)) )\n",
    "doc_sort = np.argsort(np.array(cos_sim))[::-1]\n",
    "cos_sort = sorted(cos_sim,reverse=True)\n",
    " \n",
    "for i in range(rank_size):\n",
    "    print(cos_sort[i])\n",
    "    print(df_input[\"出願人/権利者\"][int(doc_sort[i])])\n",
    "    print(df_input[\"FI\"][int(doc_sort[i])])\n",
    "    print(df_input[\"要約\"][int(doc_sort[i])])\n",
    "    "
   ]
  },
  {
   "cell_type": "code",
   "execution_count": 7,
   "id": "a908c41a-2646-4145-9c1e-d2af246f8b61",
   "metadata": {},
   "outputs": [],
   "source": [
    "import matplotlib.pyplot as plt\n",
    "%matplotlib inline"
   ]
  },
  {
   "cell_type": "code",
   "execution_count": 8,
   "id": "6f0dfc10-1928-4bab-923e-c0b9f6dbbde5",
   "metadata": {},
   "outputs": [
    {
     "name": "stdout",
     "output_type": "stream",
     "text": [
      "CPU times: total: 31.2 ms\n",
      "Wall time: 24.7 ms\n"
     ]
    }
   ],
   "source": [
    "%%time\n",
    "FIs=[]\n",
    "for FI in df_input[\"FI\"]:\n",
    "    for s in FI.split(','):\n",
    "        if(s[0].isdigit()):\n",
    "            FIs.pop(-1)\n",
    "            FIs.append(s_prev + \",\" + s)\n",
    "            s_prev = \"\"\n",
    "        else:\n",
    "            FIs.append(s)\n",
    "            s_prev = s"
   ]
  },
  {
   "cell_type": "code",
   "execution_count": 12,
   "id": "5267bc4c-e9bd-427f-b0c0-6ce81ca957a7",
   "metadata": {},
   "outputs": [
    {
     "data": {
      "image/png": "[encoded data removed]",
      "text/plain": [
       "<Figure size 640x480 with 1 Axes>"
      ]
     },
     "metadata": {},
     "output_type": "display_data"
    }
   ],
   "source": [
    "pl.Series(FIs).value_counts().sort(\"counts\", reverse=True)[0:15].to_pandas().plot(kind='bar');"
   ]
  },
  {
   "cell_type": "code",
   "execution_count": 10,
   "id": "fe08490f-680c-4fff-a778-527d7cad3a0c",
   "metadata": {},
   "outputs": [],
   "source": [
    "import pickle\n",
    "\n",
    "def pickle_dump(obj, path):\n",
    "    with open(path, mode='wb') as f:\n",
    "        pickle.dump(obj,f)\n",
    "\n",
    "def pickle_load(path):\n",
    "    with open(path, mode='rb') as f:\n",
    "        data = pickle.load(f)\n",
    "        return data"
   ]
  },
  {
   "cell_type": "code",
   "execution_count": 11,
   "id": "50b0f42b-8d65-411c-a9b6-ff3e946ed214",
   "metadata": {},
   "outputs": [],
   "source": [
    "df_input.to_pickle(\"df_input_default.pkl\")"
   ]
  },
  {
   "cell_type": "code",
   "execution_count": 12,
   "id": "9befca36-bfe9-4eae-89fa-f009f26d005d",
   "metadata": {},
   "outputs": [],
   "source": [
    "pickle_dump(document_vecs, './document_vecs_default.pkl')"
   ]
  },
  {
   "cell_type": "code",
   "execution_count": null,
   "id": "d391616f-6c06-4aff-85ee-c8c7914c8fd0",
   "metadata": {},
   "outputs": [],
   "source": []
  }
 ],
 "metadata": {
  "kernelspec": {
   "display_name": "Python 3 (ipykernel)",
   "language": "python",
   "name": "python3"
  },
  "language_info": {
   "codemirror_mode": {
    "name": "ipython",
    "version": 3
   },
   "file_extension": ".py",
   "mimetype": "text/x-python",
   "name": "python",
   "nbconvert_exporter": "python",
   "pygments_lexer": "ipython3",
   "version": "3.9.13"
  }
 },
 "nbformat": 4,
 "nbformat_minor": 5
}
