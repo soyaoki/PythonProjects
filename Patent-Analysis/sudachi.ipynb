{
 "cells": [
  {
   "cell_type": "code",
   "execution_count": 1,
   "id": "7d07e3b5-5f94-41b7-afce-c096598a44ea",
   "metadata": {},
   "outputs": [],
   "source": [
    "# pip3.9.exe install sudachipy sudachidict_core"
   ]
  },
  {
   "cell_type": "code",
   "execution_count": 2,
   "id": "bf992bc4-868f-449d-a85c-cc13f96e02f5",
   "metadata": {},
   "outputs": [],
   "source": [
    "from sudachipy import tokenizer\n",
    "from sudachipy import dictionary\n",
    "\n",
    "tokenizer_obj = dictionary.Dictionary().create()"
   ]
  },
  {
   "cell_type": "code",
   "execution_count": 3,
   "id": "ed63c82a-acfb-4454-8fad-b7e0d15ec277",
   "metadata": {},
   "outputs": [
    {
     "data": {
      "text/plain": [
       "['国家', '公務', '員']"
      ]
     },
     "execution_count": 3,
     "metadata": {},
     "output_type": "execute_result"
    }
   ],
   "source": [
    "# Multi-granular Tokenization\n",
    "\n",
    "mode = tokenizer.Tokenizer.SplitMode.C\n",
    "[m.surface() for m in tokenizer_obj.tokenize(\"国家公務員\", mode)]\n",
    "# => ['国家公務員']\n",
    "\n",
    "mode = tokenizer.Tokenizer.SplitMode.B\n",
    "[m.surface() for m in tokenizer_obj.tokenize(\"国家公務員\", mode)]\n",
    "# => ['国家', '公務員']\n",
    "\n",
    "mode = tokenizer.Tokenizer.SplitMode.A\n",
    "[m.surface() for m in tokenizer_obj.tokenize(\"国家公務員\", mode)]\n",
    "# => ['国家', '公務', '員']"
   ]
  },
  {
   "cell_type": "code",
   "execution_count": 4,
   "id": "eae54d65-731a-46e3-874e-aef4b7a028e6",
   "metadata": {},
   "outputs": [
    {
     "data": {
      "text/plain": [
       "('動詞', '一般', '*', '*', '下一段-バ行', '連用形-一般')"
      ]
     },
     "execution_count": 4,
     "metadata": {},
     "output_type": "execute_result"
    }
   ],
   "source": [
    "# Morpheme information\n",
    "\n",
    "m = tokenizer_obj.tokenize(\"食べ\", mode)[0]\n",
    "\n",
    "m.surface() # => '食べ'\n",
    "m.dictionary_form() # => '食べる'\n",
    "m.reading_form() # => 'タベ'\n",
    "m.part_of_speech() # => ['動詞', '一般', '*', '*', '下一段-バ行', '連用形-一般']"
   ]
  },
  {
   "cell_type": "code",
   "execution_count": 5,
   "id": "492a4700-21a8-47be-a0e9-773ed2595b02",
   "metadata": {},
   "outputs": [
    {
     "data": {
      "text/plain": [
       "'シミュレーション'"
      ]
     },
     "execution_count": 5,
     "metadata": {},
     "output_type": "execute_result"
    }
   ],
   "source": [
    "# Normalization\n",
    "\n",
    "tokenizer_obj.tokenize(\"附属\", mode)[0].normalized_form()\n",
    "# => '付属'\n",
    "tokenizer_obj.tokenize(\"SUMMER\", mode)[0].normalized_form()\n",
    "# => 'サマー'\n",
    "tokenizer_obj.tokenize(\"シュミレーション\", mode)[0].normalized_form()\n",
    "# => 'シミュレーション'"
   ]
  },
  {
   "cell_type": "code",
   "execution_count": null,
   "id": "010d91d6-cba3-4260-868a-241fc4f41069",
   "metadata": {},
   "outputs": [],
   "source": []
  }
 ],
 "metadata": {
  "kernelspec": {
   "display_name": "Python 3 (ipykernel)",
   "language": "python",
   "name": "python3"
  },
  "language_info": {
   "codemirror_mode": {
    "name": "ipython",
    "version": 3
   },
   "file_extension": ".py",
   "mimetype": "text/x-python",
   "name": "python",
   "nbconvert_exporter": "python",
   "pygments_lexer": "ipython3",
   "version": "3.9.13"
  }
 },
 "nbformat": 4,
 "nbformat_minor": 5
}
