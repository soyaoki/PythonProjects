{
 "cells": [
  {
   "cell_type": "markdown",
   "id": "f004f8d8-c8b5-4fd5-b16e-9afb9423682d",
   "metadata": {},
   "source": [
    "# (1)既存モデルの活用：　サイズが大きすぎて使えるか微妙…"
   ]
  },
  {
   "cell_type": "code",
   "execution_count": 1,
   "id": "f40c073e-545c-4f69-92d6-5fd13a32c207",
   "metadata": {},
   "outputs": [
    {
     "name": "stdout",
     "output_type": "stream",
     "text": [
      "CPU times: total: 7.14 s\n",
      "Wall time: 9.74 s\n"
     ]
    }
   ],
   "source": [
    "%%time\n",
    "from gensim.models.doc2vec import Doc2Vec\n",
    "model = Doc2Vec.load(\"./jawiki.doc2vec.dbow300d/jawiki.doc2vec.dbow300d.model\")"
   ]
  },
  {
   "cell_type": "markdown",
   "id": "8d440659-390f-4ac8-9e34-cfa2ba5cf22d",
   "metadata": {},
   "source": [
    "# (2)自作モデルの作成：　精度が出るかわからない…"
   ]
  },
  {
   "cell_type": "code",
   "execution_count": 2,
   "id": "6d38a506-f9b5-4169-a65a-40a88fc92025",
   "metadata": {},
   "outputs": [],
   "source": [
    "from gensim.models.doc2vec import Doc2Vec\n",
    "from gensim.models.doc2vec import TaggedDocument"
   ]
  },
  {
   "cell_type": "code",
   "execution_count": 3,
   "id": "f2dd5b2b-d599-4096-bc78-ee321db6d5a5",
   "metadata": {},
   "outputs": [],
   "source": [
    "import re\n",
    "import mojimoji\n",
    "import ipadic\n",
    "from fugashi import GenericTagger\n",
    "\n",
    "def clean_text(text):\n",
    "    text = mojimoji.han_to_zen(text, digit=False, ascii=False)\n",
    "    text = mojimoji.zen_to_han(text, kana=False)\n",
    "    text = text.lower()\n",
    "    for s in [\"(57)\", \"【要約】\", \"【課題】\", \"【解決手段】\", \"\\r\", \"\\n\", \"<br>\", \"（修正有）\",\"【選択図】\"]:\n",
    "        text = re.sub(s, '', text)\n",
    "    return text\n",
    "\n",
    "def tokenizer(text):\n",
    "    fugger = GenericTagger(ipadic.MECAB_ARGS)\n",
    "    sentence = []\n",
    "    for w in fugger(clean_text(text)):\n",
    "        if(\"名詞\" in w.feature):\n",
    "            sentence.append(w.surface)\n",
    "    return sentence"
   ]
  },
  {
   "cell_type": "code",
   "execution_count": 4,
   "id": "93e7be9c-ec97-4e7b-bc35-f48b0eaec027",
   "metadata": {},
   "outputs": [],
   "source": [
    "import pandas as pd\n",
    "# df_input = pd.read_csv('特実_国内文献_B60W4000_B60W5000_20210101-20230109.csv', encoding=\"utf-8\")\n",
    "df_input = pd.read_csv('data_JPlatPat/特実_国内文献.csv', encoding=\"utf-8\")"
   ]
  },
  {
   "cell_type": "code",
   "execution_count": 5,
   "id": "31de8350-8937-419c-8c16-68f8394ebfa3",
   "metadata": {},
   "outputs": [],
   "source": [
    "df_input.dropna(subset=[\"要約\"], inplace=True)"
   ]
  },
  {
   "cell_type": "code",
   "execution_count": 6,
   "id": "c1eccd5b-b7c0-42a1-816d-a93b20aeb99c",
   "metadata": {},
   "outputs": [],
   "source": [
    "sentences = []\n",
    "for text in df_input[\"要約\"].values:\n",
    "    sentences.append(tokenizer(text))"
   ]
  },
  {
   "cell_type": "code",
   "execution_count": 7,
   "id": "821d004a-361f-4cae-8baf-87e053711cad",
   "metadata": {},
   "outputs": [],
   "source": [
    "# words：1文書ずつ、単語に分割したリスト\n",
    "# tags：文書識別用のタグ情報（リストで指定でき、複数のタグをつけることも可能）\n",
    "# for文1回あたりの入力イメージは[TaggedDocument([単語1,単語2,単語3,......],[文書タグ])]\n",
    "trainings = [TaggedDocument(words = sentences[i],tags = [str(i)]) for i in range(len(sentences))]\n",
    "\n",
    "# 学習\n",
    "model = Doc2Vec(documents= trainings, dm = 1, vector_size=100, window=8, min_count=10, workers=4, epochs=100)\n",
    "\n",
    "# モデルの保存(\"hogehoge\"というファイル名で保存)\n",
    "# model.save(\"../model/hogehoge.model\")"
   ]
  },
  {
   "cell_type": "code",
   "execution_count": 8,
   "id": "7e3f2f8c-0d3e-49ba-9ebf-38365c2fa738",
   "metadata": {},
   "outputs": [
    {
     "name": "stdout",
     "output_type": "stream",
     "text": [
      "[('864', 0.7185385227203369), ('27', 0.49857428669929504), ('28', 0.4761306047439575)]\n"
     ]
    }
   ],
   "source": [
    "# モデルのロード(既に学習済みのモデルがある場合)\n",
    "# model = Doc2Vec.load(\"../model/hogehoge.model\")\n",
    "\n",
    "# 文書タグ0(1つ目の文書)と類似している文書を上から3件(topnで指定)取得し、文書タグと類似度のセットが返ってくる\n",
    "tag = \"0\"\n",
    "print (model.docvecs.most_similar(tag, topn=3))"
   ]
  },
  {
   "cell_type": "code",
   "execution_count": 9,
   "id": "be40bf38-06bf-45a8-8b74-117c85b8cadb",
   "metadata": {},
   "outputs": [
    {
     "data": {
      "text/plain": [
       "['車両',\n",
       " '車両',\n",
       " '状態',\n",
       " '車両',\n",
       " '周囲',\n",
       " '走行',\n",
       " '環境',\n",
       " 'ドライバ',\n",
       " '運転',\n",
       " '意図',\n",
       " '精度',\n",
       " '推定',\n",
       " '運転',\n",
       " '意図',\n",
       " '推定',\n",
       " '装置',\n",
       " '提供',\n",
       " '運転',\n",
       " '意図',\n",
       " '推定',\n",
       " '装置',\n",
       " 'それぞれ',\n",
       " '運転',\n",
       " '意図',\n",
       " '複数',\n",
       " '仮想',\n",
       " 'ドライバ',\n",
       " '設定',\n",
       " '仮想',\n",
       " 'ドライバ',\n",
       " '運転',\n",
       " '操作',\n",
       " '量',\n",
       " '車両',\n",
       " '走行',\n",
       " '環境',\n",
       " '算出',\n",
       " '仮想',\n",
       " 'ドライバ',\n",
       " '運転',\n",
       " '操作',\n",
       " '量',\n",
       " 'ドライバ',\n",
       " '運転',\n",
       " '操作',\n",
       " '量',\n",
       " '近似',\n",
       " '度合',\n",
       " 'ドライバ',\n",
       " '運転',\n",
       " '意図',\n",
       " '車線',\n",
       " '変更',\n",
       " '場合',\n",
       " '車線',\n",
       " '維持',\n",
       " '場合',\n",
       " '尤',\n",
       " '度',\n",
       " 'それぞれ',\n",
       " '算出',\n",
       " 'ドライバ',\n",
       " '運転',\n",
       " '意図',\n",
       " '判定',\n",
       " '際',\n",
       " '基準',\n",
       " '値',\n",
       " '車両',\n",
       " '走行',\n",
       " '状況',\n",
       " '設定',\n",
       " '設定',\n",
       " '基準',\n",
       " '値',\n",
       " '車線',\n",
       " '変更',\n",
       " '尤',\n",
       " '度',\n",
       " '車線',\n",
       " '維持',\n",
       " '尤',\n",
       " '度',\n",
       " 'ドライバ',\n",
       " '運転',\n",
       " '意図',\n",
       " '推定',\n",
       " '図',\n",
       " '1']"
      ]
     },
     "execution_count": 9,
     "metadata": {},
     "output_type": "execute_result"
    }
   ],
   "source": [
    "sentences[0]"
   ]
  },
  {
   "cell_type": "code",
   "execution_count": 10,
   "id": "fe8493bb-a86b-4979-ad0c-ab7d65c6ccc9",
   "metadata": {},
   "outputs": [
    {
     "data": {
      "text/plain": [
       "['車両',\n",
       " '制御',\n",
       " '装置',\n",
       " '12',\n",
       " '制御',\n",
       " '手段',\n",
       " '24',\n",
       " '車両',\n",
       " '10',\n",
       " '所定',\n",
       " '条件',\n",
       " '成立',\n",
       " '時',\n",
       " '押圧',\n",
       " 'スイッチ',\n",
       " '16',\n",
       " '押圧',\n",
       " '操作',\n",
       " '駆動',\n",
       " '源',\n",
       " '30',\n",
       " '作動',\n",
       " '状態',\n",
       " '車載',\n",
       " '機器',\n",
       " '電源',\n",
       " '供給',\n",
       " '状態',\n",
       " '制御',\n",
       " '禁止',\n",
       " '制御',\n",
       " '手段',\n",
       " '24',\n",
       " '車両',\n",
       " '10',\n",
       " '異常',\n",
       " '状態',\n",
       " '発生',\n",
       " '検出',\n",
       " '場合',\n",
       " '前記',\n",
       " '所定',\n",
       " '条件',\n",
       " '成立',\n",
       " '押圧',\n",
       " 'スイッチ',\n",
       " '16',\n",
       " '押圧',\n",
       " '操作',\n",
       " '制御',\n",
       " '許可']"
      ]
     },
     "execution_count": 10,
     "metadata": {},
     "output_type": "execute_result"
    }
   ],
   "source": [
    "sentences[432]"
   ]
  },
  {
   "cell_type": "code",
   "execution_count": 11,
   "id": "cffabdb3-458f-47d1-9107-3ca046283ffb",
   "metadata": {},
   "outputs": [
    {
     "data": {
      "text/plain": [
       "['車両',\n",
       " 'レーン',\n",
       " 'マーカ',\n",
       " '相対',\n",
       " '的',\n",
       " '関係',\n",
       " '検出',\n",
       " '場合',\n",
       " 'ドライバ',\n",
       " '運転',\n",
       " '意図',\n",
       " '安定',\n",
       " '的',\n",
       " '推定',\n",
       " '運転',\n",
       " '意図',\n",
       " '推定',\n",
       " '装置',\n",
       " '提供',\n",
       " '運転',\n",
       " '意図',\n",
       " '推定',\n",
       " '装置',\n",
       " 'レーン',\n",
       " 'マーカ',\n",
       " '検出',\n",
       " '場合',\n",
       " '車両',\n",
       " 'レーン',\n",
       " 'マーカ',\n",
       " '相対',\n",
       " '位置',\n",
       " '関係',\n",
       " 'それぞれ',\n",
       " '運転',\n",
       " '意図',\n",
       " '複数',\n",
       " '仮想',\n",
       " 'ドライバ',\n",
       " '設定',\n",
       " '運転',\n",
       " '者',\n",
       " '運転',\n",
       " '操作',\n",
       " '量',\n",
       " '仮想',\n",
       " 'ドライバ',\n",
       " '運転',\n",
       " '操作',\n",
       " '量',\n",
       " '比較',\n",
       " '運転',\n",
       " '者',\n",
       " '運転',\n",
       " '意図',\n",
       " '推定',\n",
       " 'レーン',\n",
       " 'マーカ',\n",
       " '検出',\n",
       " '場合',\n",
       " '車両',\n",
       " '先行',\n",
       " '車',\n",
       " '相対',\n",
       " '位置',\n",
       " '関係',\n",
       " '算出',\n",
       " '車両',\n",
       " '車線',\n",
       " '内',\n",
       " '横',\n",
       " '位置',\n",
       " '複数',\n",
       " '仮想',\n",
       " 'ドライバ',\n",
       " '設定',\n",
       " 'レーン',\n",
       " 'マーカ',\n",
       " '検出',\n",
       " '状況',\n",
       " '仮想',\n",
       " 'ドライバ',\n",
       " '運転',\n",
       " '操作',\n",
       " '量',\n",
       " '算出',\n",
       " '方法',\n",
       " '選択',\n",
       " '図',\n",
       " '1']"
      ]
     },
     "execution_count": 11,
     "metadata": {},
     "output_type": "execute_result"
    }
   ],
   "source": [
    "sentences[864]"
   ]
  },
  {
   "cell_type": "code",
   "execution_count": 12,
   "id": "d0c0c00f-7020-45cf-9483-3dd695a8bd15",
   "metadata": {},
   "outputs": [],
   "source": [
    "#ベクトル化\n",
    "document_vecs=[]\n",
    "for i in range(len(sentences)):\n",
    "    document_vecs.append(model.infer_vector(sentences[i], epochs=30))"
   ]
  },
  {
   "cell_type": "code",
   "execution_count": 13,
   "id": "f500a4db-9304-4b8f-9fbc-a0ae25502e13",
   "metadata": {},
   "outputs": [],
   "source": [
    "input_vec = model.infer_vector(tokenizer(\"自動運転中の表示\"), epochs=30)"
   ]
  },
  {
   "cell_type": "code",
   "execution_count": 14,
   "id": "4c275eb7-7710-4033-bfe9-efc61eb733b2",
   "metadata": {},
   "outputs": [
    {
     "name": "stdout",
     "output_type": "stream",
     "text": [
      "0.6725564\n",
      "(57)【要約】\n",
      "【課題】運転者自身の運転傾向を、実際の走行中の運転<BR>状況と対応させて視覚的に理解することが可能な運転支<BR>援技術を提供する。\n",
      "【解決手段】運転支援装置１は走行中に記録された車両<BR>の運転情報に基づき解析した運転傾向の診断結果を運転<BR>者に提示する。運転支援装置１は、運転傾向を解析する<BR>とともに運転情報として記録された実際の走行中の運転<BR>映像１２１と解析した運転傾向の診断結果とを表示装置<BR>２０１に表示させる制御部１０を備える。\n",
      "【選択図】図１\n",
      "\n",
      "0.66264313\n",
      "(57)【要約】\n",
      "【課題】運転者自身の運転傾向を、実際の走行中の運転<BR>状況と対応させて視覚的に理解することが可能な運転支<BR>援技術を提供する。\n",
      "【解決手段】運転支援装置１は走行中に記録された車両<BR>の運転情報に基づき解析した運転傾向の診断結果を運転<BR>者に提示する。運転支援装置１は、運転傾向を解析する<BR>とともに運転情報として記録された実際の走行中の運転<BR>映像１２１と解析した運転傾向の診断結果とを表示装置<BR>２０１に表示させる制御部１０を備える。\n",
      "【選択図】図１\n",
      "\n",
      "0.61991954\n",
      "(57)【要約】\n",
      "【課題】運転者自身の運転傾向を、実際の走行中の運転<BR>状況と対応させて視覚的に理解することが可能な運転支<BR>援技術を提供する。\n",
      "【解決手段】運転支援装置１は走行中に記録された車両<BR>の運転情報に基づき解析した運転傾向の診断結果を運転<BR>者に提示する。運転支援装置１は、運転傾向を解析する<BR>とともに運転情報として記録された実際の走行中の運転<BR>映像１２１と解析した運転傾向の診断結果とを表示装置<BR>２０１に表示させる制御部１０を備える。\n",
      "【選択図】図１\n",
      "\n",
      "0.6123591\n",
      "(57)【要約】\n",
      "【課題】通勤時間帯や通学時間帯において、交通安全を<BR>重視した走行をできるようにした自動運転車を提供する<BR>。\n",
      "【解決手段】手動運転モードと、自律走行を行う自動運<BR>転モードとを有する自動運転車である。通勤時間帯及び<BR>／又は通学時間帯を検知する検知手段と、走行中、駐車<BR>中あるいは停車中に、検知手段で通勤時間帯及び／又は<BR>通学時間帯を検知したことに基づいて、手動運転モード<BR>中である場合には、自動運転モードに切り替え、かつ、<BR>自動運転モード中である場合には、手動運転モードへの<BR>切り替えを不可又は禁止する運転モード制御手段とを備<BR>える。\n",
      "【選択図】図１\n",
      "\n",
      "0.57421476\n",
      "(57)【要約】\n",
      "  車両モニタおよび車両をモニタする方法\n",
      "【選択図】  図１\n",
      "\n"
     ]
    }
   ],
   "source": [
    "#コサイン類似度の計算＋ランキング化\n",
    "import numpy as np\n",
    "rank_size = 5\n",
    " \n",
    "v1 = np.linalg.norm(input_vec)\n",
    "cos_sim = []\n",
    "for v2 in document_vecs:\n",
    "    cos_sim.append( np.dot(input_vec,v2)/(v1*np.linalg.norm(v2)) )\n",
    "doc_sort = np.argsort(np.array(cos_sim))[::-1]\n",
    "cos_sort = sorted(cos_sim,reverse=True)\n",
    " \n",
    "for i in range(rank_size):\n",
    "    print(cos_sort[i])\n",
    "    print(df_input[\"要約\"].values[doc_sort[i]])"
   ]
  },
  {
   "cell_type": "code",
   "execution_count": null,
   "id": "2d5b72ff-6844-4fd4-a180-59ad24e62acf",
   "metadata": {},
   "outputs": [],
   "source": []
  }
 ],
 "metadata": {
  "kernelspec": {
   "display_name": "Python 3 (ipykernel)",
   "language": "python",
   "name": "python3"
  },
  "language_info": {
   "codemirror_mode": {
    "name": "ipython",
    "version": 3
   },
   "file_extension": ".py",
   "mimetype": "text/x-python",
   "name": "python",
   "nbconvert_exporter": "python",
   "pygments_lexer": "ipython3",
   "version": "3.9.13"
  }
 },
 "nbformat": 4,
 "nbformat_minor": 5
}
